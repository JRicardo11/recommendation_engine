{
 "cells": [
  {
   "cell_type": "markdown",
   "metadata": {
    "id": "IzNHGTq1i55n"
   },
   "source": [
    "### Author\n",
    "Group C: Fidelis Mnyanyi, Lucas Holstein, Michael Wagdy, Ricardo Santos, Siddhi Dhavale, Tomas Susedik\n",
    "\n",
    "### Last revision\n",
    "03/November/2020\n",
    "\n",
    "### Group Assignment\n",
    "Recommendation Engines"
   ]
  },
  {
   "cell_type": "markdown",
   "metadata": {
    "id": "i03ls6eCi550"
   },
   "source": [
    "---"
   ]
  },
  {
   "cell_type": "markdown",
   "metadata": {
    "id": "FwG75PL3i552"
   },
   "source": [
    "## 1. Setting up the environment\n",
    "### 1.1 Packages"
   ]
  },
  {
   "cell_type": "code",
   "execution_count": 1,
   "metadata": {
    "colab": {
     "base_uri": "https://localhost:8080/",
     "height": 367
    },
    "executionInfo": {
     "elapsed": 1161,
     "status": "error",
     "timestamp": 1605555193318,
     "user": {
      "displayName": "Lucas Holstein",
      "photoUrl": "",
      "userId": "07076694079280137451"
     },
     "user_tz": -60
    },
    "id": "utRn_edIi554",
    "outputId": "ccd5f000-6151-4fd8-b06e-271eaf2a7302"
   },
   "outputs": [],
   "source": [
    "import pandas as pd\n",
    "import numpy as np\n",
    "import json\n",
    "import datetime\n",
    "from sklearn.metrics.pairwise import linear_kernel\n",
    "from surprise.model_selection import GridSearchCV\n",
    "from surprise import SVD\n",
    "from surprise import SVDpp\n",
    "from surprise import BaselineOnly\n",
    "from surprise import NMF\n",
    "from surprise import SlopeOne\n",
    "from surprise import CoClustering\n",
    "from surprise import KNNBaseline\n",
    "from surprise.model_selection import cross_validate\n",
    "from surprise import NormalPredictor\n",
    "from surprise import accuracy\n",
    "import random\n"
   ]
  },
  {
   "cell_type": "markdown",
   "metadata": {
    "id": "zMGa-EY7i56H"
   },
   "source": [
    "### 1.2 Reading the database file"
   ]
  },
  {
   "cell_type": "code",
   "execution_count": 2,
   "metadata": {
    "colab": {
     "base_uri": "https://localhost:8080/",
     "height": 180
    },
    "executionInfo": {
     "elapsed": 2243,
     "status": "error",
     "timestamp": 1605555194407,
     "user": {
      "displayName": "Lucas Holstein",
      "photoUrl": "",
      "userId": "07076694079280137451"
     },
     "user_tz": -60
    },
    "id": "cOOzFccUi56J",
    "outputId": "6688075b-9fca-4014-98eb-bfd4599d5548"
   },
   "outputs": [],
   "source": [
    "with open('reviews_Musical_Instruments_5.json') as handle:\n",
    "    json_data = [json.loads(line) for line in handle]"
   ]
  },
  {
   "cell_type": "code",
   "execution_count": 3,
   "metadata": {
    "executionInfo": {
     "elapsed": 2194,
     "status": "aborted",
     "timestamp": 1605555194363,
     "user": {
      "displayName": "Lucas Holstein",
      "photoUrl": "",
      "userId": "07076694079280137451"
     },
     "user_tz": -60
    },
    "id": "ZWGfRoAci56S"
   },
   "outputs": [],
   "source": [
    "df = pd.DataFrame(json_data, columns = ['reviewerID', 'asin', 'reviewerName', 'helpful', 'reviewText', 'overall', 'summary', 'unixReviewTime', 'reviewTime'])"
   ]
  },
  {
   "cell_type": "code",
   "execution_count": 4,
   "metadata": {
    "executionInfo": {
     "elapsed": 2184,
     "status": "aborted",
     "timestamp": 1605555194365,
     "user": {
      "displayName": "Lucas Holstein",
      "photoUrl": "",
      "userId": "07076694079280137451"
     },
     "user_tz": -60
    },
    "id": "VKSXdKPbi56Z"
   },
   "outputs": [
    {
     "data": {
      "text/plain": [
       "(10261, 9)"
      ]
     },
     "execution_count": 4,
     "metadata": {},
     "output_type": "execute_result"
    }
   ],
   "source": [
    "df.shape"
   ]
  },
  {
   "cell_type": "markdown",
   "metadata": {
    "id": "h0VhTWKni56l"
   },
   "source": [
    "### 1.3 First look at the database"
   ]
  },
  {
   "cell_type": "code",
   "execution_count": 5,
   "metadata": {
    "executionInfo": {
     "elapsed": 2170,
     "status": "aborted",
     "timestamp": 1605555194366,
     "user": {
      "displayName": "Lucas Holstein",
      "photoUrl": "",
      "userId": "07076694079280137451"
     },
     "user_tz": -60
    },
    "id": "8WXgec35i56n"
   },
   "outputs": [
    {
     "data": {
      "text/html": [
       "<div>\n",
       "<style scoped>\n",
       "    .dataframe tbody tr th:only-of-type {\n",
       "        vertical-align: middle;\n",
       "    }\n",
       "\n",
       "    .dataframe tbody tr th {\n",
       "        vertical-align: top;\n",
       "    }\n",
       "\n",
       "    .dataframe thead th {\n",
       "        text-align: right;\n",
       "    }\n",
       "</style>\n",
       "<table border=\"1\" class=\"dataframe\">\n",
       "  <thead>\n",
       "    <tr style=\"text-align: right;\">\n",
       "      <th></th>\n",
       "      <th>reviewerID</th>\n",
       "      <th>asin</th>\n",
       "      <th>reviewerName</th>\n",
       "      <th>helpful</th>\n",
       "      <th>reviewText</th>\n",
       "      <th>overall</th>\n",
       "      <th>summary</th>\n",
       "      <th>unixReviewTime</th>\n",
       "      <th>reviewTime</th>\n",
       "    </tr>\n",
       "  </thead>\n",
       "  <tbody>\n",
       "    <tr>\n",
       "      <th>4012</th>\n",
       "      <td>A1HZRYGGNMOWRQ</td>\n",
       "      <td>B0009G1E0K</td>\n",
       "      <td>Joseph F. Bierley</td>\n",
       "      <td>[8, 10]</td>\n",
       "      <td>Very nice quality, inexpensive guitar strap. A...</td>\n",
       "      <td>5.0</td>\n",
       "      <td>Protec Guitar Strap</td>\n",
       "      <td>1313020800</td>\n",
       "      <td>08 11, 2011</td>\n",
       "    </tr>\n",
       "  </tbody>\n",
       "</table>\n",
       "</div>"
      ],
      "text/plain": [
       "          reviewerID        asin       reviewerName  helpful  \\\n",
       "4012  A1HZRYGGNMOWRQ  B0009G1E0K  Joseph F. Bierley  [8, 10]   \n",
       "\n",
       "                                             reviewText  overall  \\\n",
       "4012  Very nice quality, inexpensive guitar strap. A...      5.0   \n",
       "\n",
       "                  summary  unixReviewTime   reviewTime  \n",
       "4012  Protec Guitar Strap      1313020800  08 11, 2011  "
      ]
     },
     "execution_count": 5,
     "metadata": {},
     "output_type": "execute_result"
    }
   ],
   "source": [
    "df.sample(1)"
   ]
  },
  {
   "cell_type": "markdown",
   "metadata": {
    "id": "CorVlU-Li56u"
   },
   "source": [
    "Let's quickly visualize the dataset to ensure that everything looks good"
   ]
  },
  {
   "cell_type": "code",
   "execution_count": 6,
   "metadata": {
    "executionInfo": {
     "elapsed": 2158,
     "status": "aborted",
     "timestamp": 1605555194367,
     "user": {
      "displayName": "Lucas Holstein",
      "photoUrl": "",
      "userId": "07076694079280137451"
     },
     "user_tz": -60
    },
    "id": "jKRSGD5zi56w"
   },
   "outputs": [
    {
     "data": {
      "text/html": [
       "<div>\n",
       "<style scoped>\n",
       "    .dataframe tbody tr th:only-of-type {\n",
       "        vertical-align: middle;\n",
       "    }\n",
       "\n",
       "    .dataframe tbody tr th {\n",
       "        vertical-align: top;\n",
       "    }\n",
       "\n",
       "    .dataframe thead th {\n",
       "        text-align: right;\n",
       "    }\n",
       "</style>\n",
       "<table border=\"1\" class=\"dataframe\">\n",
       "  <thead>\n",
       "    <tr style=\"text-align: right;\">\n",
       "      <th></th>\n",
       "      <th>reviewerID</th>\n",
       "      <th>asin</th>\n",
       "      <th>reviewerName</th>\n",
       "      <th>helpful</th>\n",
       "      <th>reviewText</th>\n",
       "      <th>overall</th>\n",
       "      <th>summary</th>\n",
       "      <th>unixReviewTime</th>\n",
       "      <th>reviewTime</th>\n",
       "    </tr>\n",
       "  </thead>\n",
       "  <tbody>\n",
       "    <tr>\n",
       "      <th>0</th>\n",
       "      <td>A2IBPI20UZIR0U</td>\n",
       "      <td>1384719342</td>\n",
       "      <td>cassandra tu \"Yeah, well, that's just like, u...</td>\n",
       "      <td>[0, 0]</td>\n",
       "      <td>Not much to write about here, but it does exac...</td>\n",
       "      <td>5.0</td>\n",
       "      <td>good</td>\n",
       "      <td>1393545600</td>\n",
       "      <td>02 28, 2014</td>\n",
       "    </tr>\n",
       "    <tr>\n",
       "      <th>1</th>\n",
       "      <td>A14VAT5EAX3D9S</td>\n",
       "      <td>1384719342</td>\n",
       "      <td>Jake</td>\n",
       "      <td>[13, 14]</td>\n",
       "      <td>The product does exactly as it should and is q...</td>\n",
       "      <td>5.0</td>\n",
       "      <td>Jake</td>\n",
       "      <td>1363392000</td>\n",
       "      <td>03 16, 2013</td>\n",
       "    </tr>\n",
       "    <tr>\n",
       "      <th>2</th>\n",
       "      <td>A195EZSQDW3E21</td>\n",
       "      <td>1384719342</td>\n",
       "      <td>Rick Bennette \"Rick Bennette\"</td>\n",
       "      <td>[1, 1]</td>\n",
       "      <td>The primary job of this device is to block the...</td>\n",
       "      <td>5.0</td>\n",
       "      <td>It Does The Job Well</td>\n",
       "      <td>1377648000</td>\n",
       "      <td>08 28, 2013</td>\n",
       "    </tr>\n",
       "    <tr>\n",
       "      <th>3</th>\n",
       "      <td>A2C00NNG1ZQQG2</td>\n",
       "      <td>1384719342</td>\n",
       "      <td>RustyBill \"Sunday Rocker\"</td>\n",
       "      <td>[0, 0]</td>\n",
       "      <td>Nice windscreen protects my MXL mic and preven...</td>\n",
       "      <td>5.0</td>\n",
       "      <td>GOOD WINDSCREEN FOR THE MONEY</td>\n",
       "      <td>1392336000</td>\n",
       "      <td>02 14, 2014</td>\n",
       "    </tr>\n",
       "    <tr>\n",
       "      <th>4</th>\n",
       "      <td>A94QU4C90B1AX</td>\n",
       "      <td>1384719342</td>\n",
       "      <td>SEAN MASLANKA</td>\n",
       "      <td>[0, 0]</td>\n",
       "      <td>This pop filter is great. It looks and perform...</td>\n",
       "      <td>5.0</td>\n",
       "      <td>No more pops when I record my vocals.</td>\n",
       "      <td>1392940800</td>\n",
       "      <td>02 21, 2014</td>\n",
       "    </tr>\n",
       "  </tbody>\n",
       "</table>\n",
       "</div>"
      ],
      "text/plain": [
       "       reviewerID        asin  \\\n",
       "0  A2IBPI20UZIR0U  1384719342   \n",
       "1  A14VAT5EAX3D9S  1384719342   \n",
       "2  A195EZSQDW3E21  1384719342   \n",
       "3  A2C00NNG1ZQQG2  1384719342   \n",
       "4   A94QU4C90B1AX  1384719342   \n",
       "\n",
       "                                       reviewerName   helpful  \\\n",
       "0  cassandra tu \"Yeah, well, that's just like, u...    [0, 0]   \n",
       "1                                              Jake  [13, 14]   \n",
       "2                     Rick Bennette \"Rick Bennette\"    [1, 1]   \n",
       "3                         RustyBill \"Sunday Rocker\"    [0, 0]   \n",
       "4                                     SEAN MASLANKA    [0, 0]   \n",
       "\n",
       "                                          reviewText  overall  \\\n",
       "0  Not much to write about here, but it does exac...      5.0   \n",
       "1  The product does exactly as it should and is q...      5.0   \n",
       "2  The primary job of this device is to block the...      5.0   \n",
       "3  Nice windscreen protects my MXL mic and preven...      5.0   \n",
       "4  This pop filter is great. It looks and perform...      5.0   \n",
       "\n",
       "                                 summary  unixReviewTime   reviewTime  \n",
       "0                                   good      1393545600  02 28, 2014  \n",
       "1                                   Jake      1363392000  03 16, 2013  \n",
       "2                   It Does The Job Well      1377648000  08 28, 2013  \n",
       "3          GOOD WINDSCREEN FOR THE MONEY      1392336000  02 14, 2014  \n",
       "4  No more pops when I record my vocals.      1392940800  02 21, 2014  "
      ]
     },
     "execution_count": 6,
     "metadata": {},
     "output_type": "execute_result"
    }
   ],
   "source": [
    "df.head()"
   ]
  },
  {
   "cell_type": "markdown",
   "metadata": {
    "id": "iUlzNDLMi57B"
   },
   "source": [
    "## 2. Understanding database properties\n",
    "### 2.1 Shape"
   ]
  },
  {
   "cell_type": "code",
   "execution_count": 7,
   "metadata": {
    "executionInfo": {
     "elapsed": 2148,
     "status": "aborted",
     "timestamp": 1605555194369,
     "user": {
      "displayName": "Lucas Holstein",
      "photoUrl": "",
      "userId": "07076694079280137451"
     },
     "user_tz": -60
    },
    "id": "LMKbpec0i57C"
   },
   "outputs": [
    {
     "data": {
      "text/plain": [
       "(10261, 9)"
      ]
     },
     "execution_count": 7,
     "metadata": {},
     "output_type": "execute_result"
    }
   ],
   "source": [
    "df.shape"
   ]
  },
  {
   "cell_type": "code",
   "execution_count": 8,
   "metadata": {
    "executionInfo": {
     "elapsed": 2131,
     "status": "aborted",
     "timestamp": 1605555194370,
     "user": {
      "displayName": "Lucas Holstein",
      "photoUrl": "",
      "userId": "07076694079280137451"
     },
     "user_tz": -60
    },
    "id": "kZmNfbF8i57I"
   },
   "outputs": [
    {
     "name": "stdout",
     "output_type": "stream",
     "text": [
      "Dataset shape: (10261, 9)\n",
      "-Dataset examples-\n",
      "       reviewerID        asin  \\\n",
      "0  A2IBPI20UZIR0U  1384719342   \n",
      "\n",
      "                                       reviewerName helpful  \\\n",
      "0  cassandra tu \"Yeah, well, that's just like, u...  [0, 0]   \n",
      "\n",
      "                                          reviewText  overall summary  \\\n",
      "0  Not much to write about here, but it does exac...      5.0    good   \n",
      "\n",
      "   unixReviewTime   reviewTime  \n",
      "0      1393545600  02 28, 2014  \n"
     ]
    }
   ],
   "source": [
    "print('Dataset shape: {}'.format(df.shape))\n",
    "print('-Dataset examples-')\n",
    "print(df.iloc[::20000, :])"
   ]
  },
  {
   "cell_type": "markdown",
   "metadata": {
    "id": "2lT_HU-Ii57O"
   },
   "source": [
    "### 2.2 Dates"
   ]
  },
  {
   "cell_type": "code",
   "execution_count": 9,
   "metadata": {
    "executionInfo": {
     "elapsed": 2134,
     "status": "aborted",
     "timestamp": 1605555194384,
     "user": {
      "displayName": "Lucas Holstein",
      "photoUrl": "",
      "userId": "07076694079280137451"
     },
     "user_tz": -60
    },
    "id": "ahhIASCni57O"
   },
   "outputs": [
    {
     "data": {
      "text/html": [
       "<div>\n",
       "<style scoped>\n",
       "    .dataframe tbody tr th:only-of-type {\n",
       "        vertical-align: middle;\n",
       "    }\n",
       "\n",
       "    .dataframe tbody tr th {\n",
       "        vertical-align: top;\n",
       "    }\n",
       "\n",
       "    .dataframe thead th {\n",
       "        text-align: right;\n",
       "    }\n",
       "</style>\n",
       "<table border=\"1\" class=\"dataframe\">\n",
       "  <thead>\n",
       "    <tr style=\"text-align: right;\">\n",
       "      <th></th>\n",
       "      <th>reviewerID</th>\n",
       "      <th>productID</th>\n",
       "      <th>reviewerName</th>\n",
       "      <th>helpful</th>\n",
       "      <th>reviewText</th>\n",
       "      <th>rating</th>\n",
       "      <th>summary</th>\n",
       "      <th>reviewDate</th>\n",
       "    </tr>\n",
       "  </thead>\n",
       "  <tbody>\n",
       "    <tr>\n",
       "      <th>735</th>\n",
       "      <td>A3K6M4WXNTYQEM</td>\n",
       "      <td>B0002D0B4K</td>\n",
       "      <td>Keane O'Kelley</td>\n",
       "      <td>[0, 0]</td>\n",
       "      <td>I'm using them to angle my speakers up in addi...</td>\n",
       "      <td>3.0</td>\n",
       "      <td>They work</td>\n",
       "      <td>2013-08-07</td>\n",
       "    </tr>\n",
       "  </tbody>\n",
       "</table>\n",
       "</div>"
      ],
      "text/plain": [
       "         reviewerID   productID    reviewerName helpful  \\\n",
       "735  A3K6M4WXNTYQEM  B0002D0B4K  Keane O'Kelley  [0, 0]   \n",
       "\n",
       "                                            reviewText  rating    summary  \\\n",
       "735  I'm using them to angle my speakers up in addi...     3.0  They work   \n",
       "\n",
       "    reviewDate  \n",
       "735 2013-08-07  "
      ]
     },
     "execution_count": 9,
     "metadata": {},
     "output_type": "execute_result"
    }
   ],
   "source": [
    "del(df['reviewTime'])\n",
    "df.rename(columns = {'asin':'productID', 'overall':'rating', 'unixReviewTime':'reviewDate'}, inplace = True)\n",
    "df['reviewDate'] = pd.to_datetime(df['reviewDate'], unit = 's')\n",
    "df.sample(1)"
   ]
  },
  {
   "cell_type": "markdown",
   "metadata": {
    "id": "bjlr0cCli57U"
   },
   "source": [
    "### 2.3 Null values"
   ]
  },
  {
   "cell_type": "code",
   "execution_count": 10,
   "metadata": {
    "executionInfo": {
     "elapsed": 2125,
     "status": "aborted",
     "timestamp": 1605555194386,
     "user": {
      "displayName": "Lucas Holstein",
      "photoUrl": "",
      "userId": "07076694079280137451"
     },
     "user_tz": -60
    },
    "id": "aQUB4iMXi57V"
   },
   "outputs": [
    {
     "data": {
      "text/plain": [
       "reviewerID       0\n",
       "productID        0\n",
       "reviewerName    27\n",
       "helpful          0\n",
       "reviewText       0\n",
       "rating           0\n",
       "summary          0\n",
       "reviewDate       0\n",
       "dtype: int64"
      ]
     },
     "execution_count": 10,
     "metadata": {},
     "output_type": "execute_result"
    }
   ],
   "source": [
    "df.isnull().sum()"
   ]
  },
  {
   "cell_type": "code",
   "execution_count": 11,
   "metadata": {
    "executionInfo": {
     "elapsed": 2116,
     "status": "aborted",
     "timestamp": 1605555194387,
     "user": {
      "displayName": "Lucas Holstein",
      "photoUrl": "",
      "userId": "07076694079280137451"
     },
     "user_tz": -60
    },
    "id": "BDNU_cYji57a"
   },
   "outputs": [
    {
     "data": {
      "text/plain": [
       "(10234, 8)"
      ]
     },
     "execution_count": 11,
     "metadata": {},
     "output_type": "execute_result"
    }
   ],
   "source": [
    "df = df.dropna()\n",
    "df.shape"
   ]
  },
  {
   "cell_type": "markdown",
   "metadata": {
    "id": "BDKcjJ72i57e"
   },
   "source": [
    "### 2.4 Distinct values"
   ]
  },
  {
   "cell_type": "code",
   "execution_count": 12,
   "metadata": {
    "executionInfo": {
     "elapsed": 2107,
     "status": "aborted",
     "timestamp": 1605555194388,
     "user": {
      "displayName": "Lucas Holstein",
      "photoUrl": "",
      "userId": "07076694079280137451"
     },
     "user_tz": -60
    },
    "id": "6P3_lbE2i57f"
   },
   "outputs": [
    {
     "data": {
      "text/plain": [
       "ADH0O8UVJOT10     42\n",
       "A1L7M2JXN4EZCR    38\n",
       "A15TYOEWBQYF0X    38\n",
       "A2EZWZ8MBEDOLN    36\n",
       "A2NYK9KWFMJV4Y    34\n",
       "                  ..\n",
       "A3BMYEA3J6RBVV     4\n",
       "A3CVZRPQH1PFQ5     4\n",
       "A2T8JRVJRVNX8R     4\n",
       "AKP6IWJ24C1A5      3\n",
       "AA5TINW2RJ195      2\n",
       "Name: reviewerID, Length: 1428, dtype: int64"
      ]
     },
     "execution_count": 12,
     "metadata": {},
     "output_type": "execute_result"
    }
   ],
   "source": [
    "df.reviewerID.value_counts()"
   ]
  },
  {
   "cell_type": "code",
   "execution_count": 13,
   "metadata": {
    "executionInfo": {
     "elapsed": 2099,
     "status": "aborted",
     "timestamp": 1605555194389,
     "user": {
      "displayName": "Lucas Holstein",
      "photoUrl": "",
      "userId": "07076694079280137451"
     },
     "user_tz": -60
    },
    "id": "nvRLTzgci57l"
   },
   "outputs": [
    {
     "data": {
      "text/plain": [
       "B003VWJ2K8    163\n",
       "B0002E1G5C    143\n",
       "B0002F7K7Y    116\n",
       "B003VWKPHC    114\n",
       "B0002H0A3S     93\n",
       "             ... \n",
       "B0018PZR86      5\n",
       "B000SZVYLQ      4\n",
       "B0002CZVB4      4\n",
       "B000CBE3GE      4\n",
       "B003CLIPHO      4\n",
       "Name: productID, Length: 900, dtype: int64"
      ]
     },
     "execution_count": 13,
     "metadata": {},
     "output_type": "execute_result"
    }
   ],
   "source": [
    "df.productID.value_counts()"
   ]
  },
  {
   "cell_type": "markdown",
   "metadata": {
    "id": "_VIrrHeRi57q"
   },
   "source": [
    "### 2.5 Adjust 'helpful' column"
   ]
  },
  {
   "cell_type": "code",
   "execution_count": 14,
   "metadata": {
    "executionInfo": {
     "elapsed": 2088,
     "status": "aborted",
     "timestamp": 1605555194390,
     "user": {
      "displayName": "Lucas Holstein",
      "photoUrl": "",
      "userId": "07076694079280137451"
     },
     "user_tz": -60
    },
    "id": "HgFyt6jGi57r"
   },
   "outputs": [
    {
     "data": {
      "text/html": [
       "<div>\n",
       "<style scoped>\n",
       "    .dataframe tbody tr th:only-of-type {\n",
       "        vertical-align: middle;\n",
       "    }\n",
       "\n",
       "    .dataframe tbody tr th {\n",
       "        vertical-align: top;\n",
       "    }\n",
       "\n",
       "    .dataframe thead th {\n",
       "        text-align: right;\n",
       "    }\n",
       "</style>\n",
       "<table border=\"1\" class=\"dataframe\">\n",
       "  <thead>\n",
       "    <tr style=\"text-align: right;\">\n",
       "      <th></th>\n",
       "      <th>reviewerID</th>\n",
       "      <th>productID</th>\n",
       "      <th>reviewerName</th>\n",
       "      <th>reviewText</th>\n",
       "      <th>rating</th>\n",
       "      <th>summary</th>\n",
       "      <th>reviewDate</th>\n",
       "      <th>num_helpful</th>\n",
       "      <th>num_reviews</th>\n",
       "      <th>helpful_ratio</th>\n",
       "    </tr>\n",
       "  </thead>\n",
       "  <tbody>\n",
       "    <tr>\n",
       "      <th>3690</th>\n",
       "      <td>A2WYAHJGST6AOT</td>\n",
       "      <td>B0006NDF8A</td>\n",
       "      <td>Matt</td>\n",
       "      <td>This is a great stand, it looks the same as an...</td>\n",
       "      <td>5.0</td>\n",
       "      <td>Way better than the musicians gear</td>\n",
       "      <td>2014-02-23</td>\n",
       "      <td>0</td>\n",
       "      <td>0</td>\n",
       "      <td>0.0</td>\n",
       "    </tr>\n",
       "  </tbody>\n",
       "</table>\n",
       "</div>"
      ],
      "text/plain": [
       "          reviewerID   productID reviewerName  \\\n",
       "3690  A2WYAHJGST6AOT  B0006NDF8A         Matt   \n",
       "\n",
       "                                             reviewText  rating  \\\n",
       "3690  This is a great stand, it looks the same as an...     5.0   \n",
       "\n",
       "                                 summary reviewDate  num_helpful  num_reviews  \\\n",
       "3690  Way better than the musicians gear 2014-02-23            0            0   \n",
       "\n",
       "      helpful_ratio  \n",
       "3690            0.0  "
      ]
     },
     "execution_count": 14,
     "metadata": {},
     "output_type": "execute_result"
    }
   ],
   "source": [
    "helpfulness = pd.DataFrame(df['helpful'])\n",
    "helpfulness[['num_helpful','num_reviews']] = pd.DataFrame(df.helpful.tolist(), index= helpfulness.index)\n",
    "helpfulness['helpful_ratio'] = helpfulness['num_helpful']/helpfulness['num_reviews']\n",
    "helpfulness['helpful_ratio'] = helpfulness['helpful_ratio'].fillna(0)\n",
    "del(helpfulness['helpful'])\n",
    "df = pd.concat([df, helpfulness], axis = 1, sort = False)\n",
    "del(df['helpful'])\n",
    "df.sample(1)"
   ]
  },
  {
   "cell_type": "markdown",
   "metadata": {
    "id": "Y0B--hOXi57w"
   },
   "source": [
    "### 2.6 Distribution of ratings"
   ]
  },
  {
   "cell_type": "code",
   "execution_count": 15,
   "metadata": {
    "executionInfo": {
     "elapsed": 2079,
     "status": "aborted",
     "timestamp": 1605555194391,
     "user": {
      "displayName": "Lucas Holstein",
      "photoUrl": "",
      "userId": "07076694079280137451"
     },
     "user_tz": -60
    },
    "id": "3vln40yMi57y"
   },
   "outputs": [
    {
     "data": {
      "text/html": [
       "        <script type=\"text/javascript\">\n",
       "        window.PlotlyConfig = {MathJaxConfig: 'local'};\n",
       "        if (window.MathJax) {MathJax.Hub.Config({SVG: {font: \"STIX-Web\"}});}\n",
       "        if (typeof require !== 'undefined') {\n",
       "        require.undef(\"plotly\");\n",
       "        requirejs.config({\n",
       "            paths: {\n",
       "                'plotly': ['https://cdn.plot.ly/plotly-latest.min']\n",
       "            }\n",
       "        });\n",
       "        require(['plotly'], function(Plotly) {\n",
       "            window._Plotly = Plotly;\n",
       "        });\n",
       "        }\n",
       "        </script>\n",
       "        "
      ]
     },
     "metadata": {},
     "output_type": "display_data"
    },
    {
     "data": {
      "application/vnd.plotly.v1+json": {
       "config": {
        "linkText": "Export to plot.ly",
        "plotlyServerURL": "https://plot.ly",
        "showLink": false
       },
       "data": [
        {
         "text": [
          "67.6 %",
          "20.3 %",
          "7.5 %",
          "2.4 %",
          "2.1 %"
         ],
         "textfont": {
          "color": "#000000"
         },
         "textposition": "auto",
         "type": "bar",
         "x": [
          5,
          4,
          3,
          2,
          1
         ],
         "y": [
          6918,
          2080,
          771,
          249,
          216
         ]
        }
       ],
       "layout": {
        "template": {
         "data": {
          "bar": [
           {
            "error_x": {
             "color": "#2a3f5f"
            },
            "error_y": {
             "color": "#2a3f5f"
            },
            "marker": {
             "line": {
              "color": "#E5ECF6",
              "width": 0.5
             }
            },
            "type": "bar"
           }
          ],
          "barpolar": [
           {
            "marker": {
             "line": {
              "color": "#E5ECF6",
              "width": 0.5
             }
            },
            "type": "barpolar"
           }
          ],
          "carpet": [
           {
            "aaxis": {
             "endlinecolor": "#2a3f5f",
             "gridcolor": "white",
             "linecolor": "white",
             "minorgridcolor": "white",
             "startlinecolor": "#2a3f5f"
            },
            "baxis": {
             "endlinecolor": "#2a3f5f",
             "gridcolor": "white",
             "linecolor": "white",
             "minorgridcolor": "white",
             "startlinecolor": "#2a3f5f"
            },
            "type": "carpet"
           }
          ],
          "choropleth": [
           {
            "colorbar": {
             "outlinewidth": 0,
             "ticks": ""
            },
            "type": "choropleth"
           }
          ],
          "contour": [
           {
            "colorbar": {
             "outlinewidth": 0,
             "ticks": ""
            },
            "colorscale": [
             [
              0,
              "#0d0887"
             ],
             [
              0.1111111111111111,
              "#46039f"
             ],
             [
              0.2222222222222222,
              "#7201a8"
             ],
             [
              0.3333333333333333,
              "#9c179e"
             ],
             [
              0.4444444444444444,
              "#bd3786"
             ],
             [
              0.5555555555555556,
              "#d8576b"
             ],
             [
              0.6666666666666666,
              "#ed7953"
             ],
             [
              0.7777777777777778,
              "#fb9f3a"
             ],
             [
              0.8888888888888888,
              "#fdca26"
             ],
             [
              1,
              "#f0f921"
             ]
            ],
            "type": "contour"
           }
          ],
          "contourcarpet": [
           {
            "colorbar": {
             "outlinewidth": 0,
             "ticks": ""
            },
            "type": "contourcarpet"
           }
          ],
          "heatmap": [
           {
            "colorbar": {
             "outlinewidth": 0,
             "ticks": ""
            },
            "colorscale": [
             [
              0,
              "#0d0887"
             ],
             [
              0.1111111111111111,
              "#46039f"
             ],
             [
              0.2222222222222222,
              "#7201a8"
             ],
             [
              0.3333333333333333,
              "#9c179e"
             ],
             [
              0.4444444444444444,
              "#bd3786"
             ],
             [
              0.5555555555555556,
              "#d8576b"
             ],
             [
              0.6666666666666666,
              "#ed7953"
             ],
             [
              0.7777777777777778,
              "#fb9f3a"
             ],
             [
              0.8888888888888888,
              "#fdca26"
             ],
             [
              1,
              "#f0f921"
             ]
            ],
            "type": "heatmap"
           }
          ],
          "heatmapgl": [
           {
            "colorbar": {
             "outlinewidth": 0,
             "ticks": ""
            },
            "colorscale": [
             [
              0,
              "#0d0887"
             ],
             [
              0.1111111111111111,
              "#46039f"
             ],
             [
              0.2222222222222222,
              "#7201a8"
             ],
             [
              0.3333333333333333,
              "#9c179e"
             ],
             [
              0.4444444444444444,
              "#bd3786"
             ],
             [
              0.5555555555555556,
              "#d8576b"
             ],
             [
              0.6666666666666666,
              "#ed7953"
             ],
             [
              0.7777777777777778,
              "#fb9f3a"
             ],
             [
              0.8888888888888888,
              "#fdca26"
             ],
             [
              1,
              "#f0f921"
             ]
            ],
            "type": "heatmapgl"
           }
          ],
          "histogram": [
           {
            "marker": {
             "colorbar": {
              "outlinewidth": 0,
              "ticks": ""
             }
            },
            "type": "histogram"
           }
          ],
          "histogram2d": [
           {
            "colorbar": {
             "outlinewidth": 0,
             "ticks": ""
            },
            "colorscale": [
             [
              0,
              "#0d0887"
             ],
             [
              0.1111111111111111,
              "#46039f"
             ],
             [
              0.2222222222222222,
              "#7201a8"
             ],
             [
              0.3333333333333333,
              "#9c179e"
             ],
             [
              0.4444444444444444,
              "#bd3786"
             ],
             [
              0.5555555555555556,
              "#d8576b"
             ],
             [
              0.6666666666666666,
              "#ed7953"
             ],
             [
              0.7777777777777778,
              "#fb9f3a"
             ],
             [
              0.8888888888888888,
              "#fdca26"
             ],
             [
              1,
              "#f0f921"
             ]
            ],
            "type": "histogram2d"
           }
          ],
          "histogram2dcontour": [
           {
            "colorbar": {
             "outlinewidth": 0,
             "ticks": ""
            },
            "colorscale": [
             [
              0,
              "#0d0887"
             ],
             [
              0.1111111111111111,
              "#46039f"
             ],
             [
              0.2222222222222222,
              "#7201a8"
             ],
             [
              0.3333333333333333,
              "#9c179e"
             ],
             [
              0.4444444444444444,
              "#bd3786"
             ],
             [
              0.5555555555555556,
              "#d8576b"
             ],
             [
              0.6666666666666666,
              "#ed7953"
             ],
             [
              0.7777777777777778,
              "#fb9f3a"
             ],
             [
              0.8888888888888888,
              "#fdca26"
             ],
             [
              1,
              "#f0f921"
             ]
            ],
            "type": "histogram2dcontour"
           }
          ],
          "mesh3d": [
           {
            "colorbar": {
             "outlinewidth": 0,
             "ticks": ""
            },
            "type": "mesh3d"
           }
          ],
          "parcoords": [
           {
            "line": {
             "colorbar": {
              "outlinewidth": 0,
              "ticks": ""
             }
            },
            "type": "parcoords"
           }
          ],
          "pie": [
           {
            "automargin": true,
            "type": "pie"
           }
          ],
          "scatter": [
           {
            "marker": {
             "colorbar": {
              "outlinewidth": 0,
              "ticks": ""
             }
            },
            "type": "scatter"
           }
          ],
          "scatter3d": [
           {
            "line": {
             "colorbar": {
              "outlinewidth": 0,
              "ticks": ""
             }
            },
            "marker": {
             "colorbar": {
              "outlinewidth": 0,
              "ticks": ""
             }
            },
            "type": "scatter3d"
           }
          ],
          "scattercarpet": [
           {
            "marker": {
             "colorbar": {
              "outlinewidth": 0,
              "ticks": ""
             }
            },
            "type": "scattercarpet"
           }
          ],
          "scattergeo": [
           {
            "marker": {
             "colorbar": {
              "outlinewidth": 0,
              "ticks": ""
             }
            },
            "type": "scattergeo"
           }
          ],
          "scattergl": [
           {
            "marker": {
             "colorbar": {
              "outlinewidth": 0,
              "ticks": ""
             }
            },
            "type": "scattergl"
           }
          ],
          "scattermapbox": [
           {
            "marker": {
             "colorbar": {
              "outlinewidth": 0,
              "ticks": ""
             }
            },
            "type": "scattermapbox"
           }
          ],
          "scatterpolar": [
           {
            "marker": {
             "colorbar": {
              "outlinewidth": 0,
              "ticks": ""
             }
            },
            "type": "scatterpolar"
           }
          ],
          "scatterpolargl": [
           {
            "marker": {
             "colorbar": {
              "outlinewidth": 0,
              "ticks": ""
             }
            },
            "type": "scatterpolargl"
           }
          ],
          "scatterternary": [
           {
            "marker": {
             "colorbar": {
              "outlinewidth": 0,
              "ticks": ""
             }
            },
            "type": "scatterternary"
           }
          ],
          "surface": [
           {
            "colorbar": {
             "outlinewidth": 0,
             "ticks": ""
            },
            "colorscale": [
             [
              0,
              "#0d0887"
             ],
             [
              0.1111111111111111,
              "#46039f"
             ],
             [
              0.2222222222222222,
              "#7201a8"
             ],
             [
              0.3333333333333333,
              "#9c179e"
             ],
             [
              0.4444444444444444,
              "#bd3786"
             ],
             [
              0.5555555555555556,
              "#d8576b"
             ],
             [
              0.6666666666666666,
              "#ed7953"
             ],
             [
              0.7777777777777778,
              "#fb9f3a"
             ],
             [
              0.8888888888888888,
              "#fdca26"
             ],
             [
              1,
              "#f0f921"
             ]
            ],
            "type": "surface"
           }
          ],
          "table": [
           {
            "cells": {
             "fill": {
              "color": "#EBF0F8"
             },
             "line": {
              "color": "white"
             }
            },
            "header": {
             "fill": {
              "color": "#C8D4E3"
             },
             "line": {
              "color": "white"
             }
            },
            "type": "table"
           }
          ]
         },
         "layout": {
          "annotationdefaults": {
           "arrowcolor": "#2a3f5f",
           "arrowhead": 0,
           "arrowwidth": 1
          },
          "coloraxis": {
           "colorbar": {
            "outlinewidth": 0,
            "ticks": ""
           }
          },
          "colorscale": {
           "diverging": [
            [
             0,
             "#8e0152"
            ],
            [
             0.1,
             "#c51b7d"
            ],
            [
             0.2,
             "#de77ae"
            ],
            [
             0.3,
             "#f1b6da"
            ],
            [
             0.4,
             "#fde0ef"
            ],
            [
             0.5,
             "#f7f7f7"
            ],
            [
             0.6,
             "#e6f5d0"
            ],
            [
             0.7,
             "#b8e186"
            ],
            [
             0.8,
             "#7fbc41"
            ],
            [
             0.9,
             "#4d9221"
            ],
            [
             1,
             "#276419"
            ]
           ],
           "sequential": [
            [
             0,
             "#0d0887"
            ],
            [
             0.1111111111111111,
             "#46039f"
            ],
            [
             0.2222222222222222,
             "#7201a8"
            ],
            [
             0.3333333333333333,
             "#9c179e"
            ],
            [
             0.4444444444444444,
             "#bd3786"
            ],
            [
             0.5555555555555556,
             "#d8576b"
            ],
            [
             0.6666666666666666,
             "#ed7953"
            ],
            [
             0.7777777777777778,
             "#fb9f3a"
            ],
            [
             0.8888888888888888,
             "#fdca26"
            ],
            [
             1,
             "#f0f921"
            ]
           ],
           "sequentialminus": [
            [
             0,
             "#0d0887"
            ],
            [
             0.1111111111111111,
             "#46039f"
            ],
            [
             0.2222222222222222,
             "#7201a8"
            ],
            [
             0.3333333333333333,
             "#9c179e"
            ],
            [
             0.4444444444444444,
             "#bd3786"
            ],
            [
             0.5555555555555556,
             "#d8576b"
            ],
            [
             0.6666666666666666,
             "#ed7953"
            ],
            [
             0.7777777777777778,
             "#fb9f3a"
            ],
            [
             0.8888888888888888,
             "#fdca26"
            ],
            [
             1,
             "#f0f921"
            ]
           ]
          },
          "colorway": [
           "#636efa",
           "#EF553B",
           "#00cc96",
           "#ab63fa",
           "#FFA15A",
           "#19d3f3",
           "#FF6692",
           "#B6E880",
           "#FF97FF",
           "#FECB52"
          ],
          "font": {
           "color": "#2a3f5f"
          },
          "geo": {
           "bgcolor": "white",
           "lakecolor": "white",
           "landcolor": "#E5ECF6",
           "showlakes": true,
           "showland": true,
           "subunitcolor": "white"
          },
          "hoverlabel": {
           "align": "left"
          },
          "hovermode": "closest",
          "mapbox": {
           "style": "light"
          },
          "paper_bgcolor": "white",
          "plot_bgcolor": "#E5ECF6",
          "polar": {
           "angularaxis": {
            "gridcolor": "white",
            "linecolor": "white",
            "ticks": ""
           },
           "bgcolor": "#E5ECF6",
           "radialaxis": {
            "gridcolor": "white",
            "linecolor": "white",
            "ticks": ""
           }
          },
          "scene": {
           "xaxis": {
            "backgroundcolor": "#E5ECF6",
            "gridcolor": "white",
            "gridwidth": 2,
            "linecolor": "white",
            "showbackground": true,
            "ticks": "",
            "zerolinecolor": "white"
           },
           "yaxis": {
            "backgroundcolor": "#E5ECF6",
            "gridcolor": "white",
            "gridwidth": 2,
            "linecolor": "white",
            "showbackground": true,
            "ticks": "",
            "zerolinecolor": "white"
           },
           "zaxis": {
            "backgroundcolor": "#E5ECF6",
            "gridcolor": "white",
            "gridwidth": 2,
            "linecolor": "white",
            "showbackground": true,
            "ticks": "",
            "zerolinecolor": "white"
           }
          },
          "shapedefaults": {
           "line": {
            "color": "#2a3f5f"
           }
          },
          "ternary": {
           "aaxis": {
            "gridcolor": "white",
            "linecolor": "white",
            "ticks": ""
           },
           "baxis": {
            "gridcolor": "white",
            "linecolor": "white",
            "ticks": ""
           },
           "bgcolor": "#E5ECF6",
           "caxis": {
            "gridcolor": "white",
            "linecolor": "white",
            "ticks": ""
           }
          },
          "title": {
           "x": 0.05
          },
          "xaxis": {
           "automargin": true,
           "gridcolor": "white",
           "linecolor": "white",
           "ticks": "",
           "title": {
            "standoff": 15
           },
           "zerolinecolor": "white",
           "zerolinewidth": 2
          },
          "yaxis": {
           "automargin": true,
           "gridcolor": "white",
           "linecolor": "white",
           "ticks": "",
           "title": {
            "standoff": 15
           },
           "zerolinecolor": "white",
           "zerolinewidth": 2
          }
         }
        },
        "title": {
         "text": "Distribution Of 10234 musical instruments ratings"
        },
        "xaxis": {
         "title": {
          "text": "Rating"
         }
        },
        "yaxis": {
         "title": {
          "text": "Count"
         }
        }
       }
      },
      "text/html": [
       "<div>                            <div id=\"4879f811-9321-4056-97ae-74866237d50e\" class=\"plotly-graph-div\" style=\"height:525px; width:100%;\"></div>            <script type=\"text/javascript\">                require([\"plotly\"], function(Plotly) {                    window.PLOTLYENV=window.PLOTLYENV || {};                                    if (document.getElementById(\"4879f811-9321-4056-97ae-74866237d50e\")) {                    Plotly.newPlot(                        \"4879f811-9321-4056-97ae-74866237d50e\",                        [{\"text\": [\"67.6 %\", \"20.3 %\", \"7.5 %\", \"2.4 %\", \"2.1 %\"], \"textfont\": {\"color\": \"#000000\"}, \"textposition\": \"auto\", \"type\": \"bar\", \"x\": [5.0, 4.0, 3.0, 2.0, 1.0], \"y\": [6918, 2080, 771, 249, 216]}],                        {\"template\": {\"data\": {\"bar\": [{\"error_x\": {\"color\": \"#2a3f5f\"}, \"error_y\": {\"color\": \"#2a3f5f\"}, \"marker\": {\"line\": {\"color\": \"#E5ECF6\", \"width\": 0.5}}, \"type\": \"bar\"}], \"barpolar\": [{\"marker\": {\"line\": {\"color\": \"#E5ECF6\", \"width\": 0.5}}, \"type\": \"barpolar\"}], \"carpet\": [{\"aaxis\": {\"endlinecolor\": \"#2a3f5f\", \"gridcolor\": \"white\", \"linecolor\": \"white\", \"minorgridcolor\": \"white\", \"startlinecolor\": \"#2a3f5f\"}, \"baxis\": {\"endlinecolor\": \"#2a3f5f\", \"gridcolor\": \"white\", \"linecolor\": \"white\", \"minorgridcolor\": \"white\", \"startlinecolor\": \"#2a3f5f\"}, \"type\": \"carpet\"}], \"choropleth\": [{\"colorbar\": {\"outlinewidth\": 0, \"ticks\": \"\"}, \"type\": \"choropleth\"}], \"contour\": [{\"colorbar\": {\"outlinewidth\": 0, \"ticks\": \"\"}, \"colorscale\": [[0.0, \"#0d0887\"], [0.1111111111111111, \"#46039f\"], [0.2222222222222222, \"#7201a8\"], [0.3333333333333333, \"#9c179e\"], [0.4444444444444444, \"#bd3786\"], [0.5555555555555556, \"#d8576b\"], [0.6666666666666666, \"#ed7953\"], [0.7777777777777778, \"#fb9f3a\"], [0.8888888888888888, \"#fdca26\"], [1.0, \"#f0f921\"]], \"type\": \"contour\"}], \"contourcarpet\": [{\"colorbar\": {\"outlinewidth\": 0, \"ticks\": \"\"}, \"type\": \"contourcarpet\"}], \"heatmap\": [{\"colorbar\": {\"outlinewidth\": 0, \"ticks\": \"\"}, \"colorscale\": [[0.0, \"#0d0887\"], [0.1111111111111111, \"#46039f\"], [0.2222222222222222, \"#7201a8\"], [0.3333333333333333, \"#9c179e\"], [0.4444444444444444, \"#bd3786\"], [0.5555555555555556, \"#d8576b\"], [0.6666666666666666, \"#ed7953\"], [0.7777777777777778, \"#fb9f3a\"], [0.8888888888888888, \"#fdca26\"], [1.0, \"#f0f921\"]], \"type\": \"heatmap\"}], \"heatmapgl\": [{\"colorbar\": {\"outlinewidth\": 0, \"ticks\": \"\"}, \"colorscale\": [[0.0, \"#0d0887\"], [0.1111111111111111, \"#46039f\"], [0.2222222222222222, \"#7201a8\"], [0.3333333333333333, \"#9c179e\"], [0.4444444444444444, \"#bd3786\"], [0.5555555555555556, \"#d8576b\"], [0.6666666666666666, \"#ed7953\"], [0.7777777777777778, \"#fb9f3a\"], [0.8888888888888888, \"#fdca26\"], [1.0, \"#f0f921\"]], \"type\": \"heatmapgl\"}], \"histogram\": [{\"marker\": {\"colorbar\": {\"outlinewidth\": 0, \"ticks\": \"\"}}, \"type\": \"histogram\"}], \"histogram2d\": [{\"colorbar\": {\"outlinewidth\": 0, \"ticks\": \"\"}, \"colorscale\": [[0.0, \"#0d0887\"], [0.1111111111111111, \"#46039f\"], [0.2222222222222222, \"#7201a8\"], [0.3333333333333333, \"#9c179e\"], [0.4444444444444444, \"#bd3786\"], [0.5555555555555556, \"#d8576b\"], [0.6666666666666666, \"#ed7953\"], [0.7777777777777778, \"#fb9f3a\"], [0.8888888888888888, \"#fdca26\"], [1.0, \"#f0f921\"]], \"type\": \"histogram2d\"}], \"histogram2dcontour\": [{\"colorbar\": {\"outlinewidth\": 0, \"ticks\": \"\"}, \"colorscale\": [[0.0, \"#0d0887\"], [0.1111111111111111, \"#46039f\"], [0.2222222222222222, \"#7201a8\"], [0.3333333333333333, \"#9c179e\"], [0.4444444444444444, \"#bd3786\"], [0.5555555555555556, \"#d8576b\"], [0.6666666666666666, \"#ed7953\"], [0.7777777777777778, \"#fb9f3a\"], [0.8888888888888888, \"#fdca26\"], [1.0, \"#f0f921\"]], \"type\": \"histogram2dcontour\"}], \"mesh3d\": [{\"colorbar\": {\"outlinewidth\": 0, \"ticks\": \"\"}, \"type\": \"mesh3d\"}], \"parcoords\": [{\"line\": {\"colorbar\": {\"outlinewidth\": 0, \"ticks\": \"\"}}, \"type\": \"parcoords\"}], \"pie\": [{\"automargin\": true, \"type\": \"pie\"}], \"scatter\": [{\"marker\": {\"colorbar\": {\"outlinewidth\": 0, \"ticks\": \"\"}}, \"type\": \"scatter\"}], \"scatter3d\": [{\"line\": {\"colorbar\": {\"outlinewidth\": 0, \"ticks\": \"\"}}, \"marker\": {\"colorbar\": {\"outlinewidth\": 0, \"ticks\": \"\"}}, \"type\": \"scatter3d\"}], \"scattercarpet\": [{\"marker\": {\"colorbar\": {\"outlinewidth\": 0, \"ticks\": \"\"}}, \"type\": \"scattercarpet\"}], \"scattergeo\": [{\"marker\": {\"colorbar\": {\"outlinewidth\": 0, \"ticks\": \"\"}}, \"type\": \"scattergeo\"}], \"scattergl\": [{\"marker\": {\"colorbar\": {\"outlinewidth\": 0, \"ticks\": \"\"}}, \"type\": \"scattergl\"}], \"scattermapbox\": [{\"marker\": {\"colorbar\": {\"outlinewidth\": 0, \"ticks\": \"\"}}, \"type\": \"scattermapbox\"}], \"scatterpolar\": [{\"marker\": {\"colorbar\": {\"outlinewidth\": 0, \"ticks\": \"\"}}, \"type\": \"scatterpolar\"}], \"scatterpolargl\": [{\"marker\": {\"colorbar\": {\"outlinewidth\": 0, \"ticks\": \"\"}}, \"type\": \"scatterpolargl\"}], \"scatterternary\": [{\"marker\": {\"colorbar\": {\"outlinewidth\": 0, \"ticks\": \"\"}}, \"type\": \"scatterternary\"}], \"surface\": [{\"colorbar\": {\"outlinewidth\": 0, \"ticks\": \"\"}, \"colorscale\": [[0.0, \"#0d0887\"], [0.1111111111111111, \"#46039f\"], [0.2222222222222222, \"#7201a8\"], [0.3333333333333333, \"#9c179e\"], [0.4444444444444444, \"#bd3786\"], [0.5555555555555556, \"#d8576b\"], [0.6666666666666666, \"#ed7953\"], [0.7777777777777778, \"#fb9f3a\"], [0.8888888888888888, \"#fdca26\"], [1.0, \"#f0f921\"]], \"type\": \"surface\"}], \"table\": [{\"cells\": {\"fill\": {\"color\": \"#EBF0F8\"}, \"line\": {\"color\": \"white\"}}, \"header\": {\"fill\": {\"color\": \"#C8D4E3\"}, \"line\": {\"color\": \"white\"}}, \"type\": \"table\"}]}, \"layout\": {\"annotationdefaults\": {\"arrowcolor\": \"#2a3f5f\", \"arrowhead\": 0, \"arrowwidth\": 1}, \"coloraxis\": {\"colorbar\": {\"outlinewidth\": 0, \"ticks\": \"\"}}, \"colorscale\": {\"diverging\": [[0, \"#8e0152\"], [0.1, \"#c51b7d\"], [0.2, \"#de77ae\"], [0.3, \"#f1b6da\"], [0.4, \"#fde0ef\"], [0.5, \"#f7f7f7\"], [0.6, \"#e6f5d0\"], [0.7, \"#b8e186\"], [0.8, \"#7fbc41\"], [0.9, \"#4d9221\"], [1, \"#276419\"]], \"sequential\": [[0.0, \"#0d0887\"], [0.1111111111111111, \"#46039f\"], [0.2222222222222222, \"#7201a8\"], [0.3333333333333333, \"#9c179e\"], [0.4444444444444444, \"#bd3786\"], [0.5555555555555556, \"#d8576b\"], [0.6666666666666666, \"#ed7953\"], [0.7777777777777778, \"#fb9f3a\"], [0.8888888888888888, \"#fdca26\"], [1.0, \"#f0f921\"]], \"sequentialminus\": [[0.0, \"#0d0887\"], [0.1111111111111111, \"#46039f\"], [0.2222222222222222, \"#7201a8\"], [0.3333333333333333, \"#9c179e\"], [0.4444444444444444, \"#bd3786\"], [0.5555555555555556, \"#d8576b\"], [0.6666666666666666, \"#ed7953\"], [0.7777777777777778, \"#fb9f3a\"], [0.8888888888888888, \"#fdca26\"], [1.0, \"#f0f921\"]]}, \"colorway\": [\"#636efa\", \"#EF553B\", \"#00cc96\", \"#ab63fa\", \"#FFA15A\", \"#19d3f3\", \"#FF6692\", \"#B6E880\", \"#FF97FF\", \"#FECB52\"], \"font\": {\"color\": \"#2a3f5f\"}, \"geo\": {\"bgcolor\": \"white\", \"lakecolor\": \"white\", \"landcolor\": \"#E5ECF6\", \"showlakes\": true, \"showland\": true, \"subunitcolor\": \"white\"}, \"hoverlabel\": {\"align\": \"left\"}, \"hovermode\": \"closest\", \"mapbox\": {\"style\": \"light\"}, \"paper_bgcolor\": \"white\", \"plot_bgcolor\": \"#E5ECF6\", \"polar\": {\"angularaxis\": {\"gridcolor\": \"white\", \"linecolor\": \"white\", \"ticks\": \"\"}, \"bgcolor\": \"#E5ECF6\", \"radialaxis\": {\"gridcolor\": \"white\", \"linecolor\": \"white\", \"ticks\": \"\"}}, \"scene\": {\"xaxis\": {\"backgroundcolor\": \"#E5ECF6\", \"gridcolor\": \"white\", \"gridwidth\": 2, \"linecolor\": \"white\", \"showbackground\": true, \"ticks\": \"\", \"zerolinecolor\": \"white\"}, \"yaxis\": {\"backgroundcolor\": \"#E5ECF6\", \"gridcolor\": \"white\", \"gridwidth\": 2, \"linecolor\": \"white\", \"showbackground\": true, \"ticks\": \"\", \"zerolinecolor\": \"white\"}, \"zaxis\": {\"backgroundcolor\": \"#E5ECF6\", \"gridcolor\": \"white\", \"gridwidth\": 2, \"linecolor\": \"white\", \"showbackground\": true, \"ticks\": \"\", \"zerolinecolor\": \"white\"}}, \"shapedefaults\": {\"line\": {\"color\": \"#2a3f5f\"}}, \"ternary\": {\"aaxis\": {\"gridcolor\": \"white\", \"linecolor\": \"white\", \"ticks\": \"\"}, \"baxis\": {\"gridcolor\": \"white\", \"linecolor\": \"white\", \"ticks\": \"\"}, \"bgcolor\": \"#E5ECF6\", \"caxis\": {\"gridcolor\": \"white\", \"linecolor\": \"white\", \"ticks\": \"\"}}, \"title\": {\"x\": 0.05}, \"xaxis\": {\"automargin\": true, \"gridcolor\": \"white\", \"linecolor\": \"white\", \"ticks\": \"\", \"title\": {\"standoff\": 15}, \"zerolinecolor\": \"white\", \"zerolinewidth\": 2}, \"yaxis\": {\"automargin\": true, \"gridcolor\": \"white\", \"linecolor\": \"white\", \"ticks\": \"\", \"title\": {\"standoff\": 15}, \"zerolinecolor\": \"white\", \"zerolinewidth\": 2}}}, \"title\": {\"text\": \"Distribution Of 10234 musical instruments ratings\"}, \"xaxis\": {\"title\": {\"text\": \"Rating\"}}, \"yaxis\": {\"title\": {\"text\": \"Count\"}}},                        {\"responsive\": true}                    ).then(function(){\n",
       "                            \n",
       "var gd = document.getElementById('4879f811-9321-4056-97ae-74866237d50e');\n",
       "var x = new MutationObserver(function (mutations, observer) {{\n",
       "        var display = window.getComputedStyle(gd).display;\n",
       "        if (!display || display === 'none') {{\n",
       "            console.log([gd, 'removed!']);\n",
       "            Plotly.purge(gd);\n",
       "            observer.disconnect();\n",
       "        }}\n",
       "}});\n",
       "\n",
       "// Listen for the removal of the full notebook cells\n",
       "var notebookContainer = gd.closest('#notebook-container');\n",
       "if (notebookContainer) {{\n",
       "    x.observe(notebookContainer, {childList: true});\n",
       "}}\n",
       "\n",
       "// Listen for the clearing of the current output cell\n",
       "var outputEl = gd.closest('.output');\n",
       "if (outputEl) {{\n",
       "    x.observe(outputEl, {childList: true});\n",
       "}}\n",
       "\n",
       "                        })                };                });            </script>        </div>"
      ]
     },
     "metadata": {},
     "output_type": "display_data"
    }
   ],
   "source": [
    "from plotly.offline import init_notebook_mode, plot, iplot\n",
    "import plotly.graph_objs as go\n",
    "init_notebook_mode(connected=True)\n",
    "\n",
    "# Count the number of times each rating appears in the dataset\n",
    "data = df['rating'].value_counts().sort_index(ascending=False)\n",
    "\n",
    "# Create the histogram\n",
    "trace = go.Bar(x = data.index,\n",
    "               text = ['{:.1f} %'.format(val) for val in (data.values / df.shape[0] * 100)],\n",
    "               textposition = 'auto',\n",
    "               textfont = dict(color = '#000000'),\n",
    "               y = data.values)\n",
    "\n",
    "# Create layout\n",
    "layout = dict(title = 'Distribution Of {} musical instruments ratings'.format(df.shape[0]),\n",
    "              xaxis = dict(title = 'Rating'),\n",
    "              yaxis = dict(title = 'Count'))\n",
    "\n",
    "# Create plot\n",
    "fig = go.Figure(data=[trace], layout=layout)\n",
    "iplot(fig)"
   ]
  },
  {
   "cell_type": "code",
   "execution_count": 16,
   "metadata": {
    "executionInfo": {
     "elapsed": 2069,
     "status": "aborted",
     "timestamp": 1605555194392,
     "user": {
      "displayName": "Lucas Holstein",
      "photoUrl": "",
      "userId": "07076694079280137451"
     },
     "user_tz": -60
    },
    "id": "bSUilXP1i572"
   },
   "outputs": [
    {
     "data": {
      "application/vnd.plotly.v1+json": {
       "config": {
        "linkText": "Export to plot.ly",
        "plotlyServerURL": "https://plot.ly",
        "showLink": false
       },
       "data": [
        {
         "name": "Ratings",
         "type": "histogram",
         "x": [
          5,
          6,
          5,
          7,
          5,
          13,
          51,
          7,
          5,
          9,
          7,
          17,
          10,
          6,
          14,
          6,
          6,
          5,
          7,
          11,
          17,
          18,
          12,
          7,
          6,
          26,
          22,
          11,
          8,
          16,
          11,
          22,
          10,
          6,
          6,
          20,
          9,
          4,
          13,
          7,
          10,
          24,
          6,
          16,
          74,
          5,
          46,
          16,
          8,
          5,
          17,
          9,
          7,
          6,
          13,
          7,
          5,
          9,
          5,
          10,
          11,
          55,
          25,
          7,
          13,
          13,
          22,
          13,
          12,
          9,
          14,
          22,
          29,
          10,
          41,
          6,
          9,
          11,
          7,
          7,
          5,
          5,
          7,
          6,
          15,
          6,
          6,
          5,
          10,
          5,
          13,
          15,
          29,
          5,
          143,
          21,
          8,
          11,
          9,
          5,
          8,
          8,
          5,
          32,
          14,
          7,
          16,
          15,
          8,
          10,
          5,
          5,
          6,
          5,
          5,
          23,
          68,
          14,
          6,
          5,
          45,
          9,
          6,
          5,
          5,
          6,
          9,
          12,
          5,
          11,
          44,
          7,
          9,
          10,
          7,
          5,
          6,
          7,
          7,
          6,
          7,
          6,
          7,
          9,
          7,
          16,
          9,
          6,
          16,
          6,
          8,
          8,
          10,
          9,
          21,
          18,
          116,
          10,
          6,
          13,
          5,
          5,
          6,
          19,
          8,
          7,
          37,
          67,
          58,
          8,
          11,
          5,
          12,
          13,
          33,
          5,
          11,
          8,
          33,
          17,
          5,
          15,
          7,
          22,
          35,
          8,
          6,
          7,
          15,
          7,
          5,
          11,
          34,
          5,
          8,
          18,
          6,
          15,
          93,
          12,
          8,
          8,
          6,
          10,
          8,
          5,
          9,
          18,
          49,
          8,
          13,
          14,
          14,
          24,
          7,
          25,
          12,
          11,
          7,
          6,
          8,
          8,
          15,
          8,
          24,
          17,
          46,
          26,
          9,
          6,
          9,
          5,
          10,
          46,
          18,
          5,
          6,
          6,
          7,
          12,
          11,
          11,
          9,
          10,
          7,
          10,
          7,
          7,
          7,
          12,
          6,
          24,
          8,
          10,
          12,
          5,
          6,
          9,
          71,
          11,
          6,
          16,
          5,
          6,
          5,
          5,
          18,
          7,
          9,
          8,
          7,
          6,
          5,
          5,
          7,
          6,
          7,
          8,
          17,
          57,
          13,
          6,
          6,
          5,
          5,
          69,
          12,
          7,
          5,
          13,
          5,
          8,
          5,
          11,
          10,
          22,
          5,
          6,
          15,
          8,
          9,
          8,
          9,
          25,
          28,
          6,
          11,
          8,
          7,
          9,
          12,
          10,
          6,
          6,
          8,
          12,
          4,
          5,
          11,
          14,
          7,
          16,
          12,
          9,
          6,
          5,
          6,
          10,
          5,
          9,
          12,
          12,
          10,
          5,
          5,
          6,
          6,
          11,
          8,
          5,
          13,
          6,
          8,
          5,
          11,
          5,
          8,
          13,
          5,
          12,
          6,
          33,
          8,
          14,
          13,
          8,
          6,
          5,
          5,
          8,
          8,
          6,
          11,
          5,
          6,
          7,
          5,
          9,
          19,
          9,
          5,
          10,
          6,
          7,
          10,
          8,
          23,
          7,
          8,
          7,
          11,
          19,
          7,
          7,
          17,
          5,
          5,
          37,
          8,
          5,
          7,
          8,
          5,
          22,
          9,
          5,
          10,
          5,
          15,
          5,
          5,
          6,
          8,
          5,
          8,
          29,
          16,
          6,
          8,
          8,
          6,
          6,
          8,
          14,
          5,
          13,
          9,
          5,
          9,
          44,
          5,
          5,
          10,
          5,
          12,
          8,
          6,
          5,
          47,
          8,
          6,
          5,
          8,
          5,
          10,
          5,
          9,
          11,
          9,
          8,
          7,
          5,
          7,
          14,
          5,
          4,
          6,
          7,
          6,
          5,
          6,
          5,
          9,
          7,
          9,
          14,
          13,
          7,
          26,
          5,
          6,
          5,
          6,
          17,
          6,
          29,
          6,
          8,
          6,
          8,
          8,
          8,
          7,
          7,
          6,
          16,
          6,
          5,
          9,
          13,
          7,
          15,
          6,
          6,
          6,
          7,
          9,
          9,
          13,
          5,
          5,
          7,
          15,
          5,
          10,
          7,
          5,
          19,
          6,
          5,
          8,
          6,
          7,
          25,
          27,
          14,
          13,
          25,
          8,
          7,
          5,
          9,
          6,
          5,
          8,
          18,
          6,
          14,
          6,
          57,
          5,
          26,
          5,
          7,
          15,
          10,
          5,
          5,
          5,
          5,
          7,
          13,
          5,
          5,
          5,
          6,
          10,
          5,
          6,
          6,
          6,
          6,
          5,
          16,
          11,
          8,
          6,
          7,
          9,
          6,
          6,
          6,
          7,
          6,
          9,
          12,
          16,
          5,
          7,
          5,
          5,
          5,
          7,
          15,
          8,
          16,
          6,
          6,
          17,
          10,
          5,
          9,
          7,
          5,
          58,
          5,
          5,
          6,
          55,
          7,
          8,
          10,
          7,
          9,
          6,
          10,
          8,
          9,
          10,
          15,
          7,
          6,
          7,
          8,
          20,
          6,
          7,
          9,
          7,
          7,
          7,
          13,
          5,
          31,
          10,
          12,
          11,
          15,
          5,
          5,
          6,
          13,
          5,
          6,
          7,
          20,
          5,
          10,
          8,
          10,
          10,
          9,
          5,
          6,
          17,
          6,
          6,
          9,
          5,
          5,
          5,
          6,
          12,
          5,
          6,
          16,
          5,
          9,
          8,
          10,
          8,
          6,
          8,
          11,
          11,
          18,
          5,
          10,
          6,
          10,
          11,
          6,
          5,
          6,
          9,
          9,
          16,
          16,
          10,
          20,
          7,
          10,
          9,
          12,
          7,
          5,
          5,
          9,
          11,
          9,
          5,
          5,
          8,
          5,
          8,
          5,
          11,
          5,
          8,
          19,
          22,
          8,
          12,
          11,
          4,
          8,
          32,
          8,
          5,
          6,
          23,
          5,
          32,
          11,
          5,
          6,
          17,
          6,
          17,
          12,
          7,
          5,
          5,
          6,
          13,
          7,
          163,
          114,
          12,
          10,
          11,
          7,
          6,
          7,
          5,
          7,
          11,
          5,
          27,
          5,
          5,
          10,
          5,
          7,
          11,
          7,
          5,
          5,
          20,
          5,
          19,
          7,
          5,
          6,
          6,
          5,
          6,
          6,
          5,
          6,
          6,
          6,
          7,
          6,
          5,
          5,
          26,
          6,
          14,
          5,
          10,
          5,
          5,
          8,
          13,
          9,
          6,
          9,
          9,
          20,
          7,
          11,
          65,
          27,
          7,
          10,
          7,
          7,
          5,
          15,
          5,
          7,
          6,
          13,
          6,
          13,
          6,
          7,
          6,
          41,
          5,
          5,
          9,
          6,
          7,
          63,
          9,
          5,
          5,
          15,
          5,
          5,
          7,
          5,
          17,
          25,
          7,
          5,
          11,
          20,
          9,
          20,
          15,
          18,
          7,
          14,
          5,
          6,
          15,
          5,
          7,
          62,
          5,
          8,
          9,
          11,
          6,
          5,
          5,
          6,
          22,
          5,
          6,
          6,
          7,
          12,
          9,
          6,
          10,
          5,
          8,
          16,
          11,
          9,
          16,
          8,
          16,
          5,
          5,
          11,
          6,
          8,
          6,
          35,
          7,
          7,
          9,
          7,
          9,
          6,
          5,
          5,
          11,
          5,
          5,
          5,
          5,
          5,
          7,
          5,
          5,
          8,
          5,
          7,
          8,
          11,
          5,
          6,
          18,
          24,
          6,
          5,
          5,
          5,
          6,
          5,
          6,
          12,
          7,
          10,
          5,
          6,
          6,
          21,
          5,
          7,
          6,
          5,
          5,
          5,
          5,
          5,
          5,
          7,
          17,
          6,
          11,
          24,
          8,
          13
         ],
         "xbins": {
          "size": 2,
          "start": 0
         }
        }
       ],
       "layout": {
        "bargap": 0.2,
        "template": {
         "data": {
          "bar": [
           {
            "error_x": {
             "color": "#2a3f5f"
            },
            "error_y": {
             "color": "#2a3f5f"
            },
            "marker": {
             "line": {
              "color": "#E5ECF6",
              "width": 0.5
             }
            },
            "type": "bar"
           }
          ],
          "barpolar": [
           {
            "marker": {
             "line": {
              "color": "#E5ECF6",
              "width": 0.5
             }
            },
            "type": "barpolar"
           }
          ],
          "carpet": [
           {
            "aaxis": {
             "endlinecolor": "#2a3f5f",
             "gridcolor": "white",
             "linecolor": "white",
             "minorgridcolor": "white",
             "startlinecolor": "#2a3f5f"
            },
            "baxis": {
             "endlinecolor": "#2a3f5f",
             "gridcolor": "white",
             "linecolor": "white",
             "minorgridcolor": "white",
             "startlinecolor": "#2a3f5f"
            },
            "type": "carpet"
           }
          ],
          "choropleth": [
           {
            "colorbar": {
             "outlinewidth": 0,
             "ticks": ""
            },
            "type": "choropleth"
           }
          ],
          "contour": [
           {
            "colorbar": {
             "outlinewidth": 0,
             "ticks": ""
            },
            "colorscale": [
             [
              0,
              "#0d0887"
             ],
             [
              0.1111111111111111,
              "#46039f"
             ],
             [
              0.2222222222222222,
              "#7201a8"
             ],
             [
              0.3333333333333333,
              "#9c179e"
             ],
             [
              0.4444444444444444,
              "#bd3786"
             ],
             [
              0.5555555555555556,
              "#d8576b"
             ],
             [
              0.6666666666666666,
              "#ed7953"
             ],
             [
              0.7777777777777778,
              "#fb9f3a"
             ],
             [
              0.8888888888888888,
              "#fdca26"
             ],
             [
              1,
              "#f0f921"
             ]
            ],
            "type": "contour"
           }
          ],
          "contourcarpet": [
           {
            "colorbar": {
             "outlinewidth": 0,
             "ticks": ""
            },
            "type": "contourcarpet"
           }
          ],
          "heatmap": [
           {
            "colorbar": {
             "outlinewidth": 0,
             "ticks": ""
            },
            "colorscale": [
             [
              0,
              "#0d0887"
             ],
             [
              0.1111111111111111,
              "#46039f"
             ],
             [
              0.2222222222222222,
              "#7201a8"
             ],
             [
              0.3333333333333333,
              "#9c179e"
             ],
             [
              0.4444444444444444,
              "#bd3786"
             ],
             [
              0.5555555555555556,
              "#d8576b"
             ],
             [
              0.6666666666666666,
              "#ed7953"
             ],
             [
              0.7777777777777778,
              "#fb9f3a"
             ],
             [
              0.8888888888888888,
              "#fdca26"
             ],
             [
              1,
              "#f0f921"
             ]
            ],
            "type": "heatmap"
           }
          ],
          "heatmapgl": [
           {
            "colorbar": {
             "outlinewidth": 0,
             "ticks": ""
            },
            "colorscale": [
             [
              0,
              "#0d0887"
             ],
             [
              0.1111111111111111,
              "#46039f"
             ],
             [
              0.2222222222222222,
              "#7201a8"
             ],
             [
              0.3333333333333333,
              "#9c179e"
             ],
             [
              0.4444444444444444,
              "#bd3786"
             ],
             [
              0.5555555555555556,
              "#d8576b"
             ],
             [
              0.6666666666666666,
              "#ed7953"
             ],
             [
              0.7777777777777778,
              "#fb9f3a"
             ],
             [
              0.8888888888888888,
              "#fdca26"
             ],
             [
              1,
              "#f0f921"
             ]
            ],
            "type": "heatmapgl"
           }
          ],
          "histogram": [
           {
            "marker": {
             "colorbar": {
              "outlinewidth": 0,
              "ticks": ""
             }
            },
            "type": "histogram"
           }
          ],
          "histogram2d": [
           {
            "colorbar": {
             "outlinewidth": 0,
             "ticks": ""
            },
            "colorscale": [
             [
              0,
              "#0d0887"
             ],
             [
              0.1111111111111111,
              "#46039f"
             ],
             [
              0.2222222222222222,
              "#7201a8"
             ],
             [
              0.3333333333333333,
              "#9c179e"
             ],
             [
              0.4444444444444444,
              "#bd3786"
             ],
             [
              0.5555555555555556,
              "#d8576b"
             ],
             [
              0.6666666666666666,
              "#ed7953"
             ],
             [
              0.7777777777777778,
              "#fb9f3a"
             ],
             [
              0.8888888888888888,
              "#fdca26"
             ],
             [
              1,
              "#f0f921"
             ]
            ],
            "type": "histogram2d"
           }
          ],
          "histogram2dcontour": [
           {
            "colorbar": {
             "outlinewidth": 0,
             "ticks": ""
            },
            "colorscale": [
             [
              0,
              "#0d0887"
             ],
             [
              0.1111111111111111,
              "#46039f"
             ],
             [
              0.2222222222222222,
              "#7201a8"
             ],
             [
              0.3333333333333333,
              "#9c179e"
             ],
             [
              0.4444444444444444,
              "#bd3786"
             ],
             [
              0.5555555555555556,
              "#d8576b"
             ],
             [
              0.6666666666666666,
              "#ed7953"
             ],
             [
              0.7777777777777778,
              "#fb9f3a"
             ],
             [
              0.8888888888888888,
              "#fdca26"
             ],
             [
              1,
              "#f0f921"
             ]
            ],
            "type": "histogram2dcontour"
           }
          ],
          "mesh3d": [
           {
            "colorbar": {
             "outlinewidth": 0,
             "ticks": ""
            },
            "type": "mesh3d"
           }
          ],
          "parcoords": [
           {
            "line": {
             "colorbar": {
              "outlinewidth": 0,
              "ticks": ""
             }
            },
            "type": "parcoords"
           }
          ],
          "pie": [
           {
            "automargin": true,
            "type": "pie"
           }
          ],
          "scatter": [
           {
            "marker": {
             "colorbar": {
              "outlinewidth": 0,
              "ticks": ""
             }
            },
            "type": "scatter"
           }
          ],
          "scatter3d": [
           {
            "line": {
             "colorbar": {
              "outlinewidth": 0,
              "ticks": ""
             }
            },
            "marker": {
             "colorbar": {
              "outlinewidth": 0,
              "ticks": ""
             }
            },
            "type": "scatter3d"
           }
          ],
          "scattercarpet": [
           {
            "marker": {
             "colorbar": {
              "outlinewidth": 0,
              "ticks": ""
             }
            },
            "type": "scattercarpet"
           }
          ],
          "scattergeo": [
           {
            "marker": {
             "colorbar": {
              "outlinewidth": 0,
              "ticks": ""
             }
            },
            "type": "scattergeo"
           }
          ],
          "scattergl": [
           {
            "marker": {
             "colorbar": {
              "outlinewidth": 0,
              "ticks": ""
             }
            },
            "type": "scattergl"
           }
          ],
          "scattermapbox": [
           {
            "marker": {
             "colorbar": {
              "outlinewidth": 0,
              "ticks": ""
             }
            },
            "type": "scattermapbox"
           }
          ],
          "scatterpolar": [
           {
            "marker": {
             "colorbar": {
              "outlinewidth": 0,
              "ticks": ""
             }
            },
            "type": "scatterpolar"
           }
          ],
          "scatterpolargl": [
           {
            "marker": {
             "colorbar": {
              "outlinewidth": 0,
              "ticks": ""
             }
            },
            "type": "scatterpolargl"
           }
          ],
          "scatterternary": [
           {
            "marker": {
             "colorbar": {
              "outlinewidth": 0,
              "ticks": ""
             }
            },
            "type": "scatterternary"
           }
          ],
          "surface": [
           {
            "colorbar": {
             "outlinewidth": 0,
             "ticks": ""
            },
            "colorscale": [
             [
              0,
              "#0d0887"
             ],
             [
              0.1111111111111111,
              "#46039f"
             ],
             [
              0.2222222222222222,
              "#7201a8"
             ],
             [
              0.3333333333333333,
              "#9c179e"
             ],
             [
              0.4444444444444444,
              "#bd3786"
             ],
             [
              0.5555555555555556,
              "#d8576b"
             ],
             [
              0.6666666666666666,
              "#ed7953"
             ],
             [
              0.7777777777777778,
              "#fb9f3a"
             ],
             [
              0.8888888888888888,
              "#fdca26"
             ],
             [
              1,
              "#f0f921"
             ]
            ],
            "type": "surface"
           }
          ],
          "table": [
           {
            "cells": {
             "fill": {
              "color": "#EBF0F8"
             },
             "line": {
              "color": "white"
             }
            },
            "header": {
             "fill": {
              "color": "#C8D4E3"
             },
             "line": {
              "color": "white"
             }
            },
            "type": "table"
           }
          ]
         },
         "layout": {
          "annotationdefaults": {
           "arrowcolor": "#2a3f5f",
           "arrowhead": 0,
           "arrowwidth": 1
          },
          "coloraxis": {
           "colorbar": {
            "outlinewidth": 0,
            "ticks": ""
           }
          },
          "colorscale": {
           "diverging": [
            [
             0,
             "#8e0152"
            ],
            [
             0.1,
             "#c51b7d"
            ],
            [
             0.2,
             "#de77ae"
            ],
            [
             0.3,
             "#f1b6da"
            ],
            [
             0.4,
             "#fde0ef"
            ],
            [
             0.5,
             "#f7f7f7"
            ],
            [
             0.6,
             "#e6f5d0"
            ],
            [
             0.7,
             "#b8e186"
            ],
            [
             0.8,
             "#7fbc41"
            ],
            [
             0.9,
             "#4d9221"
            ],
            [
             1,
             "#276419"
            ]
           ],
           "sequential": [
            [
             0,
             "#0d0887"
            ],
            [
             0.1111111111111111,
             "#46039f"
            ],
            [
             0.2222222222222222,
             "#7201a8"
            ],
            [
             0.3333333333333333,
             "#9c179e"
            ],
            [
             0.4444444444444444,
             "#bd3786"
            ],
            [
             0.5555555555555556,
             "#d8576b"
            ],
            [
             0.6666666666666666,
             "#ed7953"
            ],
            [
             0.7777777777777778,
             "#fb9f3a"
            ],
            [
             0.8888888888888888,
             "#fdca26"
            ],
            [
             1,
             "#f0f921"
            ]
           ],
           "sequentialminus": [
            [
             0,
             "#0d0887"
            ],
            [
             0.1111111111111111,
             "#46039f"
            ],
            [
             0.2222222222222222,
             "#7201a8"
            ],
            [
             0.3333333333333333,
             "#9c179e"
            ],
            [
             0.4444444444444444,
             "#bd3786"
            ],
            [
             0.5555555555555556,
             "#d8576b"
            ],
            [
             0.6666666666666666,
             "#ed7953"
            ],
            [
             0.7777777777777778,
             "#fb9f3a"
            ],
            [
             0.8888888888888888,
             "#fdca26"
            ],
            [
             1,
             "#f0f921"
            ]
           ]
          },
          "colorway": [
           "#636efa",
           "#EF553B",
           "#00cc96",
           "#ab63fa",
           "#FFA15A",
           "#19d3f3",
           "#FF6692",
           "#B6E880",
           "#FF97FF",
           "#FECB52"
          ],
          "font": {
           "color": "#2a3f5f"
          },
          "geo": {
           "bgcolor": "white",
           "lakecolor": "white",
           "landcolor": "#E5ECF6",
           "showlakes": true,
           "showland": true,
           "subunitcolor": "white"
          },
          "hoverlabel": {
           "align": "left"
          },
          "hovermode": "closest",
          "mapbox": {
           "style": "light"
          },
          "paper_bgcolor": "white",
          "plot_bgcolor": "#E5ECF6",
          "polar": {
           "angularaxis": {
            "gridcolor": "white",
            "linecolor": "white",
            "ticks": ""
           },
           "bgcolor": "#E5ECF6",
           "radialaxis": {
            "gridcolor": "white",
            "linecolor": "white",
            "ticks": ""
           }
          },
          "scene": {
           "xaxis": {
            "backgroundcolor": "#E5ECF6",
            "gridcolor": "white",
            "gridwidth": 2,
            "linecolor": "white",
            "showbackground": true,
            "ticks": "",
            "zerolinecolor": "white"
           },
           "yaxis": {
            "backgroundcolor": "#E5ECF6",
            "gridcolor": "white",
            "gridwidth": 2,
            "linecolor": "white",
            "showbackground": true,
            "ticks": "",
            "zerolinecolor": "white"
           },
           "zaxis": {
            "backgroundcolor": "#E5ECF6",
            "gridcolor": "white",
            "gridwidth": 2,
            "linecolor": "white",
            "showbackground": true,
            "ticks": "",
            "zerolinecolor": "white"
           }
          },
          "shapedefaults": {
           "line": {
            "color": "#2a3f5f"
           }
          },
          "ternary": {
           "aaxis": {
            "gridcolor": "white",
            "linecolor": "white",
            "ticks": ""
           },
           "baxis": {
            "gridcolor": "white",
            "linecolor": "white",
            "ticks": ""
           },
           "bgcolor": "#E5ECF6",
           "caxis": {
            "gridcolor": "white",
            "linecolor": "white",
            "ticks": ""
           }
          },
          "title": {
           "x": 0.05
          },
          "xaxis": {
           "automargin": true,
           "gridcolor": "white",
           "linecolor": "white",
           "ticks": "",
           "title": {
            "standoff": 15
           },
           "zerolinecolor": "white",
           "zerolinewidth": 2
          },
          "yaxis": {
           "automargin": true,
           "gridcolor": "white",
           "linecolor": "white",
           "ticks": "",
           "title": {
            "standoff": 15
           },
           "zerolinecolor": "white",
           "zerolinewidth": 2
          }
         }
        },
        "title": {
         "text": "Distribution Of Number of Ratings Per instrument"
        },
        "xaxis": {
         "title": {
          "text": "Number of Ratings Per instrument"
         }
        },
        "yaxis": {
         "title": {
          "text": "Count"
         }
        }
       }
      },
      "text/html": [
       "<div>                            <div id=\"59b8d0ff-0284-4890-9024-79ee8580b34a\" class=\"plotly-graph-div\" style=\"height:525px; width:100%;\"></div>            <script type=\"text/javascript\">                require([\"plotly\"], function(Plotly) {                    window.PLOTLYENV=window.PLOTLYENV || {};                                    if (document.getElementById(\"59b8d0ff-0284-4890-9024-79ee8580b34a\")) {                    Plotly.newPlot(                        \"59b8d0ff-0284-4890-9024-79ee8580b34a\",                        [{\"name\": \"Ratings\", \"type\": \"histogram\", \"x\": [5, 6, 5, 7, 5, 13, 51, 7, 5, 9, 7, 17, 10, 6, 14, 6, 6, 5, 7, 11, 17, 18, 12, 7, 6, 26, 22, 11, 8, 16, 11, 22, 10, 6, 6, 20, 9, 4, 13, 7, 10, 24, 6, 16, 74, 5, 46, 16, 8, 5, 17, 9, 7, 6, 13, 7, 5, 9, 5, 10, 11, 55, 25, 7, 13, 13, 22, 13, 12, 9, 14, 22, 29, 10, 41, 6, 9, 11, 7, 7, 5, 5, 7, 6, 15, 6, 6, 5, 10, 5, 13, 15, 29, 5, 143, 21, 8, 11, 9, 5, 8, 8, 5, 32, 14, 7, 16, 15, 8, 10, 5, 5, 6, 5, 5, 23, 68, 14, 6, 5, 45, 9, 6, 5, 5, 6, 9, 12, 5, 11, 44, 7, 9, 10, 7, 5, 6, 7, 7, 6, 7, 6, 7, 9, 7, 16, 9, 6, 16, 6, 8, 8, 10, 9, 21, 18, 116, 10, 6, 13, 5, 5, 6, 19, 8, 7, 37, 67, 58, 8, 11, 5, 12, 13, 33, 5, 11, 8, 33, 17, 5, 15, 7, 22, 35, 8, 6, 7, 15, 7, 5, 11, 34, 5, 8, 18, 6, 15, 93, 12, 8, 8, 6, 10, 8, 5, 9, 18, 49, 8, 13, 14, 14, 24, 7, 25, 12, 11, 7, 6, 8, 8, 15, 8, 24, 17, 46, 26, 9, 6, 9, 5, 10, 46, 18, 5, 6, 6, 7, 12, 11, 11, 9, 10, 7, 10, 7, 7, 7, 12, 6, 24, 8, 10, 12, 5, 6, 9, 71, 11, 6, 16, 5, 6, 5, 5, 18, 7, 9, 8, 7, 6, 5, 5, 7, 6, 7, 8, 17, 57, 13, 6, 6, 5, 5, 69, 12, 7, 5, 13, 5, 8, 5, 11, 10, 22, 5, 6, 15, 8, 9, 8, 9, 25, 28, 6, 11, 8, 7, 9, 12, 10, 6, 6, 8, 12, 4, 5, 11, 14, 7, 16, 12, 9, 6, 5, 6, 10, 5, 9, 12, 12, 10, 5, 5, 6, 6, 11, 8, 5, 13, 6, 8, 5, 11, 5, 8, 13, 5, 12, 6, 33, 8, 14, 13, 8, 6, 5, 5, 8, 8, 6, 11, 5, 6, 7, 5, 9, 19, 9, 5, 10, 6, 7, 10, 8, 23, 7, 8, 7, 11, 19, 7, 7, 17, 5, 5, 37, 8, 5, 7, 8, 5, 22, 9, 5, 10, 5, 15, 5, 5, 6, 8, 5, 8, 29, 16, 6, 8, 8, 6, 6, 8, 14, 5, 13, 9, 5, 9, 44, 5, 5, 10, 5, 12, 8, 6, 5, 47, 8, 6, 5, 8, 5, 10, 5, 9, 11, 9, 8, 7, 5, 7, 14, 5, 4, 6, 7, 6, 5, 6, 5, 9, 7, 9, 14, 13, 7, 26, 5, 6, 5, 6, 17, 6, 29, 6, 8, 6, 8, 8, 8, 7, 7, 6, 16, 6, 5, 9, 13, 7, 15, 6, 6, 6, 7, 9, 9, 13, 5, 5, 7, 15, 5, 10, 7, 5, 19, 6, 5, 8, 6, 7, 25, 27, 14, 13, 25, 8, 7, 5, 9, 6, 5, 8, 18, 6, 14, 6, 57, 5, 26, 5, 7, 15, 10, 5, 5, 5, 5, 7, 13, 5, 5, 5, 6, 10, 5, 6, 6, 6, 6, 5, 16, 11, 8, 6, 7, 9, 6, 6, 6, 7, 6, 9, 12, 16, 5, 7, 5, 5, 5, 7, 15, 8, 16, 6, 6, 17, 10, 5, 9, 7, 5, 58, 5, 5, 6, 55, 7, 8, 10, 7, 9, 6, 10, 8, 9, 10, 15, 7, 6, 7, 8, 20, 6, 7, 9, 7, 7, 7, 13, 5, 31, 10, 12, 11, 15, 5, 5, 6, 13, 5, 6, 7, 20, 5, 10, 8, 10, 10, 9, 5, 6, 17, 6, 6, 9, 5, 5, 5, 6, 12, 5, 6, 16, 5, 9, 8, 10, 8, 6, 8, 11, 11, 18, 5, 10, 6, 10, 11, 6, 5, 6, 9, 9, 16, 16, 10, 20, 7, 10, 9, 12, 7, 5, 5, 9, 11, 9, 5, 5, 8, 5, 8, 5, 11, 5, 8, 19, 22, 8, 12, 11, 4, 8, 32, 8, 5, 6, 23, 5, 32, 11, 5, 6, 17, 6, 17, 12, 7, 5, 5, 6, 13, 7, 163, 114, 12, 10, 11, 7, 6, 7, 5, 7, 11, 5, 27, 5, 5, 10, 5, 7, 11, 7, 5, 5, 20, 5, 19, 7, 5, 6, 6, 5, 6, 6, 5, 6, 6, 6, 7, 6, 5, 5, 26, 6, 14, 5, 10, 5, 5, 8, 13, 9, 6, 9, 9, 20, 7, 11, 65, 27, 7, 10, 7, 7, 5, 15, 5, 7, 6, 13, 6, 13, 6, 7, 6, 41, 5, 5, 9, 6, 7, 63, 9, 5, 5, 15, 5, 5, 7, 5, 17, 25, 7, 5, 11, 20, 9, 20, 15, 18, 7, 14, 5, 6, 15, 5, 7, 62, 5, 8, 9, 11, 6, 5, 5, 6, 22, 5, 6, 6, 7, 12, 9, 6, 10, 5, 8, 16, 11, 9, 16, 8, 16, 5, 5, 11, 6, 8, 6, 35, 7, 7, 9, 7, 9, 6, 5, 5, 11, 5, 5, 5, 5, 5, 7, 5, 5, 8, 5, 7, 8, 11, 5, 6, 18, 24, 6, 5, 5, 5, 6, 5, 6, 12, 7, 10, 5, 6, 6, 21, 5, 7, 6, 5, 5, 5, 5, 5, 5, 7, 17, 6, 11, 24, 8, 13], \"xbins\": {\"size\": 2, \"start\": 0}}],                        {\"bargap\": 0.2, \"template\": {\"data\": {\"bar\": [{\"error_x\": {\"color\": \"#2a3f5f\"}, \"error_y\": {\"color\": \"#2a3f5f\"}, \"marker\": {\"line\": {\"color\": \"#E5ECF6\", \"width\": 0.5}}, \"type\": \"bar\"}], \"barpolar\": [{\"marker\": {\"line\": {\"color\": \"#E5ECF6\", \"width\": 0.5}}, \"type\": \"barpolar\"}], \"carpet\": [{\"aaxis\": {\"endlinecolor\": \"#2a3f5f\", \"gridcolor\": \"white\", \"linecolor\": \"white\", \"minorgridcolor\": \"white\", \"startlinecolor\": \"#2a3f5f\"}, \"baxis\": {\"endlinecolor\": \"#2a3f5f\", \"gridcolor\": \"white\", \"linecolor\": \"white\", \"minorgridcolor\": \"white\", \"startlinecolor\": \"#2a3f5f\"}, \"type\": \"carpet\"}], \"choropleth\": [{\"colorbar\": {\"outlinewidth\": 0, \"ticks\": \"\"}, \"type\": \"choropleth\"}], \"contour\": [{\"colorbar\": {\"outlinewidth\": 0, \"ticks\": \"\"}, \"colorscale\": [[0.0, \"#0d0887\"], [0.1111111111111111, \"#46039f\"], [0.2222222222222222, \"#7201a8\"], [0.3333333333333333, \"#9c179e\"], [0.4444444444444444, \"#bd3786\"], [0.5555555555555556, \"#d8576b\"], [0.6666666666666666, \"#ed7953\"], [0.7777777777777778, \"#fb9f3a\"], [0.8888888888888888, \"#fdca26\"], [1.0, \"#f0f921\"]], \"type\": \"contour\"}], \"contourcarpet\": [{\"colorbar\": {\"outlinewidth\": 0, \"ticks\": \"\"}, \"type\": \"contourcarpet\"}], \"heatmap\": [{\"colorbar\": {\"outlinewidth\": 0, \"ticks\": \"\"}, \"colorscale\": [[0.0, \"#0d0887\"], [0.1111111111111111, \"#46039f\"], [0.2222222222222222, \"#7201a8\"], [0.3333333333333333, \"#9c179e\"], [0.4444444444444444, \"#bd3786\"], [0.5555555555555556, \"#d8576b\"], [0.6666666666666666, \"#ed7953\"], [0.7777777777777778, \"#fb9f3a\"], [0.8888888888888888, \"#fdca26\"], [1.0, \"#f0f921\"]], \"type\": \"heatmap\"}], \"heatmapgl\": [{\"colorbar\": {\"outlinewidth\": 0, \"ticks\": \"\"}, \"colorscale\": [[0.0, \"#0d0887\"], [0.1111111111111111, \"#46039f\"], [0.2222222222222222, \"#7201a8\"], [0.3333333333333333, \"#9c179e\"], [0.4444444444444444, \"#bd3786\"], [0.5555555555555556, \"#d8576b\"], [0.6666666666666666, \"#ed7953\"], [0.7777777777777778, \"#fb9f3a\"], [0.8888888888888888, \"#fdca26\"], [1.0, \"#f0f921\"]], \"type\": \"heatmapgl\"}], \"histogram\": [{\"marker\": {\"colorbar\": {\"outlinewidth\": 0, \"ticks\": \"\"}}, \"type\": \"histogram\"}], \"histogram2d\": [{\"colorbar\": {\"outlinewidth\": 0, \"ticks\": \"\"}, \"colorscale\": [[0.0, \"#0d0887\"], [0.1111111111111111, \"#46039f\"], [0.2222222222222222, \"#7201a8\"], [0.3333333333333333, \"#9c179e\"], [0.4444444444444444, \"#bd3786\"], [0.5555555555555556, \"#d8576b\"], [0.6666666666666666, \"#ed7953\"], [0.7777777777777778, \"#fb9f3a\"], [0.8888888888888888, \"#fdca26\"], [1.0, \"#f0f921\"]], \"type\": \"histogram2d\"}], \"histogram2dcontour\": [{\"colorbar\": {\"outlinewidth\": 0, \"ticks\": \"\"}, \"colorscale\": [[0.0, \"#0d0887\"], [0.1111111111111111, \"#46039f\"], [0.2222222222222222, \"#7201a8\"], [0.3333333333333333, \"#9c179e\"], [0.4444444444444444, \"#bd3786\"], [0.5555555555555556, \"#d8576b\"], [0.6666666666666666, \"#ed7953\"], [0.7777777777777778, \"#fb9f3a\"], [0.8888888888888888, \"#fdca26\"], [1.0, \"#f0f921\"]], \"type\": \"histogram2dcontour\"}], \"mesh3d\": [{\"colorbar\": {\"outlinewidth\": 0, \"ticks\": \"\"}, \"type\": \"mesh3d\"}], \"parcoords\": [{\"line\": {\"colorbar\": {\"outlinewidth\": 0, \"ticks\": \"\"}}, \"type\": \"parcoords\"}], \"pie\": [{\"automargin\": true, \"type\": \"pie\"}], \"scatter\": [{\"marker\": {\"colorbar\": {\"outlinewidth\": 0, \"ticks\": \"\"}}, \"type\": \"scatter\"}], \"scatter3d\": [{\"line\": {\"colorbar\": {\"outlinewidth\": 0, \"ticks\": \"\"}}, \"marker\": {\"colorbar\": {\"outlinewidth\": 0, \"ticks\": \"\"}}, \"type\": \"scatter3d\"}], \"scattercarpet\": [{\"marker\": {\"colorbar\": {\"outlinewidth\": 0, \"ticks\": \"\"}}, \"type\": \"scattercarpet\"}], \"scattergeo\": [{\"marker\": {\"colorbar\": {\"outlinewidth\": 0, \"ticks\": \"\"}}, \"type\": \"scattergeo\"}], \"scattergl\": [{\"marker\": {\"colorbar\": {\"outlinewidth\": 0, \"ticks\": \"\"}}, \"type\": \"scattergl\"}], \"scattermapbox\": [{\"marker\": {\"colorbar\": {\"outlinewidth\": 0, \"ticks\": \"\"}}, \"type\": \"scattermapbox\"}], \"scatterpolar\": [{\"marker\": {\"colorbar\": {\"outlinewidth\": 0, \"ticks\": \"\"}}, \"type\": \"scatterpolar\"}], \"scatterpolargl\": [{\"marker\": {\"colorbar\": {\"outlinewidth\": 0, \"ticks\": \"\"}}, \"type\": \"scatterpolargl\"}], \"scatterternary\": [{\"marker\": {\"colorbar\": {\"outlinewidth\": 0, \"ticks\": \"\"}}, \"type\": \"scatterternary\"}], \"surface\": [{\"colorbar\": {\"outlinewidth\": 0, \"ticks\": \"\"}, \"colorscale\": [[0.0, \"#0d0887\"], [0.1111111111111111, \"#46039f\"], [0.2222222222222222, \"#7201a8\"], [0.3333333333333333, \"#9c179e\"], [0.4444444444444444, \"#bd3786\"], [0.5555555555555556, \"#d8576b\"], [0.6666666666666666, \"#ed7953\"], [0.7777777777777778, \"#fb9f3a\"], [0.8888888888888888, \"#fdca26\"], [1.0, \"#f0f921\"]], \"type\": \"surface\"}], \"table\": [{\"cells\": {\"fill\": {\"color\": \"#EBF0F8\"}, \"line\": {\"color\": \"white\"}}, \"header\": {\"fill\": {\"color\": \"#C8D4E3\"}, \"line\": {\"color\": \"white\"}}, \"type\": \"table\"}]}, \"layout\": {\"annotationdefaults\": {\"arrowcolor\": \"#2a3f5f\", \"arrowhead\": 0, \"arrowwidth\": 1}, \"coloraxis\": {\"colorbar\": {\"outlinewidth\": 0, \"ticks\": \"\"}}, \"colorscale\": {\"diverging\": [[0, \"#8e0152\"], [0.1, \"#c51b7d\"], [0.2, \"#de77ae\"], [0.3, \"#f1b6da\"], [0.4, \"#fde0ef\"], [0.5, \"#f7f7f7\"], [0.6, \"#e6f5d0\"], [0.7, \"#b8e186\"], [0.8, \"#7fbc41\"], [0.9, \"#4d9221\"], [1, \"#276419\"]], \"sequential\": [[0.0, \"#0d0887\"], [0.1111111111111111, \"#46039f\"], [0.2222222222222222, \"#7201a8\"], [0.3333333333333333, \"#9c179e\"], [0.4444444444444444, \"#bd3786\"], [0.5555555555555556, \"#d8576b\"], [0.6666666666666666, \"#ed7953\"], [0.7777777777777778, \"#fb9f3a\"], [0.8888888888888888, \"#fdca26\"], [1.0, \"#f0f921\"]], \"sequentialminus\": [[0.0, \"#0d0887\"], [0.1111111111111111, \"#46039f\"], [0.2222222222222222, \"#7201a8\"], [0.3333333333333333, \"#9c179e\"], [0.4444444444444444, \"#bd3786\"], [0.5555555555555556, \"#d8576b\"], [0.6666666666666666, \"#ed7953\"], [0.7777777777777778, \"#fb9f3a\"], [0.8888888888888888, \"#fdca26\"], [1.0, \"#f0f921\"]]}, \"colorway\": [\"#636efa\", \"#EF553B\", \"#00cc96\", \"#ab63fa\", \"#FFA15A\", \"#19d3f3\", \"#FF6692\", \"#B6E880\", \"#FF97FF\", \"#FECB52\"], \"font\": {\"color\": \"#2a3f5f\"}, \"geo\": {\"bgcolor\": \"white\", \"lakecolor\": \"white\", \"landcolor\": \"#E5ECF6\", \"showlakes\": true, \"showland\": true, \"subunitcolor\": \"white\"}, \"hoverlabel\": {\"align\": \"left\"}, \"hovermode\": \"closest\", \"mapbox\": {\"style\": \"light\"}, \"paper_bgcolor\": \"white\", \"plot_bgcolor\": \"#E5ECF6\", \"polar\": {\"angularaxis\": {\"gridcolor\": \"white\", \"linecolor\": \"white\", \"ticks\": \"\"}, \"bgcolor\": \"#E5ECF6\", \"radialaxis\": {\"gridcolor\": \"white\", \"linecolor\": \"white\", \"ticks\": \"\"}}, \"scene\": {\"xaxis\": {\"backgroundcolor\": \"#E5ECF6\", \"gridcolor\": \"white\", \"gridwidth\": 2, \"linecolor\": \"white\", \"showbackground\": true, \"ticks\": \"\", \"zerolinecolor\": \"white\"}, \"yaxis\": {\"backgroundcolor\": \"#E5ECF6\", \"gridcolor\": \"white\", \"gridwidth\": 2, \"linecolor\": \"white\", \"showbackground\": true, \"ticks\": \"\", \"zerolinecolor\": \"white\"}, \"zaxis\": {\"backgroundcolor\": \"#E5ECF6\", \"gridcolor\": \"white\", \"gridwidth\": 2, \"linecolor\": \"white\", \"showbackground\": true, \"ticks\": \"\", \"zerolinecolor\": \"white\"}}, \"shapedefaults\": {\"line\": {\"color\": \"#2a3f5f\"}}, \"ternary\": {\"aaxis\": {\"gridcolor\": \"white\", \"linecolor\": \"white\", \"ticks\": \"\"}, \"baxis\": {\"gridcolor\": \"white\", \"linecolor\": \"white\", \"ticks\": \"\"}, \"bgcolor\": \"#E5ECF6\", \"caxis\": {\"gridcolor\": \"white\", \"linecolor\": \"white\", \"ticks\": \"\"}}, \"title\": {\"x\": 0.05}, \"xaxis\": {\"automargin\": true, \"gridcolor\": \"white\", \"linecolor\": \"white\", \"ticks\": \"\", \"title\": {\"standoff\": 15}, \"zerolinecolor\": \"white\", \"zerolinewidth\": 2}, \"yaxis\": {\"automargin\": true, \"gridcolor\": \"white\", \"linecolor\": \"white\", \"ticks\": \"\", \"title\": {\"standoff\": 15}, \"zerolinecolor\": \"white\", \"zerolinewidth\": 2}}}, \"title\": {\"text\": \"Distribution Of Number of Ratings Per instrument\"}, \"xaxis\": {\"title\": {\"text\": \"Number of Ratings Per instrument\"}}, \"yaxis\": {\"title\": {\"text\": \"Count\"}}},                        {\"responsive\": true}                    ).then(function(){\n",
       "                            \n",
       "var gd = document.getElementById('59b8d0ff-0284-4890-9024-79ee8580b34a');\n",
       "var x = new MutationObserver(function (mutations, observer) {{\n",
       "        var display = window.getComputedStyle(gd).display;\n",
       "        if (!display || display === 'none') {{\n",
       "            console.log([gd, 'removed!']);\n",
       "            Plotly.purge(gd);\n",
       "            observer.disconnect();\n",
       "        }}\n",
       "}});\n",
       "\n",
       "// Listen for the removal of the full notebook cells\n",
       "var notebookContainer = gd.closest('#notebook-container');\n",
       "if (notebookContainer) {{\n",
       "    x.observe(notebookContainer, {childList: true});\n",
       "}}\n",
       "\n",
       "// Listen for the clearing of the current output cell\n",
       "var outputEl = gd.closest('.output');\n",
       "if (outputEl) {{\n",
       "    x.observe(outputEl, {childList: true});\n",
       "}}\n",
       "\n",
       "                        })                };                });            </script>        </div>"
      ]
     },
     "metadata": {},
     "output_type": "display_data"
    }
   ],
   "source": [
    "# Number of ratings per food \n",
    "data = df.groupby('productID')['rating'].count()\n",
    "\n",
    "# Create trace\n",
    "trace = go.Histogram(x = data.values,\n",
    "                     name = 'Ratings',\n",
    "                     xbins = dict(start = 0,size = 2))\n",
    "# Create layout\n",
    "layout = go.Layout(title = 'Distribution Of Number of Ratings Per instrument',\n",
    "                   xaxis = dict(title = 'Number of Ratings Per instrument'),\n",
    "                   yaxis = dict(title = 'Count'),\n",
    "                   bargap = 0.2)\n",
    "\n",
    "# Create plot\n",
    "fig = go.Figure(data=[trace], layout=layout)\n",
    "iplot(fig)"
   ]
  },
  {
   "cell_type": "markdown",
   "metadata": {
    "id": "AUM-bBPDi577"
   },
   "source": [
    "### 2.7 Number of ratings per reviewer"
   ]
  },
  {
   "cell_type": "code",
   "execution_count": 17,
   "metadata": {
    "executionInfo": {
     "elapsed": 2059,
     "status": "aborted",
     "timestamp": 1605555194392,
     "user": {
      "displayName": "Lucas Holstein",
      "photoUrl": "",
      "userId": "07076694079280137451"
     },
     "user_tz": -60
    },
    "id": "7FqQCznBi578"
   },
   "outputs": [
    {
     "data": {
      "application/vnd.plotly.v1+json": {
       "config": {
        "linkText": "Export to plot.ly",
        "plotlyServerURL": "https://plot.ly",
        "showLink": false
       },
       "data": [
        {
         "name": "Ratings",
         "type": "histogram",
         "x": [
          8,
          6,
          6,
          5,
          5,
          6,
          5,
          6,
          8,
          6,
          5,
          5,
          5,
          5,
          5,
          7,
          8,
          8,
          5,
          7,
          6,
          5,
          5,
          6,
          6,
          5,
          6,
          12,
          8,
          7,
          5,
          13,
          8,
          5,
          6,
          11,
          5,
          14,
          6,
          6,
          5,
          9,
          5,
          7,
          7,
          5,
          10,
          6,
          6,
          5,
          7,
          6,
          8,
          6,
          7,
          7,
          9,
          8,
          5,
          9,
          6,
          8,
          10,
          5,
          9,
          38,
          14,
          13,
          11,
          6,
          5,
          13,
          5,
          6,
          5,
          11,
          5,
          6,
          5,
          6,
          6,
          5,
          5,
          9,
          5,
          8,
          5,
          10,
          7,
          6,
          5,
          5,
          7,
          5,
          9,
          6,
          5,
          5,
          5,
          6,
          6,
          6,
          8,
          7,
          5,
          6,
          8,
          7,
          5,
          5,
          9,
          6,
          7,
          5,
          7,
          7,
          5,
          7,
          5,
          5,
          6,
          11,
          12,
          6,
          6,
          6,
          5,
          5,
          6,
          6,
          8,
          15,
          7,
          5,
          5,
          7,
          6,
          6,
          5,
          19,
          6,
          6,
          8,
          6,
          7,
          24,
          5,
          6,
          12,
          8,
          6,
          6,
          6,
          10,
          5,
          5,
          18,
          21,
          8,
          5,
          6,
          5,
          5,
          8,
          7,
          5,
          6,
          5,
          5,
          7,
          29,
          8,
          5,
          5,
          7,
          7,
          5,
          9,
          5,
          5,
          7,
          6,
          5,
          5,
          6,
          11,
          6,
          8,
          8,
          12,
          6,
          7,
          10,
          10,
          5,
          7,
          8,
          6,
          9,
          9,
          5,
          7,
          5,
          5,
          5,
          5,
          5,
          5,
          6,
          5,
          5,
          7,
          7,
          5,
          6,
          7,
          7,
          6,
          38,
          5,
          8,
          5,
          6,
          7,
          10,
          27,
          13,
          5,
          5,
          9,
          5,
          17,
          5,
          9,
          9,
          10,
          5,
          6,
          8,
          5,
          32,
          11,
          10,
          5,
          8,
          6,
          19,
          5,
          5,
          5,
          8,
          6,
          5,
          5,
          5,
          7,
          5,
          9,
          10,
          7,
          7,
          6,
          6,
          5,
          7,
          5,
          7,
          5,
          7,
          5,
          8,
          6,
          5,
          5,
          7,
          6,
          9,
          7,
          6,
          16,
          6,
          5,
          7,
          8,
          10,
          5,
          9,
          32,
          6,
          5,
          5,
          5,
          5,
          5,
          5,
          6,
          9,
          5,
          8,
          8,
          5,
          8,
          9,
          5,
          5,
          6,
          6,
          5,
          13,
          5,
          7,
          8,
          5,
          8,
          6,
          8,
          5,
          6,
          14,
          5,
          5,
          6,
          9,
          6,
          5,
          5,
          5,
          6,
          5,
          6,
          5,
          7,
          7,
          8,
          5,
          12,
          5,
          5,
          9,
          6,
          6,
          7,
          9,
          6,
          6,
          7,
          6,
          6,
          5,
          7,
          7,
          21,
          19,
          5,
          5,
          5,
          5,
          5,
          7,
          11,
          7,
          5,
          6,
          8,
          5,
          5,
          6,
          13,
          5,
          10,
          20,
          14,
          5,
          5,
          5,
          5,
          9,
          5,
          8,
          6,
          15,
          5,
          9,
          6,
          6,
          8,
          8,
          7,
          7,
          11,
          6,
          5,
          7,
          7,
          9,
          9,
          10,
          7,
          6,
          25,
          5,
          17,
          6,
          9,
          8,
          5,
          7,
          6,
          5,
          14,
          5,
          5,
          7,
          6,
          5,
          5,
          6,
          8,
          5,
          14,
          5,
          5,
          5,
          14,
          6,
          7,
          9,
          5,
          5,
          21,
          8,
          8,
          6,
          5,
          5,
          11,
          5,
          8,
          7,
          5,
          13,
          10,
          5,
          5,
          5,
          6,
          5,
          5,
          7,
          5,
          5,
          6,
          9,
          5,
          6,
          5,
          5,
          5,
          5,
          6,
          5,
          15,
          6,
          5,
          7,
          5,
          5,
          7,
          5,
          6,
          7,
          9,
          5,
          6,
          6,
          5,
          5,
          5,
          8,
          6,
          8,
          6,
          5,
          5,
          10,
          8,
          6,
          6,
          8,
          10,
          5,
          19,
          5,
          7,
          5,
          5,
          16,
          5,
          5,
          7,
          6,
          6,
          6,
          7,
          5,
          7,
          5,
          5,
          8,
          5,
          14,
          8,
          5,
          5,
          36,
          5,
          8,
          20,
          7,
          6,
          23,
          6,
          8,
          8,
          7,
          5,
          5,
          7,
          5,
          5,
          5,
          9,
          9,
          7,
          7,
          6,
          6,
          5,
          5,
          6,
          10,
          6,
          5,
          6,
          7,
          5,
          7,
          5,
          6,
          5,
          14,
          6,
          6,
          10,
          7,
          5,
          7,
          6,
          6,
          8,
          5,
          5,
          7,
          5,
          10,
          11,
          9,
          5,
          5,
          5,
          8,
          5,
          5,
          5,
          5,
          7,
          5,
          5,
          5,
          5,
          9,
          7,
          6,
          5,
          7,
          9,
          7,
          5,
          9,
          5,
          9,
          5,
          6,
          13,
          6,
          7,
          7,
          6,
          5,
          34,
          5,
          5,
          8,
          8,
          5,
          8,
          5,
          6,
          5,
          5,
          9,
          7,
          8,
          9,
          11,
          9,
          5,
          5,
          5,
          5,
          8,
          6,
          5,
          7,
          7,
          5,
          8,
          5,
          5,
          9,
          6,
          11,
          6,
          6,
          7,
          17,
          5,
          8,
          5,
          16,
          5,
          7,
          7,
          8,
          8,
          5,
          6,
          6,
          5,
          5,
          6,
          6,
          6,
          4,
          7,
          6,
          7,
          5,
          6,
          5,
          6,
          5,
          6,
          5,
          6,
          8,
          8,
          5,
          8,
          9,
          6,
          5,
          8,
          5,
          6,
          6,
          8,
          6,
          5,
          5,
          6,
          6,
          5,
          6,
          7,
          5,
          6,
          6,
          6,
          8,
          7,
          5,
          5,
          5,
          6,
          5,
          5,
          5,
          6,
          5,
          12,
          7,
          6,
          6,
          5,
          5,
          6,
          11,
          16,
          6,
          10,
          9,
          7,
          6,
          5,
          5,
          6,
          7,
          11,
          8,
          10,
          5,
          8,
          5,
          6,
          9,
          5,
          5,
          5,
          6,
          16,
          5,
          5,
          6,
          11,
          7,
          5,
          7,
          7,
          5,
          5,
          20,
          20,
          6,
          5,
          10,
          6,
          6,
          5,
          7,
          8,
          8,
          12,
          5,
          5,
          5,
          6,
          5,
          7,
          5,
          5,
          6,
          6,
          5,
          5,
          5,
          5,
          5,
          5,
          6,
          8,
          5,
          6,
          6,
          10,
          5,
          5,
          10,
          14,
          28,
          5,
          6,
          5,
          6,
          5,
          6,
          8,
          5,
          9,
          8,
          7,
          8,
          6,
          6,
          6,
          7,
          5,
          13,
          5,
          5,
          5,
          11,
          9,
          6,
          6,
          8,
          12,
          7,
          5,
          11,
          20,
          7,
          7,
          5,
          11,
          5,
          6,
          9,
          6,
          8,
          10,
          9,
          6,
          6,
          6,
          6,
          5,
          10,
          5,
          6,
          11,
          5,
          5,
          8,
          5,
          6,
          6,
          6,
          7,
          6,
          5,
          7,
          7,
          5,
          7,
          6,
          17,
          6,
          6,
          5,
          5,
          5,
          11,
          5,
          5,
          5,
          6,
          4,
          14,
          5,
          5,
          7,
          7,
          5,
          5,
          5,
          17,
          9,
          5,
          7,
          4,
          8,
          5,
          5,
          10,
          5,
          5,
          5,
          10,
          8,
          5,
          5,
          5,
          9,
          6,
          6,
          8,
          5,
          8,
          8,
          6,
          14,
          5,
          7,
          5,
          9,
          6,
          6,
          15,
          5,
          9,
          6,
          5,
          6,
          5,
          5,
          8,
          6,
          5,
          11,
          7,
          5,
          5,
          8,
          5,
          6,
          13,
          6,
          5,
          8,
          5,
          8,
          5,
          7,
          5,
          7,
          5,
          9,
          5,
          6,
          11,
          9,
          11,
          5,
          5,
          5,
          6,
          5,
          16,
          5,
          9,
          5,
          7,
          5,
          7,
          6,
          7,
          10,
          12,
          6,
          5,
          21,
          6,
          8,
          7,
          6,
          5,
          6,
          5,
          5,
          7,
          7,
          6,
          9,
          5,
          5,
          5,
          6,
          9,
          11,
          6,
          7,
          5,
          5,
          5,
          5,
          5,
          9,
          5,
          5,
          5,
          7,
          5,
          5,
          5,
          5,
          24,
          6,
          10,
          5,
          6,
          5,
          6,
          5,
          6,
          5,
          6,
          5,
          10,
          7,
          5,
          5,
          8,
          5,
          6,
          5,
          5,
          5,
          10,
          4,
          5,
          8,
          5,
          6,
          6,
          5,
          6,
          8,
          20,
          5,
          7,
          5,
          14,
          6,
          11,
          6,
          7,
          5,
          6,
          5,
          5,
          6,
          6,
          5,
          7,
          5,
          5,
          8,
          7,
          5,
          15,
          9,
          11,
          5,
          5,
          9,
          8,
          5,
          13,
          5,
          5,
          5,
          5,
          5,
          6,
          5,
          6,
          9,
          5,
          10,
          11,
          7,
          10,
          5,
          6,
          5,
          5,
          8,
          5,
          6,
          8,
          6,
          5,
          9,
          7,
          21,
          5,
          11,
          5,
          5,
          6,
          5,
          8,
          5,
          6,
          8,
          8,
          5,
          7,
          9,
          5,
          5,
          12,
          12,
          18,
          7,
          5,
          12,
          6,
          5,
          8,
          5,
          5,
          5,
          7,
          5,
          7,
          6,
          11,
          5,
          5,
          9,
          5,
          6,
          21,
          6,
          8,
          7,
          5,
          7,
          7,
          7,
          5,
          7,
          22,
          5,
          5,
          6,
          7,
          6,
          5,
          6,
          6,
          5,
          10,
          5,
          13,
          5,
          5,
          7,
          8,
          7,
          7,
          5,
          5,
          5,
          5,
          5,
          7,
          8,
          5,
          7,
          6,
          7,
          5,
          7,
          5,
          2,
          5,
          5,
          8,
          5,
          9,
          5,
          5,
          7,
          8,
          10,
          8,
          6,
          5,
          5,
          7,
          6,
          5,
          5,
          5,
          13,
          6,
          5,
          5,
          5,
          5,
          6,
          6,
          7,
          5,
          5,
          7,
          7,
          8,
          7,
          5,
          42,
          5,
          6,
          7,
          8,
          14,
          5,
          8,
          6,
          6,
          5,
          13,
          6,
          7,
          8,
          5,
          7,
          6,
          6,
          9,
          11,
          5,
          5,
          9,
          14,
          6,
          10,
          15,
          5,
          5,
          9,
          5,
          5,
          5,
          8,
          7,
          11,
          12,
          5,
          5,
          8,
          9,
          6,
          7,
          5,
          7,
          5,
          5,
          5,
          7,
          5,
          7,
          6,
          5,
          6,
          11,
          7,
          15,
          8,
          6,
          5,
          25,
          8,
          6,
          6,
          6,
          5,
          7,
          6,
          6,
          11,
          5,
          7,
          17,
          10,
          3,
          7,
          12,
          9,
          23,
          7,
          5,
          9,
          8,
          5,
          19,
          5,
          7,
          13,
          11,
          7,
          6,
          6,
          5,
          5,
          6,
          5,
          5,
          5,
          8,
          10,
          15,
          6,
          5,
          11,
          5,
          5,
          6,
          5,
          5,
          5,
          6,
          5,
          6,
          7,
          5,
          7,
          5,
          6,
          7,
          5,
          5,
          5,
          6,
          8,
          13,
          11,
          10,
          5,
          5,
          10,
          8,
          8,
          8,
          14,
          5,
          5,
          7,
          6,
          5,
          5,
          5,
          5,
          5,
          5,
          5,
          5,
          5,
          5,
          15,
          5,
          5,
          5,
          7,
          5,
          6,
          7,
          7,
          6,
          8,
          5,
          5,
          5,
          5,
          5,
          6,
          14,
          5,
          6,
          17,
          6,
          5,
          5,
          9,
          6,
          7,
          5,
          6,
          5,
          5,
          5,
          6,
          5,
          5,
          5,
          6,
          7,
          7,
          7,
          6,
          5,
          12,
          5,
          7,
          5,
          5,
          6,
          6,
          5,
          5,
          5,
          6,
          6,
          7,
          5,
          6,
          6,
          5,
          5,
          6,
          5,
          8,
          5,
          5,
          6,
          6,
          5,
          5,
          8,
          7,
          6,
          7,
          10,
          8,
          10,
          6,
          5,
          11,
          5,
          12,
          11,
          5,
          5,
          7,
          8
         ],
         "xbins": {
          "size": 2,
          "start": 0
         }
        }
       ],
       "layout": {
        "bargap": 0.2,
        "template": {
         "data": {
          "bar": [
           {
            "error_x": {
             "color": "#2a3f5f"
            },
            "error_y": {
             "color": "#2a3f5f"
            },
            "marker": {
             "line": {
              "color": "#E5ECF6",
              "width": 0.5
             }
            },
            "type": "bar"
           }
          ],
          "barpolar": [
           {
            "marker": {
             "line": {
              "color": "#E5ECF6",
              "width": 0.5
             }
            },
            "type": "barpolar"
           }
          ],
          "carpet": [
           {
            "aaxis": {
             "endlinecolor": "#2a3f5f",
             "gridcolor": "white",
             "linecolor": "white",
             "minorgridcolor": "white",
             "startlinecolor": "#2a3f5f"
            },
            "baxis": {
             "endlinecolor": "#2a3f5f",
             "gridcolor": "white",
             "linecolor": "white",
             "minorgridcolor": "white",
             "startlinecolor": "#2a3f5f"
            },
            "type": "carpet"
           }
          ],
          "choropleth": [
           {
            "colorbar": {
             "outlinewidth": 0,
             "ticks": ""
            },
            "type": "choropleth"
           }
          ],
          "contour": [
           {
            "colorbar": {
             "outlinewidth": 0,
             "ticks": ""
            },
            "colorscale": [
             [
              0,
              "#0d0887"
             ],
             [
              0.1111111111111111,
              "#46039f"
             ],
             [
              0.2222222222222222,
              "#7201a8"
             ],
             [
              0.3333333333333333,
              "#9c179e"
             ],
             [
              0.4444444444444444,
              "#bd3786"
             ],
             [
              0.5555555555555556,
              "#d8576b"
             ],
             [
              0.6666666666666666,
              "#ed7953"
             ],
             [
              0.7777777777777778,
              "#fb9f3a"
             ],
             [
              0.8888888888888888,
              "#fdca26"
             ],
             [
              1,
              "#f0f921"
             ]
            ],
            "type": "contour"
           }
          ],
          "contourcarpet": [
           {
            "colorbar": {
             "outlinewidth": 0,
             "ticks": ""
            },
            "type": "contourcarpet"
           }
          ],
          "heatmap": [
           {
            "colorbar": {
             "outlinewidth": 0,
             "ticks": ""
            },
            "colorscale": [
             [
              0,
              "#0d0887"
             ],
             [
              0.1111111111111111,
              "#46039f"
             ],
             [
              0.2222222222222222,
              "#7201a8"
             ],
             [
              0.3333333333333333,
              "#9c179e"
             ],
             [
              0.4444444444444444,
              "#bd3786"
             ],
             [
              0.5555555555555556,
              "#d8576b"
             ],
             [
              0.6666666666666666,
              "#ed7953"
             ],
             [
              0.7777777777777778,
              "#fb9f3a"
             ],
             [
              0.8888888888888888,
              "#fdca26"
             ],
             [
              1,
              "#f0f921"
             ]
            ],
            "type": "heatmap"
           }
          ],
          "heatmapgl": [
           {
            "colorbar": {
             "outlinewidth": 0,
             "ticks": ""
            },
            "colorscale": [
             [
              0,
              "#0d0887"
             ],
             [
              0.1111111111111111,
              "#46039f"
             ],
             [
              0.2222222222222222,
              "#7201a8"
             ],
             [
              0.3333333333333333,
              "#9c179e"
             ],
             [
              0.4444444444444444,
              "#bd3786"
             ],
             [
              0.5555555555555556,
              "#d8576b"
             ],
             [
              0.6666666666666666,
              "#ed7953"
             ],
             [
              0.7777777777777778,
              "#fb9f3a"
             ],
             [
              0.8888888888888888,
              "#fdca26"
             ],
             [
              1,
              "#f0f921"
             ]
            ],
            "type": "heatmapgl"
           }
          ],
          "histogram": [
           {
            "marker": {
             "colorbar": {
              "outlinewidth": 0,
              "ticks": ""
             }
            },
            "type": "histogram"
           }
          ],
          "histogram2d": [
           {
            "colorbar": {
             "outlinewidth": 0,
             "ticks": ""
            },
            "colorscale": [
             [
              0,
              "#0d0887"
             ],
             [
              0.1111111111111111,
              "#46039f"
             ],
             [
              0.2222222222222222,
              "#7201a8"
             ],
             [
              0.3333333333333333,
              "#9c179e"
             ],
             [
              0.4444444444444444,
              "#bd3786"
             ],
             [
              0.5555555555555556,
              "#d8576b"
             ],
             [
              0.6666666666666666,
              "#ed7953"
             ],
             [
              0.7777777777777778,
              "#fb9f3a"
             ],
             [
              0.8888888888888888,
              "#fdca26"
             ],
             [
              1,
              "#f0f921"
             ]
            ],
            "type": "histogram2d"
           }
          ],
          "histogram2dcontour": [
           {
            "colorbar": {
             "outlinewidth": 0,
             "ticks": ""
            },
            "colorscale": [
             [
              0,
              "#0d0887"
             ],
             [
              0.1111111111111111,
              "#46039f"
             ],
             [
              0.2222222222222222,
              "#7201a8"
             ],
             [
              0.3333333333333333,
              "#9c179e"
             ],
             [
              0.4444444444444444,
              "#bd3786"
             ],
             [
              0.5555555555555556,
              "#d8576b"
             ],
             [
              0.6666666666666666,
              "#ed7953"
             ],
             [
              0.7777777777777778,
              "#fb9f3a"
             ],
             [
              0.8888888888888888,
              "#fdca26"
             ],
             [
              1,
              "#f0f921"
             ]
            ],
            "type": "histogram2dcontour"
           }
          ],
          "mesh3d": [
           {
            "colorbar": {
             "outlinewidth": 0,
             "ticks": ""
            },
            "type": "mesh3d"
           }
          ],
          "parcoords": [
           {
            "line": {
             "colorbar": {
              "outlinewidth": 0,
              "ticks": ""
             }
            },
            "type": "parcoords"
           }
          ],
          "pie": [
           {
            "automargin": true,
            "type": "pie"
           }
          ],
          "scatter": [
           {
            "marker": {
             "colorbar": {
              "outlinewidth": 0,
              "ticks": ""
             }
            },
            "type": "scatter"
           }
          ],
          "scatter3d": [
           {
            "line": {
             "colorbar": {
              "outlinewidth": 0,
              "ticks": ""
             }
            },
            "marker": {
             "colorbar": {
              "outlinewidth": 0,
              "ticks": ""
             }
            },
            "type": "scatter3d"
           }
          ],
          "scattercarpet": [
           {
            "marker": {
             "colorbar": {
              "outlinewidth": 0,
              "ticks": ""
             }
            },
            "type": "scattercarpet"
           }
          ],
          "scattergeo": [
           {
            "marker": {
             "colorbar": {
              "outlinewidth": 0,
              "ticks": ""
             }
            },
            "type": "scattergeo"
           }
          ],
          "scattergl": [
           {
            "marker": {
             "colorbar": {
              "outlinewidth": 0,
              "ticks": ""
             }
            },
            "type": "scattergl"
           }
          ],
          "scattermapbox": [
           {
            "marker": {
             "colorbar": {
              "outlinewidth": 0,
              "ticks": ""
             }
            },
            "type": "scattermapbox"
           }
          ],
          "scatterpolar": [
           {
            "marker": {
             "colorbar": {
              "outlinewidth": 0,
              "ticks": ""
             }
            },
            "type": "scatterpolar"
           }
          ],
          "scatterpolargl": [
           {
            "marker": {
             "colorbar": {
              "outlinewidth": 0,
              "ticks": ""
             }
            },
            "type": "scatterpolargl"
           }
          ],
          "scatterternary": [
           {
            "marker": {
             "colorbar": {
              "outlinewidth": 0,
              "ticks": ""
             }
            },
            "type": "scatterternary"
           }
          ],
          "surface": [
           {
            "colorbar": {
             "outlinewidth": 0,
             "ticks": ""
            },
            "colorscale": [
             [
              0,
              "#0d0887"
             ],
             [
              0.1111111111111111,
              "#46039f"
             ],
             [
              0.2222222222222222,
              "#7201a8"
             ],
             [
              0.3333333333333333,
              "#9c179e"
             ],
             [
              0.4444444444444444,
              "#bd3786"
             ],
             [
              0.5555555555555556,
              "#d8576b"
             ],
             [
              0.6666666666666666,
              "#ed7953"
             ],
             [
              0.7777777777777778,
              "#fb9f3a"
             ],
             [
              0.8888888888888888,
              "#fdca26"
             ],
             [
              1,
              "#f0f921"
             ]
            ],
            "type": "surface"
           }
          ],
          "table": [
           {
            "cells": {
             "fill": {
              "color": "#EBF0F8"
             },
             "line": {
              "color": "white"
             }
            },
            "header": {
             "fill": {
              "color": "#C8D4E3"
             },
             "line": {
              "color": "white"
             }
            },
            "type": "table"
           }
          ]
         },
         "layout": {
          "annotationdefaults": {
           "arrowcolor": "#2a3f5f",
           "arrowhead": 0,
           "arrowwidth": 1
          },
          "coloraxis": {
           "colorbar": {
            "outlinewidth": 0,
            "ticks": ""
           }
          },
          "colorscale": {
           "diverging": [
            [
             0,
             "#8e0152"
            ],
            [
             0.1,
             "#c51b7d"
            ],
            [
             0.2,
             "#de77ae"
            ],
            [
             0.3,
             "#f1b6da"
            ],
            [
             0.4,
             "#fde0ef"
            ],
            [
             0.5,
             "#f7f7f7"
            ],
            [
             0.6,
             "#e6f5d0"
            ],
            [
             0.7,
             "#b8e186"
            ],
            [
             0.8,
             "#7fbc41"
            ],
            [
             0.9,
             "#4d9221"
            ],
            [
             1,
             "#276419"
            ]
           ],
           "sequential": [
            [
             0,
             "#0d0887"
            ],
            [
             0.1111111111111111,
             "#46039f"
            ],
            [
             0.2222222222222222,
             "#7201a8"
            ],
            [
             0.3333333333333333,
             "#9c179e"
            ],
            [
             0.4444444444444444,
             "#bd3786"
            ],
            [
             0.5555555555555556,
             "#d8576b"
            ],
            [
             0.6666666666666666,
             "#ed7953"
            ],
            [
             0.7777777777777778,
             "#fb9f3a"
            ],
            [
             0.8888888888888888,
             "#fdca26"
            ],
            [
             1,
             "#f0f921"
            ]
           ],
           "sequentialminus": [
            [
             0,
             "#0d0887"
            ],
            [
             0.1111111111111111,
             "#46039f"
            ],
            [
             0.2222222222222222,
             "#7201a8"
            ],
            [
             0.3333333333333333,
             "#9c179e"
            ],
            [
             0.4444444444444444,
             "#bd3786"
            ],
            [
             0.5555555555555556,
             "#d8576b"
            ],
            [
             0.6666666666666666,
             "#ed7953"
            ],
            [
             0.7777777777777778,
             "#fb9f3a"
            ],
            [
             0.8888888888888888,
             "#fdca26"
            ],
            [
             1,
             "#f0f921"
            ]
           ]
          },
          "colorway": [
           "#636efa",
           "#EF553B",
           "#00cc96",
           "#ab63fa",
           "#FFA15A",
           "#19d3f3",
           "#FF6692",
           "#B6E880",
           "#FF97FF",
           "#FECB52"
          ],
          "font": {
           "color": "#2a3f5f"
          },
          "geo": {
           "bgcolor": "white",
           "lakecolor": "white",
           "landcolor": "#E5ECF6",
           "showlakes": true,
           "showland": true,
           "subunitcolor": "white"
          },
          "hoverlabel": {
           "align": "left"
          },
          "hovermode": "closest",
          "mapbox": {
           "style": "light"
          },
          "paper_bgcolor": "white",
          "plot_bgcolor": "#E5ECF6",
          "polar": {
           "angularaxis": {
            "gridcolor": "white",
            "linecolor": "white",
            "ticks": ""
           },
           "bgcolor": "#E5ECF6",
           "radialaxis": {
            "gridcolor": "white",
            "linecolor": "white",
            "ticks": ""
           }
          },
          "scene": {
           "xaxis": {
            "backgroundcolor": "#E5ECF6",
            "gridcolor": "white",
            "gridwidth": 2,
            "linecolor": "white",
            "showbackground": true,
            "ticks": "",
            "zerolinecolor": "white"
           },
           "yaxis": {
            "backgroundcolor": "#E5ECF6",
            "gridcolor": "white",
            "gridwidth": 2,
            "linecolor": "white",
            "showbackground": true,
            "ticks": "",
            "zerolinecolor": "white"
           },
           "zaxis": {
            "backgroundcolor": "#E5ECF6",
            "gridcolor": "white",
            "gridwidth": 2,
            "linecolor": "white",
            "showbackground": true,
            "ticks": "",
            "zerolinecolor": "white"
           }
          },
          "shapedefaults": {
           "line": {
            "color": "#2a3f5f"
           }
          },
          "ternary": {
           "aaxis": {
            "gridcolor": "white",
            "linecolor": "white",
            "ticks": ""
           },
           "baxis": {
            "gridcolor": "white",
            "linecolor": "white",
            "ticks": ""
           },
           "bgcolor": "#E5ECF6",
           "caxis": {
            "gridcolor": "white",
            "linecolor": "white",
            "ticks": ""
           }
          },
          "title": {
           "x": 0.05
          },
          "xaxis": {
           "automargin": true,
           "gridcolor": "white",
           "linecolor": "white",
           "ticks": "",
           "title": {
            "standoff": 15
           },
           "zerolinecolor": "white",
           "zerolinewidth": 2
          },
          "yaxis": {
           "automargin": true,
           "gridcolor": "white",
           "linecolor": "white",
           "ticks": "",
           "title": {
            "standoff": 15
           },
           "zerolinecolor": "white",
           "zerolinewidth": 2
          }
         }
        },
        "title": {
         "text": "Distribution Of Number of Ratings Per Reviewer"
        },
        "xaxis": {
         "title": {
          "text": "Ratings Per Reviewer"
         }
        },
        "yaxis": {
         "title": {
          "text": "Count"
         }
        }
       }
      },
      "text/html": [
       "<div>                            <div id=\"08bd6496-9bde-4b90-8ccc-d09d53bf93ff\" class=\"plotly-graph-div\" style=\"height:525px; width:100%;\"></div>            <script type=\"text/javascript\">                require([\"plotly\"], function(Plotly) {                    window.PLOTLYENV=window.PLOTLYENV || {};                                    if (document.getElementById(\"08bd6496-9bde-4b90-8ccc-d09d53bf93ff\")) {                    Plotly.newPlot(                        \"08bd6496-9bde-4b90-8ccc-d09d53bf93ff\",                        [{\"name\": \"Ratings\", \"type\": \"histogram\", \"x\": [8, 6, 6, 5, 5, 6, 5, 6, 8, 6, 5, 5, 5, 5, 5, 7, 8, 8, 5, 7, 6, 5, 5, 6, 6, 5, 6, 12, 8, 7, 5, 13, 8, 5, 6, 11, 5, 14, 6, 6, 5, 9, 5, 7, 7, 5, 10, 6, 6, 5, 7, 6, 8, 6, 7, 7, 9, 8, 5, 9, 6, 8, 10, 5, 9, 38, 14, 13, 11, 6, 5, 13, 5, 6, 5, 11, 5, 6, 5, 6, 6, 5, 5, 9, 5, 8, 5, 10, 7, 6, 5, 5, 7, 5, 9, 6, 5, 5, 5, 6, 6, 6, 8, 7, 5, 6, 8, 7, 5, 5, 9, 6, 7, 5, 7, 7, 5, 7, 5, 5, 6, 11, 12, 6, 6, 6, 5, 5, 6, 6, 8, 15, 7, 5, 5, 7, 6, 6, 5, 19, 6, 6, 8, 6, 7, 24, 5, 6, 12, 8, 6, 6, 6, 10, 5, 5, 18, 21, 8, 5, 6, 5, 5, 8, 7, 5, 6, 5, 5, 7, 29, 8, 5, 5, 7, 7, 5, 9, 5, 5, 7, 6, 5, 5, 6, 11, 6, 8, 8, 12, 6, 7, 10, 10, 5, 7, 8, 6, 9, 9, 5, 7, 5, 5, 5, 5, 5, 5, 6, 5, 5, 7, 7, 5, 6, 7, 7, 6, 38, 5, 8, 5, 6, 7, 10, 27, 13, 5, 5, 9, 5, 17, 5, 9, 9, 10, 5, 6, 8, 5, 32, 11, 10, 5, 8, 6, 19, 5, 5, 5, 8, 6, 5, 5, 5, 7, 5, 9, 10, 7, 7, 6, 6, 5, 7, 5, 7, 5, 7, 5, 8, 6, 5, 5, 7, 6, 9, 7, 6, 16, 6, 5, 7, 8, 10, 5, 9, 32, 6, 5, 5, 5, 5, 5, 5, 6, 9, 5, 8, 8, 5, 8, 9, 5, 5, 6, 6, 5, 13, 5, 7, 8, 5, 8, 6, 8, 5, 6, 14, 5, 5, 6, 9, 6, 5, 5, 5, 6, 5, 6, 5, 7, 7, 8, 5, 12, 5, 5, 9, 6, 6, 7, 9, 6, 6, 7, 6, 6, 5, 7, 7, 21, 19, 5, 5, 5, 5, 5, 7, 11, 7, 5, 6, 8, 5, 5, 6, 13, 5, 10, 20, 14, 5, 5, 5, 5, 9, 5, 8, 6, 15, 5, 9, 6, 6, 8, 8, 7, 7, 11, 6, 5, 7, 7, 9, 9, 10, 7, 6, 25, 5, 17, 6, 9, 8, 5, 7, 6, 5, 14, 5, 5, 7, 6, 5, 5, 6, 8, 5, 14, 5, 5, 5, 14, 6, 7, 9, 5, 5, 21, 8, 8, 6, 5, 5, 11, 5, 8, 7, 5, 13, 10, 5, 5, 5, 6, 5, 5, 7, 5, 5, 6, 9, 5, 6, 5, 5, 5, 5, 6, 5, 15, 6, 5, 7, 5, 5, 7, 5, 6, 7, 9, 5, 6, 6, 5, 5, 5, 8, 6, 8, 6, 5, 5, 10, 8, 6, 6, 8, 10, 5, 19, 5, 7, 5, 5, 16, 5, 5, 7, 6, 6, 6, 7, 5, 7, 5, 5, 8, 5, 14, 8, 5, 5, 36, 5, 8, 20, 7, 6, 23, 6, 8, 8, 7, 5, 5, 7, 5, 5, 5, 9, 9, 7, 7, 6, 6, 5, 5, 6, 10, 6, 5, 6, 7, 5, 7, 5, 6, 5, 14, 6, 6, 10, 7, 5, 7, 6, 6, 8, 5, 5, 7, 5, 10, 11, 9, 5, 5, 5, 8, 5, 5, 5, 5, 7, 5, 5, 5, 5, 9, 7, 6, 5, 7, 9, 7, 5, 9, 5, 9, 5, 6, 13, 6, 7, 7, 6, 5, 34, 5, 5, 8, 8, 5, 8, 5, 6, 5, 5, 9, 7, 8, 9, 11, 9, 5, 5, 5, 5, 8, 6, 5, 7, 7, 5, 8, 5, 5, 9, 6, 11, 6, 6, 7, 17, 5, 8, 5, 16, 5, 7, 7, 8, 8, 5, 6, 6, 5, 5, 6, 6, 6, 4, 7, 6, 7, 5, 6, 5, 6, 5, 6, 5, 6, 8, 8, 5, 8, 9, 6, 5, 8, 5, 6, 6, 8, 6, 5, 5, 6, 6, 5, 6, 7, 5, 6, 6, 6, 8, 7, 5, 5, 5, 6, 5, 5, 5, 6, 5, 12, 7, 6, 6, 5, 5, 6, 11, 16, 6, 10, 9, 7, 6, 5, 5, 6, 7, 11, 8, 10, 5, 8, 5, 6, 9, 5, 5, 5, 6, 16, 5, 5, 6, 11, 7, 5, 7, 7, 5, 5, 20, 20, 6, 5, 10, 6, 6, 5, 7, 8, 8, 12, 5, 5, 5, 6, 5, 7, 5, 5, 6, 6, 5, 5, 5, 5, 5, 5, 6, 8, 5, 6, 6, 10, 5, 5, 10, 14, 28, 5, 6, 5, 6, 5, 6, 8, 5, 9, 8, 7, 8, 6, 6, 6, 7, 5, 13, 5, 5, 5, 11, 9, 6, 6, 8, 12, 7, 5, 11, 20, 7, 7, 5, 11, 5, 6, 9, 6, 8, 10, 9, 6, 6, 6, 6, 5, 10, 5, 6, 11, 5, 5, 8, 5, 6, 6, 6, 7, 6, 5, 7, 7, 5, 7, 6, 17, 6, 6, 5, 5, 5, 11, 5, 5, 5, 6, 4, 14, 5, 5, 7, 7, 5, 5, 5, 17, 9, 5, 7, 4, 8, 5, 5, 10, 5, 5, 5, 10, 8, 5, 5, 5, 9, 6, 6, 8, 5, 8, 8, 6, 14, 5, 7, 5, 9, 6, 6, 15, 5, 9, 6, 5, 6, 5, 5, 8, 6, 5, 11, 7, 5, 5, 8, 5, 6, 13, 6, 5, 8, 5, 8, 5, 7, 5, 7, 5, 9, 5, 6, 11, 9, 11, 5, 5, 5, 6, 5, 16, 5, 9, 5, 7, 5, 7, 6, 7, 10, 12, 6, 5, 21, 6, 8, 7, 6, 5, 6, 5, 5, 7, 7, 6, 9, 5, 5, 5, 6, 9, 11, 6, 7, 5, 5, 5, 5, 5, 9, 5, 5, 5, 7, 5, 5, 5, 5, 24, 6, 10, 5, 6, 5, 6, 5, 6, 5, 6, 5, 10, 7, 5, 5, 8, 5, 6, 5, 5, 5, 10, 4, 5, 8, 5, 6, 6, 5, 6, 8, 20, 5, 7, 5, 14, 6, 11, 6, 7, 5, 6, 5, 5, 6, 6, 5, 7, 5, 5, 8, 7, 5, 15, 9, 11, 5, 5, 9, 8, 5, 13, 5, 5, 5, 5, 5, 6, 5, 6, 9, 5, 10, 11, 7, 10, 5, 6, 5, 5, 8, 5, 6, 8, 6, 5, 9, 7, 21, 5, 11, 5, 5, 6, 5, 8, 5, 6, 8, 8, 5, 7, 9, 5, 5, 12, 12, 18, 7, 5, 12, 6, 5, 8, 5, 5, 5, 7, 5, 7, 6, 11, 5, 5, 9, 5, 6, 21, 6, 8, 7, 5, 7, 7, 7, 5, 7, 22, 5, 5, 6, 7, 6, 5, 6, 6, 5, 10, 5, 13, 5, 5, 7, 8, 7, 7, 5, 5, 5, 5, 5, 7, 8, 5, 7, 6, 7, 5, 7, 5, 2, 5, 5, 8, 5, 9, 5, 5, 7, 8, 10, 8, 6, 5, 5, 7, 6, 5, 5, 5, 13, 6, 5, 5, 5, 5, 6, 6, 7, 5, 5, 7, 7, 8, 7, 5, 42, 5, 6, 7, 8, 14, 5, 8, 6, 6, 5, 13, 6, 7, 8, 5, 7, 6, 6, 9, 11, 5, 5, 9, 14, 6, 10, 15, 5, 5, 9, 5, 5, 5, 8, 7, 11, 12, 5, 5, 8, 9, 6, 7, 5, 7, 5, 5, 5, 7, 5, 7, 6, 5, 6, 11, 7, 15, 8, 6, 5, 25, 8, 6, 6, 6, 5, 7, 6, 6, 11, 5, 7, 17, 10, 3, 7, 12, 9, 23, 7, 5, 9, 8, 5, 19, 5, 7, 13, 11, 7, 6, 6, 5, 5, 6, 5, 5, 5, 8, 10, 15, 6, 5, 11, 5, 5, 6, 5, 5, 5, 6, 5, 6, 7, 5, 7, 5, 6, 7, 5, 5, 5, 6, 8, 13, 11, 10, 5, 5, 10, 8, 8, 8, 14, 5, 5, 7, 6, 5, 5, 5, 5, 5, 5, 5, 5, 5, 5, 15, 5, 5, 5, 7, 5, 6, 7, 7, 6, 8, 5, 5, 5, 5, 5, 6, 14, 5, 6, 17, 6, 5, 5, 9, 6, 7, 5, 6, 5, 5, 5, 6, 5, 5, 5, 6, 7, 7, 7, 6, 5, 12, 5, 7, 5, 5, 6, 6, 5, 5, 5, 6, 6, 7, 5, 6, 6, 5, 5, 6, 5, 8, 5, 5, 6, 6, 5, 5, 8, 7, 6, 7, 10, 8, 10, 6, 5, 11, 5, 12, 11, 5, 5, 7, 8], \"xbins\": {\"size\": 2, \"start\": 0}}],                        {\"bargap\": 0.2, \"template\": {\"data\": {\"bar\": [{\"error_x\": {\"color\": \"#2a3f5f\"}, \"error_y\": {\"color\": \"#2a3f5f\"}, \"marker\": {\"line\": {\"color\": \"#E5ECF6\", \"width\": 0.5}}, \"type\": \"bar\"}], \"barpolar\": [{\"marker\": {\"line\": {\"color\": \"#E5ECF6\", \"width\": 0.5}}, \"type\": \"barpolar\"}], \"carpet\": [{\"aaxis\": {\"endlinecolor\": \"#2a3f5f\", \"gridcolor\": \"white\", \"linecolor\": \"white\", \"minorgridcolor\": \"white\", \"startlinecolor\": \"#2a3f5f\"}, \"baxis\": {\"endlinecolor\": \"#2a3f5f\", \"gridcolor\": \"white\", \"linecolor\": \"white\", \"minorgridcolor\": \"white\", \"startlinecolor\": \"#2a3f5f\"}, \"type\": \"carpet\"}], \"choropleth\": [{\"colorbar\": {\"outlinewidth\": 0, \"ticks\": \"\"}, \"type\": \"choropleth\"}], \"contour\": [{\"colorbar\": {\"outlinewidth\": 0, \"ticks\": \"\"}, \"colorscale\": [[0.0, \"#0d0887\"], [0.1111111111111111, \"#46039f\"], [0.2222222222222222, \"#7201a8\"], [0.3333333333333333, \"#9c179e\"], [0.4444444444444444, \"#bd3786\"], [0.5555555555555556, \"#d8576b\"], [0.6666666666666666, \"#ed7953\"], [0.7777777777777778, \"#fb9f3a\"], [0.8888888888888888, \"#fdca26\"], [1.0, \"#f0f921\"]], \"type\": \"contour\"}], \"contourcarpet\": [{\"colorbar\": {\"outlinewidth\": 0, \"ticks\": \"\"}, \"type\": \"contourcarpet\"}], \"heatmap\": [{\"colorbar\": {\"outlinewidth\": 0, \"ticks\": \"\"}, \"colorscale\": [[0.0, \"#0d0887\"], [0.1111111111111111, \"#46039f\"], [0.2222222222222222, \"#7201a8\"], [0.3333333333333333, \"#9c179e\"], [0.4444444444444444, \"#bd3786\"], [0.5555555555555556, \"#d8576b\"], [0.6666666666666666, \"#ed7953\"], [0.7777777777777778, \"#fb9f3a\"], [0.8888888888888888, \"#fdca26\"], [1.0, \"#f0f921\"]], \"type\": \"heatmap\"}], \"heatmapgl\": [{\"colorbar\": {\"outlinewidth\": 0, \"ticks\": \"\"}, \"colorscale\": [[0.0, \"#0d0887\"], [0.1111111111111111, \"#46039f\"], [0.2222222222222222, \"#7201a8\"], [0.3333333333333333, \"#9c179e\"], [0.4444444444444444, \"#bd3786\"], [0.5555555555555556, \"#d8576b\"], [0.6666666666666666, \"#ed7953\"], [0.7777777777777778, \"#fb9f3a\"], [0.8888888888888888, \"#fdca26\"], [1.0, \"#f0f921\"]], \"type\": \"heatmapgl\"}], \"histogram\": [{\"marker\": {\"colorbar\": {\"outlinewidth\": 0, \"ticks\": \"\"}}, \"type\": \"histogram\"}], \"histogram2d\": [{\"colorbar\": {\"outlinewidth\": 0, \"ticks\": \"\"}, \"colorscale\": [[0.0, \"#0d0887\"], [0.1111111111111111, \"#46039f\"], [0.2222222222222222, \"#7201a8\"], [0.3333333333333333, \"#9c179e\"], [0.4444444444444444, \"#bd3786\"], [0.5555555555555556, \"#d8576b\"], [0.6666666666666666, \"#ed7953\"], [0.7777777777777778, \"#fb9f3a\"], [0.8888888888888888, \"#fdca26\"], [1.0, \"#f0f921\"]], \"type\": \"histogram2d\"}], \"histogram2dcontour\": [{\"colorbar\": {\"outlinewidth\": 0, \"ticks\": \"\"}, \"colorscale\": [[0.0, \"#0d0887\"], [0.1111111111111111, \"#46039f\"], [0.2222222222222222, \"#7201a8\"], [0.3333333333333333, \"#9c179e\"], [0.4444444444444444, \"#bd3786\"], [0.5555555555555556, \"#d8576b\"], [0.6666666666666666, \"#ed7953\"], [0.7777777777777778, \"#fb9f3a\"], [0.8888888888888888, \"#fdca26\"], [1.0, \"#f0f921\"]], \"type\": \"histogram2dcontour\"}], \"mesh3d\": [{\"colorbar\": {\"outlinewidth\": 0, \"ticks\": \"\"}, \"type\": \"mesh3d\"}], \"parcoords\": [{\"line\": {\"colorbar\": {\"outlinewidth\": 0, \"ticks\": \"\"}}, \"type\": \"parcoords\"}], \"pie\": [{\"automargin\": true, \"type\": \"pie\"}], \"scatter\": [{\"marker\": {\"colorbar\": {\"outlinewidth\": 0, \"ticks\": \"\"}}, \"type\": \"scatter\"}], \"scatter3d\": [{\"line\": {\"colorbar\": {\"outlinewidth\": 0, \"ticks\": \"\"}}, \"marker\": {\"colorbar\": {\"outlinewidth\": 0, \"ticks\": \"\"}}, \"type\": \"scatter3d\"}], \"scattercarpet\": [{\"marker\": {\"colorbar\": {\"outlinewidth\": 0, \"ticks\": \"\"}}, \"type\": \"scattercarpet\"}], \"scattergeo\": [{\"marker\": {\"colorbar\": {\"outlinewidth\": 0, \"ticks\": \"\"}}, \"type\": \"scattergeo\"}], \"scattergl\": [{\"marker\": {\"colorbar\": {\"outlinewidth\": 0, \"ticks\": \"\"}}, \"type\": \"scattergl\"}], \"scattermapbox\": [{\"marker\": {\"colorbar\": {\"outlinewidth\": 0, \"ticks\": \"\"}}, \"type\": \"scattermapbox\"}], \"scatterpolar\": [{\"marker\": {\"colorbar\": {\"outlinewidth\": 0, \"ticks\": \"\"}}, \"type\": \"scatterpolar\"}], \"scatterpolargl\": [{\"marker\": {\"colorbar\": {\"outlinewidth\": 0, \"ticks\": \"\"}}, \"type\": \"scatterpolargl\"}], \"scatterternary\": [{\"marker\": {\"colorbar\": {\"outlinewidth\": 0, \"ticks\": \"\"}}, \"type\": \"scatterternary\"}], \"surface\": [{\"colorbar\": {\"outlinewidth\": 0, \"ticks\": \"\"}, \"colorscale\": [[0.0, \"#0d0887\"], [0.1111111111111111, \"#46039f\"], [0.2222222222222222, \"#7201a8\"], [0.3333333333333333, \"#9c179e\"], [0.4444444444444444, \"#bd3786\"], [0.5555555555555556, \"#d8576b\"], [0.6666666666666666, \"#ed7953\"], [0.7777777777777778, \"#fb9f3a\"], [0.8888888888888888, \"#fdca26\"], [1.0, \"#f0f921\"]], \"type\": \"surface\"}], \"table\": [{\"cells\": {\"fill\": {\"color\": \"#EBF0F8\"}, \"line\": {\"color\": \"white\"}}, \"header\": {\"fill\": {\"color\": \"#C8D4E3\"}, \"line\": {\"color\": \"white\"}}, \"type\": \"table\"}]}, \"layout\": {\"annotationdefaults\": {\"arrowcolor\": \"#2a3f5f\", \"arrowhead\": 0, \"arrowwidth\": 1}, \"coloraxis\": {\"colorbar\": {\"outlinewidth\": 0, \"ticks\": \"\"}}, \"colorscale\": {\"diverging\": [[0, \"#8e0152\"], [0.1, \"#c51b7d\"], [0.2, \"#de77ae\"], [0.3, \"#f1b6da\"], [0.4, \"#fde0ef\"], [0.5, \"#f7f7f7\"], [0.6, \"#e6f5d0\"], [0.7, \"#b8e186\"], [0.8, \"#7fbc41\"], [0.9, \"#4d9221\"], [1, \"#276419\"]], \"sequential\": [[0.0, \"#0d0887\"], [0.1111111111111111, \"#46039f\"], [0.2222222222222222, \"#7201a8\"], [0.3333333333333333, \"#9c179e\"], [0.4444444444444444, \"#bd3786\"], [0.5555555555555556, \"#d8576b\"], [0.6666666666666666, \"#ed7953\"], [0.7777777777777778, \"#fb9f3a\"], [0.8888888888888888, \"#fdca26\"], [1.0, \"#f0f921\"]], \"sequentialminus\": [[0.0, \"#0d0887\"], [0.1111111111111111, \"#46039f\"], [0.2222222222222222, \"#7201a8\"], [0.3333333333333333, \"#9c179e\"], [0.4444444444444444, \"#bd3786\"], [0.5555555555555556, \"#d8576b\"], [0.6666666666666666, \"#ed7953\"], [0.7777777777777778, \"#fb9f3a\"], [0.8888888888888888, \"#fdca26\"], [1.0, \"#f0f921\"]]}, \"colorway\": [\"#636efa\", \"#EF553B\", \"#00cc96\", \"#ab63fa\", \"#FFA15A\", \"#19d3f3\", \"#FF6692\", \"#B6E880\", \"#FF97FF\", \"#FECB52\"], \"font\": {\"color\": \"#2a3f5f\"}, \"geo\": {\"bgcolor\": \"white\", \"lakecolor\": \"white\", \"landcolor\": \"#E5ECF6\", \"showlakes\": true, \"showland\": true, \"subunitcolor\": \"white\"}, \"hoverlabel\": {\"align\": \"left\"}, \"hovermode\": \"closest\", \"mapbox\": {\"style\": \"light\"}, \"paper_bgcolor\": \"white\", \"plot_bgcolor\": \"#E5ECF6\", \"polar\": {\"angularaxis\": {\"gridcolor\": \"white\", \"linecolor\": \"white\", \"ticks\": \"\"}, \"bgcolor\": \"#E5ECF6\", \"radialaxis\": {\"gridcolor\": \"white\", \"linecolor\": \"white\", \"ticks\": \"\"}}, \"scene\": {\"xaxis\": {\"backgroundcolor\": \"#E5ECF6\", \"gridcolor\": \"white\", \"gridwidth\": 2, \"linecolor\": \"white\", \"showbackground\": true, \"ticks\": \"\", \"zerolinecolor\": \"white\"}, \"yaxis\": {\"backgroundcolor\": \"#E5ECF6\", \"gridcolor\": \"white\", \"gridwidth\": 2, \"linecolor\": \"white\", \"showbackground\": true, \"ticks\": \"\", \"zerolinecolor\": \"white\"}, \"zaxis\": {\"backgroundcolor\": \"#E5ECF6\", \"gridcolor\": \"white\", \"gridwidth\": 2, \"linecolor\": \"white\", \"showbackground\": true, \"ticks\": \"\", \"zerolinecolor\": \"white\"}}, \"shapedefaults\": {\"line\": {\"color\": \"#2a3f5f\"}}, \"ternary\": {\"aaxis\": {\"gridcolor\": \"white\", \"linecolor\": \"white\", \"ticks\": \"\"}, \"baxis\": {\"gridcolor\": \"white\", \"linecolor\": \"white\", \"ticks\": \"\"}, \"bgcolor\": \"#E5ECF6\", \"caxis\": {\"gridcolor\": \"white\", \"linecolor\": \"white\", \"ticks\": \"\"}}, \"title\": {\"x\": 0.05}, \"xaxis\": {\"automargin\": true, \"gridcolor\": \"white\", \"linecolor\": \"white\", \"ticks\": \"\", \"title\": {\"standoff\": 15}, \"zerolinecolor\": \"white\", \"zerolinewidth\": 2}, \"yaxis\": {\"automargin\": true, \"gridcolor\": \"white\", \"linecolor\": \"white\", \"ticks\": \"\", \"title\": {\"standoff\": 15}, \"zerolinecolor\": \"white\", \"zerolinewidth\": 2}}}, \"title\": {\"text\": \"Distribution Of Number of Ratings Per Reviewer\"}, \"xaxis\": {\"title\": {\"text\": \"Ratings Per Reviewer\"}}, \"yaxis\": {\"title\": {\"text\": \"Count\"}}},                        {\"responsive\": true}                    ).then(function(){\n",
       "                            \n",
       "var gd = document.getElementById('08bd6496-9bde-4b90-8ccc-d09d53bf93ff');\n",
       "var x = new MutationObserver(function (mutations, observer) {{\n",
       "        var display = window.getComputedStyle(gd).display;\n",
       "        if (!display || display === 'none') {{\n",
       "            console.log([gd, 'removed!']);\n",
       "            Plotly.purge(gd);\n",
       "            observer.disconnect();\n",
       "        }}\n",
       "}});\n",
       "\n",
       "// Listen for the removal of the full notebook cells\n",
       "var notebookContainer = gd.closest('#notebook-container');\n",
       "if (notebookContainer) {{\n",
       "    x.observe(notebookContainer, {childList: true});\n",
       "}}\n",
       "\n",
       "// Listen for the clearing of the current output cell\n",
       "var outputEl = gd.closest('.output');\n",
       "if (outputEl) {{\n",
       "    x.observe(outputEl, {childList: true});\n",
       "}}\n",
       "\n",
       "                        })                };                });            </script>        </div>"
      ]
     },
     "metadata": {},
     "output_type": "display_data"
    }
   ],
   "source": [
    "# Number of ratings per user\n",
    "data = df.groupby('reviewerID')['rating'].count()\n",
    "\n",
    "# Create trace\n",
    "trace = go.Histogram(x = data.values,\n",
    "                     name = 'Ratings',\n",
    "                     xbins = dict(start = 0, size = 2))\n",
    "# Create layout\n",
    "layout = go.Layout(title = 'Distribution Of Number of Ratings Per Reviewer',\n",
    "                   xaxis = dict(title = 'Ratings Per Reviewer'),\n",
    "                   yaxis = dict(title = 'Count'),\n",
    "                   bargap = 0.2)\n",
    "\n",
    "# Create plot\n",
    "fig = go.Figure(data=[trace], layout=layout)\n",
    "iplot(fig)"
   ]
  },
  {
   "cell_type": "markdown",
   "metadata": {
    "id": "2mmP9mZ7i58A"
   },
   "source": [
    "## 3. Collaborative Filtering Recommender System"
   ]
  },
  {
   "cell_type": "markdown",
   "metadata": {},
   "source": [
    "### 3.1 Read data with Surprise"
   ]
  },
  {
   "cell_type": "markdown",
   "metadata": {},
   "source": [
    "Convert datasets to the format required by the Surprise library"
   ]
  },
  {
   "cell_type": "code",
   "execution_count": 18,
   "metadata": {},
   "outputs": [],
   "source": [
    "from surprise import Dataset\n",
    "from surprise import Reader\n",
    "\n",
    "reader = Reader(rating_scale=(1, 5))\n",
    "data = Dataset.load_from_df(df[['reviewerID', 'productID', 'rating']], reader = reader)"
   ]
  },
  {
   "cell_type": "markdown",
   "metadata": {},
   "source": [
    "### 3.2 Split data between train and test for unbiased evaluation"
   ]
  },
  {
   "cell_type": "code",
   "execution_count": 19,
   "metadata": {},
   "outputs": [],
   "source": [
    "from sklearn.model_selection import train_test_split\n",
    "\n",
    "#trainset & testset will be used whenever no surprise algorithm is being used (content-based)\n",
    "trainset, testset = train_test_split(df, test_size=0.2,stratify=df['reviewerID'], random_state=42)\n",
    "\n",
    "#those 2 sets will be used for collaborative filtering\n",
    "data_train = Dataset.load_from_df(trainset[['reviewerID', 'productID', 'rating']], reader = reader)\n",
    "data_test = Dataset.load_from_df(testset[['reviewerID', 'productID', 'rating']], reader = reader)"
   ]
  },
  {
   "cell_type": "markdown",
   "metadata": {
    "id": "huRomtfvi58L"
   },
   "source": [
    "### 3.3 Benchmarking"
   ]
  },
  {
   "cell_type": "markdown",
   "metadata": {
    "id": "fI9DZEDpi58M"
   },
   "source": [
    "We will try different algorithm with defefault parameters to get the base"
   ]
  },
  {
   "cell_type": "code",
   "execution_count": 20,
   "metadata": {
    "executionInfo": {
     "elapsed": 2043,
     "status": "aborted",
     "timestamp": 1605555194395,
     "user": {
      "displayName": "Lucas Holstein",
      "photoUrl": "",
      "userId": "07076694079280137451"
     },
     "user_tz": -60
    },
    "id": "HdkKe_9xi58N"
   },
   "outputs": [
    {
     "name": "stdout",
     "output_type": "stream",
     "text": [
      "Testing: <surprise.prediction_algorithms.matrix_factorization.SVD object at 0x000001AD3C61DE88>\n",
      "Testing: <surprise.prediction_algorithms.matrix_factorization.SVDpp object at 0x000001AD3C622088>\n",
      "Testing: <surprise.prediction_algorithms.slope_one.SlopeOne object at 0x000001AD3C6220C8>\n",
      "Testing: <surprise.prediction_algorithms.matrix_factorization.NMF object at 0x000001AD3C622108>\n",
      "Testing: <surprise.prediction_algorithms.random_pred.NormalPredictor object at 0x000001AD3C622148>\n",
      "Testing: <surprise.prediction_algorithms.knns.KNNBaseline object at 0x000001AD3C386888>\n",
      "Estimating biases using als...\n",
      "Computing the msd similarity matrix...\n",
      "Done computing similarity matrix.\n",
      "Estimating biases using als...\n",
      "Computing the msd similarity matrix...\n",
      "Done computing similarity matrix.\n",
      "Estimating biases using als...\n",
      "Computing the msd similarity matrix...\n",
      "Done computing similarity matrix.\n",
      "Testing: <surprise.prediction_algorithms.baseline_only.BaselineOnly object at 0x000001AD3C622188>\n",
      "Estimating biases using als...\n",
      "Estimating biases using als...\n",
      "Estimating biases using als...\n",
      "Testing: <surprise.prediction_algorithms.co_clustering.CoClustering object at 0x000001AD3C6221C8>\n"
     ]
    },
    {
     "data": {
      "text/html": [
       "<div>\n",
       "<style scoped>\n",
       "    .dataframe tbody tr th:only-of-type {\n",
       "        vertical-align: middle;\n",
       "    }\n",
       "\n",
       "    .dataframe tbody tr th {\n",
       "        vertical-align: top;\n",
       "    }\n",
       "\n",
       "    .dataframe thead th {\n",
       "        text-align: right;\n",
       "    }\n",
       "</style>\n",
       "<table border=\"1\" class=\"dataframe\">\n",
       "  <thead>\n",
       "    <tr style=\"text-align: right;\">\n",
       "      <th></th>\n",
       "      <th>test_rmse</th>\n",
       "      <th>fit_time</th>\n",
       "      <th>test_time</th>\n",
       "    </tr>\n",
       "    <tr>\n",
       "      <th>Algorithm</th>\n",
       "      <th></th>\n",
       "      <th></th>\n",
       "      <th></th>\n",
       "    </tr>\n",
       "  </thead>\n",
       "  <tbody>\n",
       "    <tr>\n",
       "      <th>BaselineOnly</th>\n",
       "      <td>0.879134</td>\n",
       "      <td>0.007635</td>\n",
       "      <td>0.010316</td>\n",
       "    </tr>\n",
       "    <tr>\n",
       "      <th>SVD</th>\n",
       "      <td>0.881526</td>\n",
       "      <td>0.250555</td>\n",
       "      <td>0.014970</td>\n",
       "    </tr>\n",
       "    <tr>\n",
       "      <th>SVDpp</th>\n",
       "      <td>0.881913</td>\n",
       "      <td>0.733890</td>\n",
       "      <td>0.047872</td>\n",
       "    </tr>\n",
       "    <tr>\n",
       "      <th>KNNBaseline</th>\n",
       "      <td>0.951915</td>\n",
       "      <td>0.055066</td>\n",
       "      <td>0.050047</td>\n",
       "    </tr>\n",
       "    <tr>\n",
       "      <th>CoClustering</th>\n",
       "      <td>1.050085</td>\n",
       "      <td>0.290679</td>\n",
       "      <td>0.012499</td>\n",
       "    </tr>\n",
       "    <tr>\n",
       "      <th>SlopeOne</th>\n",
       "      <td>1.054882</td>\n",
       "      <td>0.023946</td>\n",
       "      <td>0.014294</td>\n",
       "    </tr>\n",
       "    <tr>\n",
       "      <th>NormalPredictor</th>\n",
       "      <td>1.137396</td>\n",
       "      <td>0.005606</td>\n",
       "      <td>0.014464</td>\n",
       "    </tr>\n",
       "    <tr>\n",
       "      <th>NMF</th>\n",
       "      <td>1.177164</td>\n",
       "      <td>0.374654</td>\n",
       "      <td>0.012946</td>\n",
       "    </tr>\n",
       "  </tbody>\n",
       "</table>\n",
       "</div>"
      ],
      "text/plain": [
       "                 test_rmse  fit_time  test_time\n",
       "Algorithm                                      \n",
       "BaselineOnly      0.879134  0.007635   0.010316\n",
       "SVD               0.881526  0.250555   0.014970\n",
       "SVDpp             0.881913  0.733890   0.047872\n",
       "KNNBaseline       0.951915  0.055066   0.050047\n",
       "CoClustering      1.050085  0.290679   0.012499\n",
       "SlopeOne          1.054882  0.023946   0.014294\n",
       "NormalPredictor   1.137396  0.005606   0.014464\n",
       "NMF               1.177164  0.374654   0.012946"
      ]
     },
     "execution_count": 20,
     "metadata": {},
     "output_type": "execute_result"
    }
   ],
   "source": [
    "from surprise import SVD\n",
    "from surprise import SVDpp\n",
    "from surprise import BaselineOnly\n",
    "from surprise import NMF\n",
    "from surprise import SlopeOne\n",
    "from surprise import CoClustering\n",
    "from surprise import NormalPredictor\n",
    "\n",
    "\n",
    "my_seed = 42\n",
    "random.seed(my_seed)\n",
    "np.random.seed(my_seed)\n",
    "\n",
    "\n",
    "benchmark = []\n",
    "# Iterate over all algorithms\n",
    "for algorithm in [SVD(), SVDpp(), SlopeOne(), NMF(), NormalPredictor(), KNNBaseline(), BaselineOnly(), CoClustering()]:\n",
    "    \n",
    "    print(\"Testing: {}\".format(algorithm))\n",
    "    # Perform cross validation\n",
    "    results = cross_validate(algorithm, data_train, measures=['RMSE'], cv=3, verbose=False)\n",
    "    \n",
    "    # Get results & append algorithm name\n",
    "    tmp = pd.DataFrame.from_dict(results).mean(axis=0)\n",
    "    tmp = tmp.append(pd.Series([str(algorithm).split(' ')[0].split('.')[-1]], index=['Algorithm']))\n",
    "    benchmark.append(tmp)\n",
    "    \n",
    "pd.DataFrame(benchmark).set_index('Algorithm').sort_values('test_rmse')   "
   ]
  },
  {
   "cell_type": "markdown",
   "metadata": {
    "id": "sqTPA6mei58R"
   },
   "source": [
    "Now that we have defined the algorithm configuration, we can actually test it. Again, Surprise provides some handy functions for it, in particular it includes a function to evaluate the algorithm via Cross Validation\n",
    "\n",
    "Looking at the results we see that SVD++ (0.877386), BaselineOnly (0.875190) and SVD (0.877386) provide the best results."
   ]
  },
  {
   "cell_type": "markdown",
   "metadata": {
    "id": "KjVxE8mMi58S"
   },
   "source": [
    "### 3.4 Hyperparameters Tuning\n",
    "#### 3.4.1 KNN Baseline"
   ]
  },
  {
   "cell_type": "code",
   "execution_count": 21,
   "metadata": {
    "executionInfo": {
     "elapsed": 2035,
     "status": "aborted",
     "timestamp": 1605555194396,
     "user": {
      "displayName": "Lucas Holstein",
      "photoUrl": "",
      "userId": "07076694079280137451"
     },
     "user_tz": -60
    },
    "id": "Bi6Wrk4Ci58T"
   },
   "outputs": [
    {
     "name": "stdout",
     "output_type": "stream",
     "text": [
      "Estimating biases using als...\n",
      "Computing the msd similarity matrix...\n",
      "Done computing similarity matrix.\n",
      "Estimating biases using als...\n",
      "Computing the msd similarity matrix...\n",
      "Done computing similarity matrix.\n",
      "Estimating biases using als...\n",
      "Computing the msd similarity matrix...\n",
      "Done computing similarity matrix.\n",
      "Estimating biases using als...\n",
      "Computing the msd similarity matrix...\n",
      "Done computing similarity matrix.\n",
      "Estimating biases using als...\n",
      "Computing the msd similarity matrix...\n",
      "Done computing similarity matrix.\n",
      "Estimating biases using als...\n",
      "Computing the msd similarity matrix...\n",
      "Done computing similarity matrix.\n",
      "Estimating biases using als...\n",
      "Computing the msd similarity matrix...\n",
      "Done computing similarity matrix.\n",
      "Estimating biases using als...\n",
      "Computing the msd similarity matrix...\n",
      "Done computing similarity matrix.\n",
      "Estimating biases using als...\n",
      "Computing the msd similarity matrix...\n",
      "Done computing similarity matrix.\n",
      "Estimating biases using als...\n",
      "Computing the msd similarity matrix...\n",
      "Done computing similarity matrix.\n",
      "Estimating biases using als...\n",
      "Computing the msd similarity matrix...\n",
      "Done computing similarity matrix.\n",
      "Estimating biases using als...\n",
      "Computing the msd similarity matrix...\n",
      "Done computing similarity matrix.\n",
      "Estimating biases using als...\n",
      "Computing the msd similarity matrix...\n",
      "Done computing similarity matrix.\n",
      "Estimating biases using als...\n",
      "Computing the msd similarity matrix...\n",
      "Done computing similarity matrix.\n",
      "Estimating biases using als...\n",
      "Computing the msd similarity matrix...\n",
      "Done computing similarity matrix.\n",
      "Estimating biases using als...\n",
      "Computing the msd similarity matrix...\n",
      "Done computing similarity matrix.\n",
      "Estimating biases using als...\n",
      "Computing the msd similarity matrix...\n",
      "Done computing similarity matrix.\n",
      "Estimating biases using als...\n",
      "Computing the msd similarity matrix...\n",
      "Done computing similarity matrix.\n",
      "Estimating biases using als...\n",
      "Computing the msd similarity matrix...\n",
      "Done computing similarity matrix.\n",
      "Estimating biases using als...\n",
      "Computing the msd similarity matrix...\n",
      "Done computing similarity matrix.\n",
      "Estimating biases using als...\n",
      "Computing the msd similarity matrix...\n",
      "Done computing similarity matrix.\n",
      "Estimating biases using als...\n",
      "Computing the msd similarity matrix...\n",
      "Done computing similarity matrix.\n",
      "Estimating biases using als...\n",
      "Computing the msd similarity matrix...\n",
      "Done computing similarity matrix.\n",
      "Estimating biases using als...\n",
      "Computing the msd similarity matrix...\n",
      "Done computing similarity matrix.\n",
      "Estimating biases using als...\n",
      "Computing the msd similarity matrix...\n",
      "Done computing similarity matrix.\n",
      "Estimating biases using als...\n",
      "Computing the msd similarity matrix...\n",
      "Done computing similarity matrix.\n",
      "Estimating biases using als...\n",
      "Computing the msd similarity matrix...\n",
      "Done computing similarity matrix.\n",
      "Estimating biases using als...\n",
      "Computing the msd similarity matrix...\n",
      "Done computing similarity matrix.\n",
      "Estimating biases using als...\n",
      "Computing the msd similarity matrix...\n",
      "Done computing similarity matrix.\n",
      "Estimating biases using als...\n",
      "Computing the msd similarity matrix...\n",
      "Done computing similarity matrix.\n",
      "Estimating biases using als...\n",
      "Computing the cosine similarity matrix...\n",
      "Done computing similarity matrix.\n",
      "Estimating biases using als...\n",
      "Computing the cosine similarity matrix...\n",
      "Done computing similarity matrix.\n",
      "Estimating biases using als...\n",
      "Computing the cosine similarity matrix...\n",
      "Done computing similarity matrix.\n",
      "Estimating biases using als...\n",
      "Computing the cosine similarity matrix...\n",
      "Done computing similarity matrix.\n",
      "Estimating biases using als...\n",
      "Computing the cosine similarity matrix...\n",
      "Done computing similarity matrix.\n",
      "Estimating biases using als...\n",
      "Computing the cosine similarity matrix...\n",
      "Done computing similarity matrix.\n",
      "Estimating biases using als...\n",
      "Computing the cosine similarity matrix...\n",
      "Done computing similarity matrix.\n",
      "Estimating biases using als...\n",
      "Computing the cosine similarity matrix...\n",
      "Done computing similarity matrix.\n",
      "Estimating biases using als...\n",
      "Computing the cosine similarity matrix...\n",
      "Done computing similarity matrix.\n",
      "Estimating biases using als...\n",
      "Computing the cosine similarity matrix...\n",
      "Done computing similarity matrix.\n",
      "Estimating biases using als...\n",
      "Computing the cosine similarity matrix...\n",
      "Done computing similarity matrix.\n",
      "Estimating biases using als...\n",
      "Computing the cosine similarity matrix...\n",
      "Done computing similarity matrix.\n",
      "Estimating biases using als...\n",
      "Computing the cosine similarity matrix...\n",
      "Done computing similarity matrix.\n",
      "Estimating biases using als...\n",
      "Computing the cosine similarity matrix...\n",
      "Done computing similarity matrix.\n",
      "Estimating biases using als...\n",
      "Computing the cosine similarity matrix...\n",
      "Done computing similarity matrix.\n",
      "Estimating biases using als...\n",
      "Computing the cosine similarity matrix...\n",
      "Done computing similarity matrix.\n",
      "Estimating biases using als...\n",
      "Computing the cosine similarity matrix...\n",
      "Done computing similarity matrix.\n",
      "Estimating biases using als...\n",
      "Computing the cosine similarity matrix...\n",
      "Done computing similarity matrix.\n",
      "Estimating biases using als...\n",
      "Computing the cosine similarity matrix...\n",
      "Done computing similarity matrix.\n",
      "Estimating biases using als...\n",
      "Computing the cosine similarity matrix...\n",
      "Done computing similarity matrix.\n",
      "Estimating biases using als...\n",
      "Computing the cosine similarity matrix...\n",
      "Done computing similarity matrix.\n",
      "Estimating biases using als...\n",
      "Computing the cosine similarity matrix...\n",
      "Done computing similarity matrix.\n",
      "Estimating biases using als...\n",
      "Computing the cosine similarity matrix...\n",
      "Done computing similarity matrix.\n",
      "Estimating biases using als...\n",
      "Computing the cosine similarity matrix...\n",
      "Done computing similarity matrix.\n",
      "Estimating biases using als...\n",
      "Computing the cosine similarity matrix...\n",
      "Done computing similarity matrix.\n",
      "Estimating biases using als...\n",
      "Computing the cosine similarity matrix...\n",
      "Done computing similarity matrix.\n",
      "Estimating biases using als...\n",
      "Computing the cosine similarity matrix...\n",
      "Done computing similarity matrix.\n",
      "Estimating biases using als...\n",
      "Computing the cosine similarity matrix...\n",
      "Done computing similarity matrix.\n",
      "Estimating biases using als...\n",
      "Computing the cosine similarity matrix...\n",
      "Done computing similarity matrix.\n",
      "Estimating biases using als...\n",
      "Computing the cosine similarity matrix...\n",
      "Done computing similarity matrix.\n",
      "Grid Search...\n",
      "0.875422834066868\n",
      "{'sim_options': {'name': 'msd', 'min_support': 5, 'user_based': True}}\n"
     ]
    }
   ],
   "source": [
    "from surprise import KNNBaseline\n",
    "from surprise.model_selection import GridSearchCV\n",
    "from sklearn.model_selection import KFold\n",
    "\n",
    "\n",
    "my_seed = 42\n",
    "random.seed(my_seed)\n",
    "np.random.seed(my_seed)\n",
    "\n",
    "sim_options = {\n",
    "    \"name\": [\"msd\", \"cosine\"],\n",
    "    \"min_support\": [3, 4, 5, 7, 10],\n",
    "    \"user_based\": [False, True],\n",
    "}\n",
    "\n",
    "param_grid = {\"sim_options\": sim_options}\n",
    "\n",
    "gs = GridSearchCV(KNNBaseline, param_grid, measures=[\"rmse\", \"mae\"], cv=3)\n",
    "gs.fit(data_train)\n",
    "print('Grid Search...')\n",
    "print(gs.best_score[\"rmse\"])\n",
    "print(gs.best_params[\"rmse\"])"
   ]
  },
  {
   "cell_type": "markdown",
   "metadata": {
    "id": "iVte7evVi58a"
   },
   "source": [
    "#### 3.4.2 SVDpp"
   ]
  },
  {
   "cell_type": "markdown",
   "metadata": {},
   "source": [
    "Default parameters: <br>\n",
    "n_factors – The number of factors. Default is 20.<br>\n",
    "n_epochs – The number of iteration of the SGD procedure. Default is 20.<br>\n",
    "lr_all – The learning rate for all parameters. Default is 0.007. <br>\n",
    "reg_all – The regularization term for all parameters. Default is 0.02. <br>"
   ]
  },
  {
   "cell_type": "code",
   "execution_count": 22,
   "metadata": {
    "executionInfo": {
     "elapsed": 2026,
     "status": "aborted",
     "timestamp": 1605555194397,
     "user": {
      "displayName": "Lucas Holstein",
      "photoUrl": "",
      "userId": "07076694079280137451"
     },
     "user_tz": -60
    },
    "id": "bvAs6byVi58c"
   },
   "outputs": [
    {
     "name": "stdout",
     "output_type": "stream",
     "text": [
      "Grid Search...\n",
      "0.8742613741603303\n",
      "{'n_factors': 5, 'n_epochs': 10, 'lr_all': 0.01, 'reg_all': 0.2}\n"
     ]
    }
   ],
   "source": [
    "from __future__ import (absolute_import, division, print_function, unicode_literals)   \n",
    "\n",
    "my_seed = 42\n",
    "random.seed(my_seed)\n",
    "np.random.seed(my_seed)\n",
    "\n",
    "sim_options = {\n",
    "    'n_factors':[5,10,20,30],\n",
    "    \"n_epochs\": [5, 10, 20, 30], \n",
    "    \"lr_all\": [.0025, .007, .001, .01],\n",
    "    'reg_all':[.0025, .005, .002,0.2]\n",
    "}\n",
    "\n",
    "gs = GridSearchCV(SVDpp, sim_options, measures = [\"rmse\"], cv = 3)\n",
    "gs.fit(data_train)\n",
    "print('Grid Search...')\n",
    "print(gs.best_score[\"rmse\"])\n",
    "print(gs.best_params[\"rmse\"])"
   ]
  },
  {
   "cell_type": "markdown",
   "metadata": {},
   "source": [
    "#### 3.4.3 SVD"
   ]
  },
  {
   "cell_type": "code",
   "execution_count": 23,
   "metadata": {},
   "outputs": [
    {
     "name": "stdout",
     "output_type": "stream",
     "text": [
      "Grid Search...\n",
      "0.8745822973661915\n",
      "{'n_factors': 10, 'n_epochs': 20, 'lr_all': 0.005, 'reg_all': 0.1}\n"
     ]
    }
   ],
   "source": [
    "from __future__ import (absolute_import, division, print_function,         \n",
    "                        unicode_literals)   \n",
    "\n",
    "my_seed = 42\n",
    "random.seed(my_seed)\n",
    "np.random.seed(my_seed)\n",
    "\n",
    "sim_options = {\n",
    "    'n_factors':[5,10,25,50],\n",
    "    'n_epochs':[5,10,20],  \n",
    "    'lr_all':[.0025, .005, .001, .01, 0.1],\n",
    "    'reg_all':[.0025, .005, .001,0.1]}\n",
    "\n",
    "gs_svd = GridSearchCV(SVD, sim_options, measures = [\"rmse\"], cv = 3)\n",
    "gs_svd.fit(data_train)\n",
    "print('Grid Search...')\n",
    "print(gs_svd.best_score[\"rmse\"])\n",
    "print(gs_svd.best_params[\"rmse\"])"
   ]
  },
  {
   "cell_type": "markdown",
   "metadata": {},
   "source": [
    "### 3.5 Final model with SVD"
   ]
  },
  {
   "cell_type": "markdown",
   "metadata": {},
   "source": [
    "{'n_factors': 10, 'n_epochs': 20, 'lr_all': 0.005, 'reg_all': 0.1}"
   ]
  },
  {
   "cell_type": "code",
   "execution_count": 24,
   "metadata": {},
   "outputs": [],
   "source": [
    "algo = gs_svd.best_estimator['rmse']"
   ]
  },
  {
   "cell_type": "code",
   "execution_count": 25,
   "metadata": {},
   "outputs": [
    {
     "data": {
      "text/plain": [
       "<surprise.prediction_algorithms.matrix_factorization.SVD at 0x1ad3e154e88>"
      ]
     },
     "execution_count": 25,
     "metadata": {},
     "output_type": "execute_result"
    }
   ],
   "source": [
    "# retrain on the whole Train set\n",
    "\n",
    "#trainset = data.build_full_trainset()\n",
    "trainset2 = data_train.build_full_trainset()\n",
    "algo.fit(trainset2)"
   ]
  },
  {
   "cell_type": "code",
   "execution_count": 26,
   "metadata": {},
   "outputs": [
    {
     "name": "stdout",
     "output_type": "stream",
     "text": [
      "Biased accuracy on Trainset:   RMSE: 0.7488\n"
     ]
    },
    {
     "data": {
      "text/plain": [
       "0.7487811564450433"
      ]
     },
     "execution_count": 26,
     "metadata": {},
     "output_type": "execute_result"
    }
   ],
   "source": [
    "# Compute biased accuracy on Train Set\n",
    "\n",
    "#predictions = algo.test(trainset.build_testset())\n",
    "predictions = algo.test(trainset2.build_testset())\n",
    "print('Biased accuracy on Trainset:', end='   ')\n",
    "accuracy.rmse(predictions)"
   ]
  },
  {
   "cell_type": "code",
   "execution_count": 27,
   "metadata": {},
   "outputs": [
    {
     "name": "stdout",
     "output_type": "stream",
     "text": [
      "Unbiased accuracy on Testset, RMSE: 0.8566\n"
     ]
    },
    {
     "data": {
      "text/plain": [
       "0.8566129895603092"
      ]
     },
     "execution_count": 27,
     "metadata": {},
     "output_type": "execute_result"
    }
   ],
   "source": [
    "# Compute unbiased accuracy on Test Dataset\n",
    "\n",
    "#testset = data.construct_testset(B_raw_ratings)  # testset \n",
    "testset2 = data_test.build_full_trainset() #test dataset\n",
    "predictions = algo.test(testset2.build_testset())\n",
    "print('Unbiased accuracy on Testset,', end=' ')\n",
    "accuracy.rmse(predictions)"
   ]
  },
  {
   "cell_type": "markdown",
   "metadata": {
    "id": "J9HPOx3-i58k"
   },
   "source": [
    "We confirm that SVD provides the best results. Now that we have defined the algorithm configuration, we can actually test it. "
   ]
  },
  {
   "cell_type": "markdown",
   "metadata": {},
   "source": [
    "Since we selected a matrix factorization based algorithm as our best model, we can analyze the resulting matrices to understand what the algorithm is doing. We can analize Item and User Bias plus Factors."
   ]
  },
  {
   "cell_type": "markdown",
   "metadata": {},
   "source": [
    "### Analize Item Bias "
   ]
  },
  {
   "cell_type": "code",
   "execution_count": 28,
   "metadata": {},
   "outputs": [
    {
     "name": "stdout",
     "output_type": "stream",
     "text": [
      "Worst products ever:\n"
     ]
    },
    {
     "data": {
      "text/plain": [
       "[(-0.8831782020522051, 'B0002GZ052'),\n",
       " (-0.8169822507219041, 'B001RNHE30'),\n",
       " (-0.7655562631715239, 'B000LFCXL8'),\n",
       " (-0.6714576013638588, 'B001J1SX94'),\n",
       " (-0.6414192498289552, 'B0002DVBJY'),\n",
       " (-0.6258065375473804, 'B0002E1O3G'),\n",
       " (-0.5952796804399808, 'B001FQ74FW'),\n",
       " (-0.5792608324941906, 'B002GYWBIM'),\n",
       " (-0.5710906068654249, 'B0037M62JQ'),\n",
       " (-0.5624897530710264, 'B000EEJF4O'),\n",
       " (-0.5522412040439305, 'B000RKAFIU'),\n",
       " (-0.551160837674994, 'B004TE5HBU'),\n",
       " (-0.5445012928965443, 'B001D2TPZU'),\n",
       " (-0.5405004900835743, 'B0002II6V0'),\n",
       " (-0.5372842608675934, 'B0002E2XCW'),\n",
       " (-0.5362769576394226, 'B0002H03YY'),\n",
       " (-0.5313452612903876, 'B005ZV5K0O'),\n",
       " (-0.525701507304398, 'B000Y7Q2C4'),\n",
       " (-0.523880041077063, 'B000AC6DVS'),\n",
       " (-0.5153345085539228, 'B001RNOHHG')]"
      ]
     },
     "execution_count": 28,
     "metadata": {},
     "output_type": "execute_result"
    }
   ],
   "source": [
    "#item_bias = [(b, data.build_full_trainset().to_raw_iid(i)) for i, b in enumerate(algo.bi)]\n",
    "\n",
    "item_bias = [(b, data.build_full_trainset().to_raw_iid(i)) for i, b in enumerate(algo.bi)]\n",
    "print(\"Worst products ever:\")\n",
    "sorted(item_bias, key=lambda x: x[0])[:20]"
   ]
  },
  {
   "cell_type": "code",
   "execution_count": 29,
   "metadata": {},
   "outputs": [
    {
     "name": "stdout",
     "output_type": "stream",
     "text": [
      "Best products ever:\n"
     ]
    },
    {
     "data": {
      "text/plain": [
       "[(0.4083371316743087, 'B0002E38AS'),\n",
       " (0.36665998486348345, 'B0002E1NNC'),\n",
       " (0.34579785146845915, 'B0002GXV3A'),\n",
       " (0.32382971441694136, 'B0002D02IU'),\n",
       " (0.3186390515312655, 'B0002H0H4A'),\n",
       " (0.2987696065317783, 'B000V8GA46'),\n",
       " (0.28996666284151307, 'B0002PBS6S'),\n",
       " (0.2899025142805928, 'B000068NSX'),\n",
       " (0.2894426211539652, 'B000LQLDM2'),\n",
       " (0.28738331783170984, 'B000L3FPUG'),\n",
       " (0.2820492497726461, 'B0002D0CIK'),\n",
       " (0.28075709624424344, 'B0002D0N70'),\n",
       " (0.2781358924023377, 'B001R2LQWQ'),\n",
       " (0.27492319521430925, 'B001GD07SK'),\n",
       " (0.2737293205605305, 'B0053CUHMG'),\n",
       " (0.27005683999569846, 'B000165DSM'),\n",
       " (0.2661709494015139, 'B000EEJJI6'),\n",
       " (0.2649030425500627, 'B0002E1NNM'),\n",
       " (0.2619507422418738, 'B000068O3X'),\n",
       " (0.25537457900831273, 'B0002F7K7Y')]"
      ]
     },
     "execution_count": 29,
     "metadata": {},
     "output_type": "execute_result"
    }
   ],
   "source": [
    "print(\"Best products ever:\")\n",
    "sorted(item_bias, key=lambda x: -x[0])[:20]"
   ]
  },
  {
   "cell_type": "markdown",
   "metadata": {},
   "source": [
    "The following code prints the user with the most negative bias. Basically a user always giving bad ratings"
   ]
  },
  {
   "cell_type": "code",
   "execution_count": 30,
   "metadata": {},
   "outputs": [
    {
     "name": "stdout",
     "output_type": "stream",
     "text": [
      "Users giving most bad ratings:\n"
     ]
    },
    {
     "data": {
      "text/plain": [
       "[(-0.9900127429470958, 'AXJ19189TLBLJ'),\n",
       " (-0.8696991670433627, 'A1LJXZC1RFW07C'),\n",
       " (-0.8075545185550467, 'A14Z9LAETO21KL'),\n",
       " (-0.7909003520295033, 'A2CARFAX5FNQT9'),\n",
       " (-0.7539363406018373, 'AEMC16IPBZORW'),\n",
       " (-0.7467845323917176, 'ADH957M2NJJ8Z'),\n",
       " (-0.6999649702013144, 'A3NRNJN4GAQ2V6'),\n",
       " (-0.6493623136092694, 'A2XVE2J5WGCSGX'),\n",
       " (-0.6354343083381413, 'A3KOWHTH4J4ZIK'),\n",
       " (-0.6318784396492946, 'A1786LAQ18LHDC')]"
      ]
     },
     "execution_count": 30,
     "metadata": {},
     "output_type": "execute_result"
    }
   ],
   "source": [
    "user_bias = [(b, data.build_full_trainset().to_raw_uid(i)) for i, b in enumerate(algo.bu)]\n",
    "print(\"Users giving most bad ratings:\")\n",
    "sorted(user_bias, key=lambda x: x[0])[:10]"
   ]
  },
  {
   "cell_type": "code",
   "execution_count": 31,
   "metadata": {},
   "outputs": [
    {
     "data": {
      "text/html": [
       "<div>\n",
       "<style scoped>\n",
       "    .dataframe tbody tr th:only-of-type {\n",
       "        vertical-align: middle;\n",
       "    }\n",
       "\n",
       "    .dataframe tbody tr th {\n",
       "        vertical-align: top;\n",
       "    }\n",
       "\n",
       "    .dataframe thead th {\n",
       "        text-align: right;\n",
       "    }\n",
       "</style>\n",
       "<table border=\"1\" class=\"dataframe\">\n",
       "  <thead>\n",
       "    <tr style=\"text-align: right;\">\n",
       "      <th></th>\n",
       "      <th>reviewerID</th>\n",
       "      <th>productID</th>\n",
       "      <th>reviewerName</th>\n",
       "      <th>reviewText</th>\n",
       "      <th>rating</th>\n",
       "      <th>summary</th>\n",
       "      <th>reviewDate</th>\n",
       "      <th>num_helpful</th>\n",
       "      <th>num_reviews</th>\n",
       "      <th>helpful_ratio</th>\n",
       "    </tr>\n",
       "  </thead>\n",
       "  <tbody>\n",
       "    <tr>\n",
       "      <th>1935</th>\n",
       "      <td>AKGWRO6IC0VIE</td>\n",
       "      <td>B0002E5518</td>\n",
       "      <td>Vivid</td>\n",
       "      <td>Haven't had this long, but so far, it's just a...</td>\n",
       "      <td>5.0</td>\n",
       "      <td>Rock Solid - Just about perfect</td>\n",
       "      <td>2012-10-12</td>\n",
       "      <td>0</td>\n",
       "      <td>0</td>\n",
       "      <td>0.000000</td>\n",
       "    </tr>\n",
       "    <tr>\n",
       "      <th>2511</th>\n",
       "      <td>AKGWRO6IC0VIE</td>\n",
       "      <td>B0002GWFEQ</td>\n",
       "      <td>Vivid</td>\n",
       "      <td>Simple enough, right? Works as advertised. A g...</td>\n",
       "      <td>4.0</td>\n",
       "      <td>Works well, a couple caveats</td>\n",
       "      <td>2011-05-09</td>\n",
       "      <td>11</td>\n",
       "      <td>13</td>\n",
       "      <td>0.846154</td>\n",
       "    </tr>\n",
       "    <tr>\n",
       "      <th>3538</th>\n",
       "      <td>AKGWRO6IC0VIE</td>\n",
       "      <td>B0002ZO3LK</td>\n",
       "      <td>Vivid</td>\n",
       "      <td>OK, it was cheap (nine bucks at the time), the...</td>\n",
       "      <td>1.0</td>\n",
       "      <td>Good Idea, Really Bad Execution - better unit ...</td>\n",
       "      <td>2012-10-05</td>\n",
       "      <td>3</td>\n",
       "      <td>3</td>\n",
       "      <td>1.000000</td>\n",
       "    </tr>\n",
       "    <tr>\n",
       "      <th>4224</th>\n",
       "      <td>AKGWRO6IC0VIE</td>\n",
       "      <td>B000B6DHB2</td>\n",
       "      <td>Vivid</td>\n",
       "      <td>I wanted to like this. I really did. The idea ...</td>\n",
       "      <td>1.0</td>\n",
       "      <td>Bummer</td>\n",
       "      <td>2014-04-09</td>\n",
       "      <td>0</td>\n",
       "      <td>0</td>\n",
       "      <td>0.000000</td>\n",
       "    </tr>\n",
       "    <tr>\n",
       "      <th>4708</th>\n",
       "      <td>AKGWRO6IC0VIE</td>\n",
       "      <td>B000EELFTW</td>\n",
       "      <td>Vivid</td>\n",
       "      <td>In case you're wondering about the difference ...</td>\n",
       "      <td>3.0</td>\n",
       "      <td>Does the job well for cheap, but requires a bi...</td>\n",
       "      <td>2010-05-27</td>\n",
       "      <td>41</td>\n",
       "      <td>44</td>\n",
       "      <td>0.931818</td>\n",
       "    </tr>\n",
       "    <tr>\n",
       "      <th>9449</th>\n",
       "      <td>AKGWRO6IC0VIE</td>\n",
       "      <td>B005VM5Z5C</td>\n",
       "      <td>Vivid</td>\n",
       "      <td>Hi Folks! OK, this thing is cheap. That's cool...</td>\n",
       "      <td>1.0</td>\n",
       "      <td>Ignore the tempting price - TOO SMALL for any ...</td>\n",
       "      <td>2014-06-19</td>\n",
       "      <td>0</td>\n",
       "      <td>0</td>\n",
       "      <td>0.000000</td>\n",
       "    </tr>\n",
       "    <tr>\n",
       "      <th>10027</th>\n",
       "      <td>AKGWRO6IC0VIE</td>\n",
       "      <td>B00B1N06PO</td>\n",
       "      <td>Vivid</td>\n",
       "      <td>Soooo bummed. I simply love the sound on these...</td>\n",
       "      <td>2.0</td>\n",
       "      <td>Great Sound - Terrible Comfort</td>\n",
       "      <td>2014-06-19</td>\n",
       "      <td>0</td>\n",
       "      <td>0</td>\n",
       "      <td>0.000000</td>\n",
       "    </tr>\n",
       "  </tbody>\n",
       "</table>\n",
       "</div>"
      ],
      "text/plain": [
       "          reviewerID   productID reviewerName  \\\n",
       "1935   AKGWRO6IC0VIE  B0002E5518        Vivid   \n",
       "2511   AKGWRO6IC0VIE  B0002GWFEQ        Vivid   \n",
       "3538   AKGWRO6IC0VIE  B0002ZO3LK        Vivid   \n",
       "4224   AKGWRO6IC0VIE  B000B6DHB2        Vivid   \n",
       "4708   AKGWRO6IC0VIE  B000EELFTW        Vivid   \n",
       "9449   AKGWRO6IC0VIE  B005VM5Z5C        Vivid   \n",
       "10027  AKGWRO6IC0VIE  B00B1N06PO        Vivid   \n",
       "\n",
       "                                              reviewText  rating  \\\n",
       "1935   Haven't had this long, but so far, it's just a...     5.0   \n",
       "2511   Simple enough, right? Works as advertised. A g...     4.0   \n",
       "3538   OK, it was cheap (nine bucks at the time), the...     1.0   \n",
       "4224   I wanted to like this. I really did. The idea ...     1.0   \n",
       "4708   In case you're wondering about the difference ...     3.0   \n",
       "9449   Hi Folks! OK, this thing is cheap. That's cool...     1.0   \n",
       "10027  Soooo bummed. I simply love the sound on these...     2.0   \n",
       "\n",
       "                                                 summary reviewDate  \\\n",
       "1935                     Rock Solid - Just about perfect 2012-10-12   \n",
       "2511                        Works well, a couple caveats 2011-05-09   \n",
       "3538   Good Idea, Really Bad Execution - better unit ... 2012-10-05   \n",
       "4224                                              Bummer 2014-04-09   \n",
       "4708   Does the job well for cheap, but requires a bi... 2010-05-27   \n",
       "9449   Ignore the tempting price - TOO SMALL for any ... 2014-06-19   \n",
       "10027                     Great Sound - Terrible Comfort 2014-06-19   \n",
       "\n",
       "       num_helpful  num_reviews  helpful_ratio  \n",
       "1935             0            0       0.000000  \n",
       "2511            11           13       0.846154  \n",
       "3538             3            3       1.000000  \n",
       "4224             0            0       0.000000  \n",
       "4708            41           44       0.931818  \n",
       "9449             0            0       0.000000  \n",
       "10027            0            0       0.000000  "
      ]
     },
     "execution_count": 31,
     "metadata": {},
     "output_type": "execute_result"
    }
   ],
   "source": [
    "df[df.reviewerID == 'AKGWRO6IC0VIE']"
   ]
  },
  {
   "cell_type": "markdown",
   "metadata": {},
   "source": [
    "The following code prints the user with the most positive bias. Basically a user mostly always giving great reviews"
   ]
  },
  {
   "cell_type": "code",
   "execution_count": 32,
   "metadata": {},
   "outputs": [
    {
     "name": "stdout",
     "output_type": "stream",
     "text": [
      "User with most great ratings:\n"
     ]
    },
    {
     "data": {
      "text/plain": [
       "(0.37987235968910094, 'ASP978VO96X7C')"
      ]
     },
     "execution_count": 32,
     "metadata": {},
     "output_type": "execute_result"
    }
   ],
   "source": [
    "print(\"User with most great ratings:\")\n",
    "sorted(user_bias, key=lambda x: x[0])[-1]"
   ]
  },
  {
   "cell_type": "code",
   "execution_count": 33,
   "metadata": {},
   "outputs": [
    {
     "data": {
      "text/html": [
       "<div>\n",
       "<style scoped>\n",
       "    .dataframe tbody tr th:only-of-type {\n",
       "        vertical-align: middle;\n",
       "    }\n",
       "\n",
       "    .dataframe tbody tr th {\n",
       "        vertical-align: top;\n",
       "    }\n",
       "\n",
       "    .dataframe thead th {\n",
       "        text-align: right;\n",
       "    }\n",
       "</style>\n",
       "<table border=\"1\" class=\"dataframe\">\n",
       "  <thead>\n",
       "    <tr style=\"text-align: right;\">\n",
       "      <th></th>\n",
       "      <th>reviewerID</th>\n",
       "      <th>productID</th>\n",
       "      <th>reviewerName</th>\n",
       "      <th>reviewText</th>\n",
       "      <th>rating</th>\n",
       "      <th>summary</th>\n",
       "      <th>reviewDate</th>\n",
       "      <th>num_helpful</th>\n",
       "      <th>num_reviews</th>\n",
       "      <th>helpful_ratio</th>\n",
       "    </tr>\n",
       "  </thead>\n",
       "  <tbody>\n",
       "    <tr>\n",
       "      <th>124</th>\n",
       "      <td>A2F2L5F9OWWVY6</td>\n",
       "      <td>B000068O3X</td>\n",
       "      <td>AT</td>\n",
       "      <td>If you need some 6\" cables to connect your ped...</td>\n",
       "      <td>5.0</td>\n",
       "      <td>Great pedal cable connectors!</td>\n",
       "      <td>2013-02-10</td>\n",
       "      <td>0</td>\n",
       "      <td>0</td>\n",
       "      <td>0.00</td>\n",
       "    </tr>\n",
       "    <tr>\n",
       "      <th>756</th>\n",
       "      <td>A2F2L5F9OWWVY6</td>\n",
       "      <td>B0002D0CAI</td>\n",
       "      <td>AT</td>\n",
       "      <td>These are the best acoustic money can buy in m...</td>\n",
       "      <td>5.0</td>\n",
       "      <td>Two words \"THE BEST\"</td>\n",
       "      <td>2013-02-11</td>\n",
       "      <td>0</td>\n",
       "      <td>0</td>\n",
       "      <td>0.00</td>\n",
       "    </tr>\n",
       "    <tr>\n",
       "      <th>1015</th>\n",
       "      <td>A2F2L5F9OWWVY6</td>\n",
       "      <td>B0002D0E8S</td>\n",
       "      <td>AT</td>\n",
       "      <td>I needed a new strap but I didn't want to pay ...</td>\n",
       "      <td>5.0</td>\n",
       "      <td>Great!</td>\n",
       "      <td>2013-02-10</td>\n",
       "      <td>1</td>\n",
       "      <td>1</td>\n",
       "      <td>1.00</td>\n",
       "    </tr>\n",
       "    <tr>\n",
       "      <th>1150</th>\n",
       "      <td>A2F2L5F9OWWVY6</td>\n",
       "      <td>B0002DURNK</td>\n",
       "      <td>AT</td>\n",
       "      <td>I have tried nearly every kind of popular stri...</td>\n",
       "      <td>5.0</td>\n",
       "      <td>Fantastic</td>\n",
       "      <td>2013-04-01</td>\n",
       "      <td>0</td>\n",
       "      <td>0</td>\n",
       "      <td>0.00</td>\n",
       "    </tr>\n",
       "    <tr>\n",
       "      <th>1409</th>\n",
       "      <td>A2F2L5F9OWWVY6</td>\n",
       "      <td>B0002E1J5E</td>\n",
       "      <td>AT</td>\n",
       "      <td>I'm not a metal player in any means but someti...</td>\n",
       "      <td>5.0</td>\n",
       "      <td>Great for metal</td>\n",
       "      <td>2013-04-03</td>\n",
       "      <td>0</td>\n",
       "      <td>0</td>\n",
       "      <td>0.00</td>\n",
       "    </tr>\n",
       "    <tr>\n",
       "      <th>1789</th>\n",
       "      <td>A2F2L5F9OWWVY6</td>\n",
       "      <td>B0002E3B78</td>\n",
       "      <td>AT</td>\n",
       "      <td>This acoustic pickup is the most amazing thing...</td>\n",
       "      <td>5.0</td>\n",
       "      <td>Just awesome</td>\n",
       "      <td>2013-02-10</td>\n",
       "      <td>0</td>\n",
       "      <td>0</td>\n",
       "      <td>0.00</td>\n",
       "    </tr>\n",
       "    <tr>\n",
       "      <th>2454</th>\n",
       "      <td>A2F2L5F9OWWVY6</td>\n",
       "      <td>B0002GTZR6</td>\n",
       "      <td>AT</td>\n",
       "      <td>This is a heavy duty strap. I use these on my ...</td>\n",
       "      <td>5.0</td>\n",
       "      <td>The best</td>\n",
       "      <td>2013-04-01</td>\n",
       "      <td>0</td>\n",
       "      <td>0</td>\n",
       "      <td>0.00</td>\n",
       "    </tr>\n",
       "    <tr>\n",
       "      <th>2595</th>\n",
       "      <td>A2F2L5F9OWWVY6</td>\n",
       "      <td>B0002GXV2Q</td>\n",
       "      <td>AT</td>\n",
       "      <td>These cables are awesome. They do what they ar...</td>\n",
       "      <td>5.0</td>\n",
       "      <td>Sweet!</td>\n",
       "      <td>2013-01-13</td>\n",
       "      <td>0</td>\n",
       "      <td>0</td>\n",
       "      <td>0.00</td>\n",
       "    </tr>\n",
       "    <tr>\n",
       "      <th>4608</th>\n",
       "      <td>A2F2L5F9OWWVY6</td>\n",
       "      <td>B000EEK4VM</td>\n",
       "      <td>AT</td>\n",
       "      <td>I hate winding strings. I got this to help wit...</td>\n",
       "      <td>5.0</td>\n",
       "      <td>Very good</td>\n",
       "      <td>2013-04-03</td>\n",
       "      <td>0</td>\n",
       "      <td>0</td>\n",
       "      <td>0.00</td>\n",
       "    </tr>\n",
       "    <tr>\n",
       "      <th>4900</th>\n",
       "      <td>A2F2L5F9OWWVY6</td>\n",
       "      <td>B000KIPTE4</td>\n",
       "      <td>AT</td>\n",
       "      <td>I had always wanted a phase shifter but I neve...</td>\n",
       "      <td>5.0</td>\n",
       "      <td>Worth every penny</td>\n",
       "      <td>2013-04-03</td>\n",
       "      <td>0</td>\n",
       "      <td>0</td>\n",
       "      <td>0.00</td>\n",
       "    </tr>\n",
       "    <tr>\n",
       "      <th>5109</th>\n",
       "      <td>A2F2L5F9OWWVY6</td>\n",
       "      <td>B000MO2QJM</td>\n",
       "      <td>AT</td>\n",
       "      <td>To be honest I'm not metal guitarist but I do ...</td>\n",
       "      <td>5.0</td>\n",
       "      <td>Great</td>\n",
       "      <td>2013-04-01</td>\n",
       "      <td>0</td>\n",
       "      <td>0</td>\n",
       "      <td>0.00</td>\n",
       "    </tr>\n",
       "    <tr>\n",
       "      <th>6367</th>\n",
       "      <td>A2F2L5F9OWWVY6</td>\n",
       "      <td>B0019QJW2G</td>\n",
       "      <td>AT</td>\n",
       "      <td>First things first. If you have one or many ex...</td>\n",
       "      <td>5.0</td>\n",
       "      <td>So good I bought two pair</td>\n",
       "      <td>2013-04-03</td>\n",
       "      <td>0</td>\n",
       "      <td>0</td>\n",
       "      <td>0.00</td>\n",
       "    </tr>\n",
       "    <tr>\n",
       "      <th>6562</th>\n",
       "      <td>A2F2L5F9OWWVY6</td>\n",
       "      <td>B001HNE622</td>\n",
       "      <td>AT</td>\n",
       "      <td>I usually use fender .73 picks but they seemed...</td>\n",
       "      <td>5.0</td>\n",
       "      <td>Great</td>\n",
       "      <td>2013-04-03</td>\n",
       "      <td>2</td>\n",
       "      <td>2</td>\n",
       "      <td>1.00</td>\n",
       "    </tr>\n",
       "    <tr>\n",
       "      <th>7233</th>\n",
       "      <td>A2F2L5F9OWWVY6</td>\n",
       "      <td>B002EWV8IU</td>\n",
       "      <td>AT</td>\n",
       "      <td>I wanted a noise reducer because I have like 1...</td>\n",
       "      <td>5.0</td>\n",
       "      <td>Does it job well</td>\n",
       "      <td>2013-04-01</td>\n",
       "      <td>0</td>\n",
       "      <td>0</td>\n",
       "      <td>0.00</td>\n",
       "    </tr>\n",
       "    <tr>\n",
       "      <th>7677</th>\n",
       "      <td>A2F2L5F9OWWVY6</td>\n",
       "      <td>B0037ME50Y</td>\n",
       "      <td>AT</td>\n",
       "      <td>What can I say? It's a cable. It works very we...</td>\n",
       "      <td>5.0</td>\n",
       "      <td>Convenient!</td>\n",
       "      <td>2013-02-10</td>\n",
       "      <td>0</td>\n",
       "      <td>0</td>\n",
       "      <td>0.00</td>\n",
       "    </tr>\n",
       "    <tr>\n",
       "      <th>7714</th>\n",
       "      <td>A2F2L5F9OWWVY6</td>\n",
       "      <td>B003AAEGZ2</td>\n",
       "      <td>AT</td>\n",
       "      <td>The jam man solo is an AMAZING pedal. Yes it i...</td>\n",
       "      <td>5.0</td>\n",
       "      <td>AMAZING</td>\n",
       "      <td>2013-01-13</td>\n",
       "      <td>0</td>\n",
       "      <td>1</td>\n",
       "      <td>0.00</td>\n",
       "    </tr>\n",
       "    <tr>\n",
       "      <th>8118</th>\n",
       "      <td>A2F2L5F9OWWVY6</td>\n",
       "      <td>B003VWJ2K8</td>\n",
       "      <td>AT</td>\n",
       "      <td>I've had the same tuner for years. I decided t...</td>\n",
       "      <td>5.0</td>\n",
       "      <td>Magnificent!</td>\n",
       "      <td>2013-02-11</td>\n",
       "      <td>0</td>\n",
       "      <td>0</td>\n",
       "      <td>0.00</td>\n",
       "    </tr>\n",
       "    <tr>\n",
       "      <th>8684</th>\n",
       "      <td>A2F2L5F9OWWVY6</td>\n",
       "      <td>B004N0MKN8</td>\n",
       "      <td>AT</td>\n",
       "      <td>I wanted something to keep my guitars from fal...</td>\n",
       "      <td>5.0</td>\n",
       "      <td>Simple but effective</td>\n",
       "      <td>2013-02-11</td>\n",
       "      <td>0</td>\n",
       "      <td>0</td>\n",
       "      <td>0.00</td>\n",
       "    </tr>\n",
       "    <tr>\n",
       "      <th>8790</th>\n",
       "      <td>A2F2L5F9OWWVY6</td>\n",
       "      <td>B004TQJ174</td>\n",
       "      <td>AT</td>\n",
       "      <td>When I bought this pedal I was thinking a heav...</td>\n",
       "      <td>5.0</td>\n",
       "      <td>Badass</td>\n",
       "      <td>2013-04-01</td>\n",
       "      <td>3</td>\n",
       "      <td>4</td>\n",
       "      <td>0.75</td>\n",
       "    </tr>\n",
       "    <tr>\n",
       "      <th>9731</th>\n",
       "      <td>A2F2L5F9OWWVY6</td>\n",
       "      <td>B007T8OGLK</td>\n",
       "      <td>AT</td>\n",
       "      <td>The Joyo pedal looks kool and has some kool fe...</td>\n",
       "      <td>4.0</td>\n",
       "      <td>Iffy</td>\n",
       "      <td>2013-02-09</td>\n",
       "      <td>0</td>\n",
       "      <td>2</td>\n",
       "      <td>0.00</td>\n",
       "    </tr>\n",
       "  </tbody>\n",
       "</table>\n",
       "</div>"
      ],
      "text/plain": [
       "          reviewerID   productID reviewerName  \\\n",
       "124   A2F2L5F9OWWVY6  B000068O3X           AT   \n",
       "756   A2F2L5F9OWWVY6  B0002D0CAI           AT   \n",
       "1015  A2F2L5F9OWWVY6  B0002D0E8S           AT   \n",
       "1150  A2F2L5F9OWWVY6  B0002DURNK           AT   \n",
       "1409  A2F2L5F9OWWVY6  B0002E1J5E           AT   \n",
       "1789  A2F2L5F9OWWVY6  B0002E3B78           AT   \n",
       "2454  A2F2L5F9OWWVY6  B0002GTZR6           AT   \n",
       "2595  A2F2L5F9OWWVY6  B0002GXV2Q           AT   \n",
       "4608  A2F2L5F9OWWVY6  B000EEK4VM           AT   \n",
       "4900  A2F2L5F9OWWVY6  B000KIPTE4           AT   \n",
       "5109  A2F2L5F9OWWVY6  B000MO2QJM           AT   \n",
       "6367  A2F2L5F9OWWVY6  B0019QJW2G           AT   \n",
       "6562  A2F2L5F9OWWVY6  B001HNE622           AT   \n",
       "7233  A2F2L5F9OWWVY6  B002EWV8IU           AT   \n",
       "7677  A2F2L5F9OWWVY6  B0037ME50Y           AT   \n",
       "7714  A2F2L5F9OWWVY6  B003AAEGZ2           AT   \n",
       "8118  A2F2L5F9OWWVY6  B003VWJ2K8           AT   \n",
       "8684  A2F2L5F9OWWVY6  B004N0MKN8           AT   \n",
       "8790  A2F2L5F9OWWVY6  B004TQJ174           AT   \n",
       "9731  A2F2L5F9OWWVY6  B007T8OGLK           AT   \n",
       "\n",
       "                                             reviewText  rating  \\\n",
       "124   If you need some 6\" cables to connect your ped...     5.0   \n",
       "756   These are the best acoustic money can buy in m...     5.0   \n",
       "1015  I needed a new strap but I didn't want to pay ...     5.0   \n",
       "1150  I have tried nearly every kind of popular stri...     5.0   \n",
       "1409  I'm not a metal player in any means but someti...     5.0   \n",
       "1789  This acoustic pickup is the most amazing thing...     5.0   \n",
       "2454  This is a heavy duty strap. I use these on my ...     5.0   \n",
       "2595  These cables are awesome. They do what they ar...     5.0   \n",
       "4608  I hate winding strings. I got this to help wit...     5.0   \n",
       "4900  I had always wanted a phase shifter but I neve...     5.0   \n",
       "5109  To be honest I'm not metal guitarist but I do ...     5.0   \n",
       "6367  First things first. If you have one or many ex...     5.0   \n",
       "6562  I usually use fender .73 picks but they seemed...     5.0   \n",
       "7233  I wanted a noise reducer because I have like 1...     5.0   \n",
       "7677  What can I say? It's a cable. It works very we...     5.0   \n",
       "7714  The jam man solo is an AMAZING pedal. Yes it i...     5.0   \n",
       "8118  I've had the same tuner for years. I decided t...     5.0   \n",
       "8684  I wanted something to keep my guitars from fal...     5.0   \n",
       "8790  When I bought this pedal I was thinking a heav...     5.0   \n",
       "9731  The Joyo pedal looks kool and has some kool fe...     4.0   \n",
       "\n",
       "                            summary reviewDate  num_helpful  num_reviews  \\\n",
       "124   Great pedal cable connectors! 2013-02-10            0            0   \n",
       "756            Two words \"THE BEST\" 2013-02-11            0            0   \n",
       "1015                         Great! 2013-02-10            1            1   \n",
       "1150                      Fantastic 2013-04-01            0            0   \n",
       "1409                Great for metal 2013-04-03            0            0   \n",
       "1789                   Just awesome 2013-02-10            0            0   \n",
       "2454                       The best 2013-04-01            0            0   \n",
       "2595                         Sweet! 2013-01-13            0            0   \n",
       "4608                      Very good 2013-04-03            0            0   \n",
       "4900              Worth every penny 2013-04-03            0            0   \n",
       "5109                          Great 2013-04-01            0            0   \n",
       "6367      So good I bought two pair 2013-04-03            0            0   \n",
       "6562                          Great 2013-04-03            2            2   \n",
       "7233               Does it job well 2013-04-01            0            0   \n",
       "7677                    Convenient! 2013-02-10            0            0   \n",
       "7714                        AMAZING 2013-01-13            0            1   \n",
       "8118                   Magnificent! 2013-02-11            0            0   \n",
       "8684           Simple but effective 2013-02-11            0            0   \n",
       "8790                         Badass 2013-04-01            3            4   \n",
       "9731                           Iffy 2013-02-09            0            2   \n",
       "\n",
       "      helpful_ratio  \n",
       "124            0.00  \n",
       "756            0.00  \n",
       "1015           1.00  \n",
       "1150           0.00  \n",
       "1409           0.00  \n",
       "1789           0.00  \n",
       "2454           0.00  \n",
       "2595           0.00  \n",
       "4608           0.00  \n",
       "4900           0.00  \n",
       "5109           0.00  \n",
       "6367           0.00  \n",
       "6562           1.00  \n",
       "7233           0.00  \n",
       "7677           0.00  \n",
       "7714           0.00  \n",
       "8118           0.00  \n",
       "8684           0.00  \n",
       "8790           0.75  \n",
       "9731           0.00  "
      ]
     },
     "execution_count": 33,
     "metadata": {},
     "output_type": "execute_result"
    }
   ],
   "source": [
    "df[df.reviewerID == 'A2F2L5F9OWWVY6']"
   ]
  },
  {
   "cell_type": "markdown",
   "metadata": {
    "id": "Yga0Bhkpi58q"
   },
   "source": [
    "## 4. Content-based Recommender System\n",
    "### 4.1 Reset index in order to match with TF-IDF matrix"
   ]
  },
  {
   "cell_type": "code",
   "execution_count": 34,
   "metadata": {},
   "outputs": [],
   "source": [
    "trainset.reset_index(drop = True, inplace = True)"
   ]
  },
  {
   "cell_type": "code",
   "execution_count": 35,
   "metadata": {},
   "outputs": [],
   "source": [
    "testset.reset_index(drop = True, inplace = True)"
   ]
  },
  {
   "cell_type": "markdown",
   "metadata": {},
   "source": [
    "### 4.2 Create TF-IDF vectorizer"
   ]
  },
  {
   "cell_type": "code",
   "execution_count": 36,
   "metadata": {
    "executionInfo": {
     "elapsed": 2014,
     "status": "aborted",
     "timestamp": 1605555194399,
     "user": {
      "displayName": "Lucas Holstein",
      "photoUrl": "",
      "userId": "07076694079280137451"
     },
     "user_tz": -60
    },
    "id": "rdykwP5Yi58r"
   },
   "outputs": [],
   "source": [
    "from sklearn.feature_extraction.text import TfidfVectorizer\n",
    "\n",
    "vectorizer = TfidfVectorizer(encoding='utf-8', decode_error='strict', strip_accents = None, lowercase = True,\n",
    "                             preprocessor = None, tokenizer = None, analyzer = 'word', stop_words = 'english',\n",
    "                             ngram_range = (1, 3), max_df = 1.0, min_df = 0, max_features = None,\n",
    "                             vocabulary = None, binary = False, norm = 'l2', use_idf = True,\n",
    "                             smooth_idf = True, sublinear_tf = False)\n",
    "tfidf_matrix = vectorizer.fit_transform(trainset.reviewText)"
   ]
  },
  {
   "cell_type": "code",
   "execution_count": 37,
   "metadata": {
    "executionInfo": {
     "elapsed": 2006,
     "status": "aborted",
     "timestamp": 1605555194400,
     "user": {
      "displayName": "Lucas Holstein",
      "photoUrl": "",
      "userId": "07076694079280137451"
     },
     "user_tz": -60
    },
    "id": "V2L4lIg7i58u",
    "scrolled": true
   },
   "outputs": [
    {
     "name": "stdout",
     "output_type": "stream",
     "text": [
      "  (0, 99736)\t0.12919394517319274\n",
      "  (0, 405220)\t0.12919394517319274\n",
      "  (0, 397200)\t0.12919394517319274\n",
      "  (0, 203789)\t0.12919394517319274\n",
      "  (0, 122198)\t0.12919394517319274\n",
      "  (0, 496526)\t0.12919394517319274\n",
      "  (0, 244195)\t0.11958272383911703\n",
      "  (0, 14761)\t0.12919394517319274\n",
      "  (0, 373157)\t0.12919394517319274\n",
      "  (0, 530413)\t0.12919394517319274\n",
      "  (0, 455122)\t0.12919394517319274\n",
      "  (0, 168785)\t0.12919394517319274\n",
      "  (0, 544653)\t0.12919394517319274\n",
      "  (0, 455170)\t0.12919394517319274\n",
      "  (0, 223952)\t0.12919394517319274\n",
      "  (0, 143761)\t0.12919394517319274\n",
      "  (0, 14340)\t0.12919394517319274\n",
      "  (0, 144046)\t0.12919394517319274\n",
      "  (0, 117790)\t0.12919394517319274\n",
      "  (0, 122065)\t0.12919394517319274\n",
      "  (0, 531162)\t0.12919394517319274\n",
      "  (0, 346241)\t0.12919394517319274\n",
      "  (0, 455531)\t0.11958272383911703\n",
      "  (0, 201541)\t0.12919394517319274\n",
      "  (0, 47391)\t0.12919394517319274\n",
      "  :\t:\n",
      "  (8186, 144898)\t0.19022809652873976\n",
      "  (8186, 212283)\t0.19022809652873976\n",
      "  (8186, 32490)\t0.19022809652873976\n",
      "  (8186, 240179)\t0.19022809652873976\n",
      "  (8186, 267548)\t0.18194983568265174\n",
      "  (8186, 240176)\t0.18194983568265174\n",
      "  (8186, 194793)\t0.17607631613959962\n",
      "  (8186, 498177)\t0.18194983568265174\n",
      "  (8186, 507959)\t0.17152046043965938\n",
      "  (8186, 311551)\t0.1677980552935116\n",
      "  (8186, 529599)\t0.14777275536131934\n",
      "  (8186, 311542)\t0.14653500043973433\n",
      "  (8186, 32467)\t0.13065683694003205\n",
      "  (8186, 383287)\t0.12758856977600444\n",
      "  (8186, 212208)\t0.12331960455843777\n",
      "  (8186, 144838)\t0.12256334390145679\n",
      "  (8186, 529450)\t0.10732723596193777\n",
      "  (8186, 60727)\t0.10547754602173359\n",
      "  (8186, 267092)\t0.07745727407720761\n",
      "  (8186, 487151)\t0.06892253556784617\n",
      "  (8186, 497927)\t0.08081616748329334\n",
      "  (8186, 398588)\t0.07048309762352323\n",
      "  (8186, 191486)\t0.04509283222626189\n",
      "  (8186, 382516)\t0.05705345563956824\n",
      "  (8186, 309774)\t0.06059960897787251\n"
     ]
    }
   ],
   "source": [
    "print(tfidf_matrix)"
   ]
  },
  {
   "cell_type": "markdown",
   "metadata": {
    "id": "k2_zLGgZi58y"
   },
   "source": [
    "### 4.3 Cosine similarity"
   ]
  },
  {
   "cell_type": "code",
   "execution_count": 38,
   "metadata": {},
   "outputs": [],
   "source": [
    "# Compute cosine similarity\n",
    "cosine_similarities = linear_kernel(tfidf_matrix, tfidf_matrix)\n",
    "\n",
    "# Iterate over the items in the dataset to find the most similar ones to each one\n",
    "results = {}\n",
    "\n",
    "for idx, row in trainset.iterrows():\n",
    "    similar_indices = cosine_similarities[idx].argsort()[:-100:-1] \n",
    "    similar_items = [(cosine_similarities[idx][i], trainset['productID'][i]) for i in similar_indices] \n",
    "    results[row['productID']] = similar_items[1:]"
   ]
  },
  {
   "cell_type": "code",
   "execution_count": 39,
   "metadata": {
    "executionInfo": {
     "elapsed": 1986,
     "status": "aborted",
     "timestamp": 1605555194404,
     "user": {
      "displayName": "Lucas Holstein",
      "photoUrl": "",
      "userId": "07076694079280137451"
     },
     "user_tz": -60
    },
    "id": "3AN6L-Hdi59C"
   },
   "outputs": [],
   "source": [
    "def item(id):\n",
    "        return trainset.loc[trainset.productID == id]['productID'].tolist()[0].split(' - ')[0]\n",
    "\n",
    "recommended_items = []\n",
    "\n",
    "def recommender(item_id):\n",
    "        scores = results[item_id]\n",
    "        for x in scores:\n",
    "                recommended_items.append((item(item_id),item(x[1]),x[0]))\n",
    "        return recommended_items"
   ]
  },
  {
   "cell_type": "markdown",
   "metadata": {
    "executionInfo": {
     "elapsed": 1952,
     "status": "aborted",
     "timestamp": 1605555194405,
     "user": {
      "displayName": "Lucas Holstein",
      "photoUrl": "",
      "userId": "07076694079280137451"
     },
     "user_tz": -60
    },
    "id": "2blgqeuci59J"
   },
   "source": [
    "### 4.4 Check model performance"
   ]
  },
  {
   "cell_type": "code",
   "execution_count": 40,
   "metadata": {},
   "outputs": [],
   "source": [
    "#for loop storing all products and its recommendations\n",
    "products = trainset['productID'].unique()\n",
    "\n",
    "for i in products:\n",
    "    recommender(item_id = i)"
   ]
  },
  {
   "cell_type": "code",
   "execution_count": 41,
   "metadata": {},
   "outputs": [
    {
     "data": {
      "text/html": [
       "<div>\n",
       "<style scoped>\n",
       "    .dataframe tbody tr th:only-of-type {\n",
       "        vertical-align: middle;\n",
       "    }\n",
       "\n",
       "    .dataframe tbody tr th {\n",
       "        vertical-align: top;\n",
       "    }\n",
       "\n",
       "    .dataframe thead th {\n",
       "        text-align: right;\n",
       "    }\n",
       "</style>\n",
       "<table border=\"1\" class=\"dataframe\">\n",
       "  <thead>\n",
       "    <tr style=\"text-align: right;\">\n",
       "      <th></th>\n",
       "      <th>productID</th>\n",
       "      <th>recommendations</th>\n",
       "      <th>score</th>\n",
       "    </tr>\n",
       "  </thead>\n",
       "  <tbody>\n",
       "    <tr>\n",
       "      <th>0</th>\n",
       "      <td>B0002IHFVM</td>\n",
       "      <td>B0002E37MM</td>\n",
       "      <td>0.040283</td>\n",
       "    </tr>\n",
       "    <tr>\n",
       "      <th>1</th>\n",
       "      <td>B0002IHFVM</td>\n",
       "      <td>B0002E3DNK</td>\n",
       "      <td>0.035746</td>\n",
       "    </tr>\n",
       "    <tr>\n",
       "      <th>2</th>\n",
       "      <td>B0002IHFVM</td>\n",
       "      <td>B005AGGZ8K</td>\n",
       "      <td>0.035220</td>\n",
       "    </tr>\n",
       "    <tr>\n",
       "      <th>3</th>\n",
       "      <td>B0002IHFVM</td>\n",
       "      <td>B0002M3OVI</td>\n",
       "      <td>0.034722</td>\n",
       "    </tr>\n",
       "    <tr>\n",
       "      <th>4</th>\n",
       "      <td>B0002IHFVM</td>\n",
       "      <td>B0002GWFEQ</td>\n",
       "      <td>0.033161</td>\n",
       "    </tr>\n",
       "  </tbody>\n",
       "</table>\n",
       "</div>"
      ],
      "text/plain": [
       "    productID recommendations     score\n",
       "0  B0002IHFVM      B0002E37MM  0.040283\n",
       "1  B0002IHFVM      B0002E3DNK  0.035746\n",
       "2  B0002IHFVM      B005AGGZ8K  0.035220\n",
       "3  B0002IHFVM      B0002M3OVI  0.034722\n",
       "4  B0002IHFVM      B0002GWFEQ  0.033161"
      ]
     },
     "execution_count": 41,
     "metadata": {},
     "output_type": "execute_result"
    }
   ],
   "source": [
    "#converting the list into an Dataframe, so we can use the pd.merge function later\n",
    "\n",
    "recommended_items_1 = pd.DataFrame(recommended_items, columns = ['productID','recommendations','score'])\n",
    "recommended_items_1.head()"
   ]
  },
  {
   "cell_type": "code",
   "execution_count": 42,
   "metadata": {},
   "outputs": [
    {
     "data": {
      "text/html": [
       "<div>\n",
       "<style scoped>\n",
       "    .dataframe tbody tr th:only-of-type {\n",
       "        vertical-align: middle;\n",
       "    }\n",
       "\n",
       "    .dataframe tbody tr th {\n",
       "        vertical-align: top;\n",
       "    }\n",
       "\n",
       "    .dataframe thead th {\n",
       "        text-align: right;\n",
       "    }\n",
       "</style>\n",
       "<table border=\"1\" class=\"dataframe\">\n",
       "  <thead>\n",
       "    <tr style=\"text-align: right;\">\n",
       "      <th></th>\n",
       "      <th>productID</th>\n",
       "      <th>recommendations</th>\n",
       "      <th>score</th>\n",
       "    </tr>\n",
       "  </thead>\n",
       "  <tbody>\n",
       "    <tr>\n",
       "      <th>59881</th>\n",
       "      <td>B00JBIVXGC</td>\n",
       "      <td>B00J4TBMVO</td>\n",
       "      <td>0.871533</td>\n",
       "    </tr>\n",
       "    <tr>\n",
       "      <th>59880</th>\n",
       "      <td>B00JBIVXGC</td>\n",
       "      <td>B00IZCSW3M</td>\n",
       "      <td>0.178013</td>\n",
       "    </tr>\n",
       "    <tr>\n",
       "      <th>59843</th>\n",
       "      <td>B00JBIVXGC</td>\n",
       "      <td>B0002Y6BJI</td>\n",
       "      <td>0.084426</td>\n",
       "    </tr>\n",
       "    <tr>\n",
       "      <th>59866</th>\n",
       "      <td>B00JBIVXGC</td>\n",
       "      <td>B003VWJ2K8</td>\n",
       "      <td>0.072453</td>\n",
       "    </tr>\n",
       "    <tr>\n",
       "      <th>59834</th>\n",
       "      <td>B00JBIVXGC</td>\n",
       "      <td>B0002GXPRM</td>\n",
       "      <td>0.061516</td>\n",
       "    </tr>\n",
       "    <tr>\n",
       "      <th>59877</th>\n",
       "      <td>B00JBIVXGC</td>\n",
       "      <td>B00AQBT3EW</td>\n",
       "      <td>0.056895</td>\n",
       "    </tr>\n",
       "    <tr>\n",
       "      <th>59829</th>\n",
       "      <td>B00JBIVXGC</td>\n",
       "      <td>B0002E1O2W</td>\n",
       "      <td>0.054532</td>\n",
       "    </tr>\n",
       "    <tr>\n",
       "      <th>59841</th>\n",
       "      <td>B00JBIVXGC</td>\n",
       "      <td>B0002OOMU8</td>\n",
       "      <td>0.051093</td>\n",
       "    </tr>\n",
       "    <tr>\n",
       "      <th>59833</th>\n",
       "      <td>B00JBIVXGC</td>\n",
       "      <td>B0002F7K7Y</td>\n",
       "      <td>0.047736</td>\n",
       "    </tr>\n",
       "    <tr>\n",
       "      <th>59847</th>\n",
       "      <td>B00JBIVXGC</td>\n",
       "      <td>B000A2HOB6</td>\n",
       "      <td>0.047291</td>\n",
       "    </tr>\n",
       "  </tbody>\n",
       "</table>\n",
       "</div>"
      ],
      "text/plain": [
       "        productID recommendations     score\n",
       "59881  B00JBIVXGC      B00J4TBMVO  0.871533\n",
       "59880  B00JBIVXGC      B00IZCSW3M  0.178013\n",
       "59843  B00JBIVXGC      B0002Y6BJI  0.084426\n",
       "59866  B00JBIVXGC      B003VWJ2K8  0.072453\n",
       "59834  B00JBIVXGC      B0002GXPRM  0.061516\n",
       "59877  B00JBIVXGC      B00AQBT3EW  0.056895\n",
       "59829  B00JBIVXGC      B0002E1O2W  0.054532\n",
       "59841  B00JBIVXGC      B0002OOMU8  0.051093\n",
       "59833  B00JBIVXGC      B0002F7K7Y  0.047736\n",
       "59847  B00JBIVXGC      B000A2HOB6  0.047291"
      ]
     },
     "execution_count": 42,
     "metadata": {},
     "output_type": "execute_result"
    }
   ],
   "source": [
    "# aggregating it per product & recommendation to get the max score (following the professors comment on deleting the duplicate rows, we decided to use the max instead of mean)\n",
    "recommended_items_final = recommended_items_1.groupby(['productID','recommendations'], as_index=False).max().sort_values(by=['productID','score'], ascending=False)\n",
    "recommended_items_final.head(10)"
   ]
  },
  {
   "cell_type": "code",
   "execution_count": 43,
   "metadata": {},
   "outputs": [
    {
     "data": {
      "text/html": [
       "<div>\n",
       "<style scoped>\n",
       "    .dataframe tbody tr th:only-of-type {\n",
       "        vertical-align: middle;\n",
       "    }\n",
       "\n",
       "    .dataframe tbody tr th {\n",
       "        vertical-align: top;\n",
       "    }\n",
       "\n",
       "    .dataframe thead th {\n",
       "        text-align: right;\n",
       "    }\n",
       "</style>\n",
       "<table border=\"1\" class=\"dataframe\">\n",
       "  <thead>\n",
       "    <tr style=\"text-align: right;\">\n",
       "      <th></th>\n",
       "      <th>reviewerID</th>\n",
       "      <th>productID</th>\n",
       "      <th>rating</th>\n",
       "    </tr>\n",
       "  </thead>\n",
       "  <tbody>\n",
       "    <tr>\n",
       "      <th>0</th>\n",
       "      <td>AROOYR32BS1VL</td>\n",
       "      <td>B0002IHFVM</td>\n",
       "      <td>5.0</td>\n",
       "    </tr>\n",
       "    <tr>\n",
       "      <th>1</th>\n",
       "      <td>A1RGF9CS1V8O14</td>\n",
       "      <td>B0002GZM00</td>\n",
       "      <td>2.0</td>\n",
       "    </tr>\n",
       "    <tr>\n",
       "      <th>2</th>\n",
       "      <td>A5MC7LP0ZBO4Q</td>\n",
       "      <td>B0002E1G5C</td>\n",
       "      <td>5.0</td>\n",
       "    </tr>\n",
       "    <tr>\n",
       "      <th>3</th>\n",
       "      <td>A3ITN3125FJETP</td>\n",
       "      <td>B000L6GD04</td>\n",
       "      <td>5.0</td>\n",
       "    </tr>\n",
       "    <tr>\n",
       "      <th>4</th>\n",
       "      <td>A1ROUMJOGO4QMB</td>\n",
       "      <td>B0010SHU18</td>\n",
       "      <td>1.0</td>\n",
       "    </tr>\n",
       "  </tbody>\n",
       "</table>\n",
       "</div>"
      ],
      "text/plain": [
       "       reviewerID   productID  rating\n",
       "0   AROOYR32BS1VL  B0002IHFVM     5.0\n",
       "1  A1RGF9CS1V8O14  B0002GZM00     2.0\n",
       "2   A5MC7LP0ZBO4Q  B0002E1G5C     5.0\n",
       "3  A3ITN3125FJETP  B000L6GD04     5.0\n",
       "4  A1ROUMJOGO4QMB  B0010SHU18     1.0"
      ]
     },
     "execution_count": 43,
     "metadata": {},
     "output_type": "execute_result"
    }
   ],
   "source": [
    "#getting the original ratings for each purchased product per user\n",
    "user_prod = trainset[['reviewerID','productID','rating']].drop_duplicates()\n",
    "user_prod.head()"
   ]
  },
  {
   "cell_type": "code",
   "execution_count": 44,
   "metadata": {},
   "outputs": [],
   "source": [
    "#Left Join the User Product Dataframe (which contains all bought products per user) and recommended items \n",
    "# result will be an array with all recommendations and scores \n",
    "rec_users = pd.merge(left=user_prod, right=recommended_items_final, left_on='productID', right_on='productID',how='left')"
   ]
  },
  {
   "cell_type": "code",
   "execution_count": 45,
   "metadata": {},
   "outputs": [
    {
     "data": {
      "text/html": [
       "<div>\n",
       "<style scoped>\n",
       "    .dataframe tbody tr th:only-of-type {\n",
       "        vertical-align: middle;\n",
       "    }\n",
       "\n",
       "    .dataframe tbody tr th {\n",
       "        vertical-align: top;\n",
       "    }\n",
       "\n",
       "    .dataframe thead th {\n",
       "        text-align: right;\n",
       "    }\n",
       "</style>\n",
       "<table border=\"1\" class=\"dataframe\">\n",
       "  <thead>\n",
       "    <tr style=\"text-align: right;\">\n",
       "      <th></th>\n",
       "      <th>reviewerID</th>\n",
       "      <th>productID</th>\n",
       "      <th>rating</th>\n",
       "      <th>recommendations</th>\n",
       "      <th>score</th>\n",
       "    </tr>\n",
       "  </thead>\n",
       "  <tbody>\n",
       "    <tr>\n",
       "      <th>0</th>\n",
       "      <td>AROOYR32BS1VL</td>\n",
       "      <td>B0002IHFVM</td>\n",
       "      <td>5.0</td>\n",
       "      <td>B0002E37MM</td>\n",
       "      <td>0.040283</td>\n",
       "    </tr>\n",
       "    <tr>\n",
       "      <th>1</th>\n",
       "      <td>AROOYR32BS1VL</td>\n",
       "      <td>B0002IHFVM</td>\n",
       "      <td>5.0</td>\n",
       "      <td>B0002E3DNK</td>\n",
       "      <td>0.035746</td>\n",
       "    </tr>\n",
       "    <tr>\n",
       "      <th>2</th>\n",
       "      <td>AROOYR32BS1VL</td>\n",
       "      <td>B0002IHFVM</td>\n",
       "      <td>5.0</td>\n",
       "      <td>B005AGGZ8K</td>\n",
       "      <td>0.035220</td>\n",
       "    </tr>\n",
       "    <tr>\n",
       "      <th>3</th>\n",
       "      <td>AROOYR32BS1VL</td>\n",
       "      <td>B0002IHFVM</td>\n",
       "      <td>5.0</td>\n",
       "      <td>B0002M3OVI</td>\n",
       "      <td>0.034722</td>\n",
       "    </tr>\n",
       "    <tr>\n",
       "      <th>4</th>\n",
       "      <td>AROOYR32BS1VL</td>\n",
       "      <td>B0002IHFVM</td>\n",
       "      <td>5.0</td>\n",
       "      <td>B0002GWFEQ</td>\n",
       "      <td>0.033161</td>\n",
       "    </tr>\n",
       "    <tr>\n",
       "      <th>5</th>\n",
       "      <td>AROOYR32BS1VL</td>\n",
       "      <td>B0002IHFVM</td>\n",
       "      <td>5.0</td>\n",
       "      <td>B0037M62AK</td>\n",
       "      <td>0.032638</td>\n",
       "    </tr>\n",
       "    <tr>\n",
       "      <th>6</th>\n",
       "      <td>AROOYR32BS1VL</td>\n",
       "      <td>B0002IHFVM</td>\n",
       "      <td>5.0</td>\n",
       "      <td>B0009G1E0K</td>\n",
       "      <td>0.032401</td>\n",
       "    </tr>\n",
       "    <tr>\n",
       "      <th>7</th>\n",
       "      <td>AROOYR32BS1VL</td>\n",
       "      <td>B0002IHFVM</td>\n",
       "      <td>5.0</td>\n",
       "      <td>B0002GZQ1U</td>\n",
       "      <td>0.032372</td>\n",
       "    </tr>\n",
       "    <tr>\n",
       "      <th>8</th>\n",
       "      <td>AROOYR32BS1VL</td>\n",
       "      <td>B0002IHFVM</td>\n",
       "      <td>5.0</td>\n",
       "      <td>B000XPPURU</td>\n",
       "      <td>0.032274</td>\n",
       "    </tr>\n",
       "    <tr>\n",
       "      <th>9</th>\n",
       "      <td>AROOYR32BS1VL</td>\n",
       "      <td>B0002IHFVM</td>\n",
       "      <td>5.0</td>\n",
       "      <td>B004PFWZHM</td>\n",
       "      <td>0.030461</td>\n",
       "    </tr>\n",
       "  </tbody>\n",
       "</table>\n",
       "</div>"
      ],
      "text/plain": [
       "      reviewerID   productID  rating recommendations     score\n",
       "0  AROOYR32BS1VL  B0002IHFVM     5.0      B0002E37MM  0.040283\n",
       "1  AROOYR32BS1VL  B0002IHFVM     5.0      B0002E3DNK  0.035746\n",
       "2  AROOYR32BS1VL  B0002IHFVM     5.0      B005AGGZ8K  0.035220\n",
       "3  AROOYR32BS1VL  B0002IHFVM     5.0      B0002M3OVI  0.034722\n",
       "4  AROOYR32BS1VL  B0002IHFVM     5.0      B0002GWFEQ  0.033161\n",
       "5  AROOYR32BS1VL  B0002IHFVM     5.0      B0037M62AK  0.032638\n",
       "6  AROOYR32BS1VL  B0002IHFVM     5.0      B0009G1E0K  0.032401\n",
       "7  AROOYR32BS1VL  B0002IHFVM     5.0      B0002GZQ1U  0.032372\n",
       "8  AROOYR32BS1VL  B0002IHFVM     5.0      B000XPPURU  0.032274\n",
       "9  AROOYR32BS1VL  B0002IHFVM     5.0      B004PFWZHM  0.030461"
      ]
     },
     "execution_count": 45,
     "metadata": {},
     "output_type": "execute_result"
    }
   ],
   "source": [
    "rec_users.head(10)"
   ]
  },
  {
   "cell_type": "code",
   "execution_count": 46,
   "metadata": {
    "executionInfo": {
     "elapsed": 1947,
     "status": "aborted",
     "timestamp": 1605555194406,
     "user": {
      "displayName": "Lucas Holstein",
      "photoUrl": "",
      "userId": "07076694079280137451"
     },
     "user_tz": -60
    },
    "id": "XgI1ZbyFi59N"
   },
   "outputs": [],
   "source": [
    "# aggregating the recommendations per reviewer since a product can be recommended coming from different products. Just taking the max score here\n",
    "top_rec = rec_users.groupby(['reviewerID','recommendations'], as_index=False).max().sort_values(by=['reviewerID','score'], ascending=False)"
   ]
  },
  {
   "cell_type": "code",
   "execution_count": 47,
   "metadata": {},
   "outputs": [],
   "source": [
    "# creating bins to get the predicted rating based on the score (the higher the score, the better the pred. rating)\n",
    "top_rec['predictedRating'] = pd.cut(rec_users['score'], bins=[0,0.2,0.4,0.6,0.8,1], labels=[1,2,3,4,5])"
   ]
  },
  {
   "cell_type": "code",
   "execution_count": 48,
   "metadata": {},
   "outputs": [
    {
     "data": {
      "text/plain": [
       "1    379958\n",
       "2       127\n",
       "5        36\n",
       "3        21\n",
       "4        14\n",
       "Name: predictedRating, dtype: int64"
      ]
     },
     "execution_count": 48,
     "metadata": {},
     "output_type": "execute_result"
    }
   ],
   "source": [
    "#checking the distribution of our predictions\n",
    "top_rec['predictedRating'].value_counts()"
   ]
  },
  {
   "cell_type": "code",
   "execution_count": 49,
   "metadata": {},
   "outputs": [
    {
     "data": {
      "text/html": [
       "<div>\n",
       "<style scoped>\n",
       "    .dataframe tbody tr th:only-of-type {\n",
       "        vertical-align: middle;\n",
       "    }\n",
       "\n",
       "    .dataframe tbody tr th {\n",
       "        vertical-align: top;\n",
       "    }\n",
       "\n",
       "    .dataframe thead th {\n",
       "        text-align: right;\n",
       "    }\n",
       "</style>\n",
       "<table border=\"1\" class=\"dataframe\">\n",
       "  <thead>\n",
       "    <tr style=\"text-align: right;\">\n",
       "      <th></th>\n",
       "      <th>reviewerID</th>\n",
       "      <th>productID</th>\n",
       "      <th>rating</th>\n",
       "    </tr>\n",
       "  </thead>\n",
       "  <tbody>\n",
       "    <tr>\n",
       "      <th>0</th>\n",
       "      <td>A3NAA6BH9LWIH4</td>\n",
       "      <td>B002DYJEMQ</td>\n",
       "      <td>5.0</td>\n",
       "    </tr>\n",
       "    <tr>\n",
       "      <th>1</th>\n",
       "      <td>A3IKOEE8Z3T6BH</td>\n",
       "      <td>B0002CZV78</td>\n",
       "      <td>5.0</td>\n",
       "    </tr>\n",
       "    <tr>\n",
       "      <th>2</th>\n",
       "      <td>A2PBMCBT1R8TTL</td>\n",
       "      <td>B001V5K2S8</td>\n",
       "      <td>5.0</td>\n",
       "    </tr>\n",
       "    <tr>\n",
       "      <th>3</th>\n",
       "      <td>A3CSSZ6U5J4YS5</td>\n",
       "      <td>B000WN4J9S</td>\n",
       "      <td>5.0</td>\n",
       "    </tr>\n",
       "    <tr>\n",
       "      <th>4</th>\n",
       "      <td>A10FM4ILBIMJJ7</td>\n",
       "      <td>B0002E1G5C</td>\n",
       "      <td>5.0</td>\n",
       "    </tr>\n",
       "  </tbody>\n",
       "</table>\n",
       "</div>"
      ],
      "text/plain": [
       "       reviewerID   productID  rating\n",
       "0  A3NAA6BH9LWIH4  B002DYJEMQ     5.0\n",
       "1  A3IKOEE8Z3T6BH  B0002CZV78     5.0\n",
       "2  A2PBMCBT1R8TTL  B001V5K2S8     5.0\n",
       "3  A3CSSZ6U5J4YS5  B000WN4J9S     5.0\n",
       "4  A10FM4ILBIMJJ7  B0002E1G5C     5.0"
      ]
     },
     "execution_count": 49,
     "metadata": {},
     "output_type": "execute_result"
    }
   ],
   "source": [
    "#Next: Load the test dataset and check if product was one of the recommendations and what rating was predicted\n",
    "test_content = testset[['reviewerID','productID','rating']]\n",
    "test_content.head()"
   ]
  },
  {
   "cell_type": "code",
   "execution_count": 50,
   "metadata": {},
   "outputs": [],
   "source": [
    "#merging the test set with the predictions DF\n",
    "results = pd.merge(test_content, top_rec[['reviewerID','recommendations','score','predictedRating']],  left_on=['reviewerID','productID'], right_on = ['reviewerID','recommendations'] ,how='left')"
   ]
  },
  {
   "cell_type": "code",
   "execution_count": 51,
   "metadata": {},
   "outputs": [],
   "source": [
    "#calculating the error based on predicted rating and actual rating of the test set\n",
    "results['error'] =pd.to_numeric(results['predictedRating'])- pd.to_numeric(results['rating'])"
   ]
  },
  {
   "cell_type": "code",
   "execution_count": 52,
   "metadata": {},
   "outputs": [
    {
     "data": {
      "text/html": [
       "<div>\n",
       "<style scoped>\n",
       "    .dataframe tbody tr th:only-of-type {\n",
       "        vertical-align: middle;\n",
       "    }\n",
       "\n",
       "    .dataframe tbody tr th {\n",
       "        vertical-align: top;\n",
       "    }\n",
       "\n",
       "    .dataframe thead th {\n",
       "        text-align: right;\n",
       "    }\n",
       "</style>\n",
       "<table border=\"1\" class=\"dataframe\">\n",
       "  <thead>\n",
       "    <tr style=\"text-align: right;\">\n",
       "      <th></th>\n",
       "      <th>reviewerID</th>\n",
       "      <th>productID</th>\n",
       "      <th>rating</th>\n",
       "      <th>recommendations</th>\n",
       "      <th>score</th>\n",
       "      <th>predictedRating</th>\n",
       "      <th>error</th>\n",
       "    </tr>\n",
       "  </thead>\n",
       "  <tbody>\n",
       "    <tr>\n",
       "      <th>0</th>\n",
       "      <td>A3NAA6BH9LWIH4</td>\n",
       "      <td>B002DYJEMQ</td>\n",
       "      <td>5.0</td>\n",
       "      <td>B002DYJEMQ</td>\n",
       "      <td>0.015950</td>\n",
       "      <td>1</td>\n",
       "      <td>-4.0</td>\n",
       "    </tr>\n",
       "    <tr>\n",
       "      <th>1</th>\n",
       "      <td>A3IKOEE8Z3T6BH</td>\n",
       "      <td>B0002CZV78</td>\n",
       "      <td>5.0</td>\n",
       "      <td>NaN</td>\n",
       "      <td>NaN</td>\n",
       "      <td>NaN</td>\n",
       "      <td>NaN</td>\n",
       "    </tr>\n",
       "    <tr>\n",
       "      <th>2</th>\n",
       "      <td>A2PBMCBT1R8TTL</td>\n",
       "      <td>B001V5K2S8</td>\n",
       "      <td>5.0</td>\n",
       "      <td>NaN</td>\n",
       "      <td>NaN</td>\n",
       "      <td>NaN</td>\n",
       "      <td>NaN</td>\n",
       "    </tr>\n",
       "    <tr>\n",
       "      <th>3</th>\n",
       "      <td>A3CSSZ6U5J4YS5</td>\n",
       "      <td>B000WN4J9S</td>\n",
       "      <td>5.0</td>\n",
       "      <td>B000WN4J9S</td>\n",
       "      <td>0.026259</td>\n",
       "      <td>1</td>\n",
       "      <td>-4.0</td>\n",
       "    </tr>\n",
       "    <tr>\n",
       "      <th>4</th>\n",
       "      <td>A10FM4ILBIMJJ7</td>\n",
       "      <td>B0002E1G5C</td>\n",
       "      <td>5.0</td>\n",
       "      <td>B0002E1G5C</td>\n",
       "      <td>0.053992</td>\n",
       "      <td>1</td>\n",
       "      <td>-4.0</td>\n",
       "    </tr>\n",
       "  </tbody>\n",
       "</table>\n",
       "</div>"
      ],
      "text/plain": [
       "       reviewerID   productID  rating recommendations     score  \\\n",
       "0  A3NAA6BH9LWIH4  B002DYJEMQ     5.0      B002DYJEMQ  0.015950   \n",
       "1  A3IKOEE8Z3T6BH  B0002CZV78     5.0             NaN       NaN   \n",
       "2  A2PBMCBT1R8TTL  B001V5K2S8     5.0             NaN       NaN   \n",
       "3  A3CSSZ6U5J4YS5  B000WN4J9S     5.0      B000WN4J9S  0.026259   \n",
       "4  A10FM4ILBIMJJ7  B0002E1G5C     5.0      B0002E1G5C  0.053992   \n",
       "\n",
       "  predictedRating  error  \n",
       "0               1   -4.0  \n",
       "1             NaN    NaN  \n",
       "2             NaN    NaN  \n",
       "3               1   -4.0  \n",
       "4               1   -4.0  "
      ]
     },
     "execution_count": 52,
     "metadata": {},
     "output_type": "execute_result"
    }
   ],
   "source": [
    "results.head()"
   ]
  },
  {
   "cell_type": "code",
   "execution_count": 54,
   "metadata": {},
   "outputs": [
    {
     "data": {
      "text/plain": [
       "3.6175557890028194"
      ]
     },
     "execution_count": 54,
     "metadata": {},
     "output_type": "execute_result"
    }
   ],
   "source": [
    "#calculating the RMSE\n",
    "rmse = np.sqrt((results['error']**2).mean())\n",
    "rmse"
   ]
  },
  {
   "cell_type": "code",
   "execution_count": null,
   "metadata": {},
   "outputs": [],
   "source": []
  }
 ],
 "metadata": {
  "colab": {
   "name": "Rec_Engines-Group_C_1.3.ipynb",
   "provenance": []
  },
  "kernelspec": {
   "display_name": "Python 3",
   "language": "python",
   "name": "python3"
  },
  "language_info": {
   "codemirror_mode": {
    "name": "ipython",
    "version": 3
   },
   "file_extension": ".py",
   "mimetype": "text/x-python",
   "name": "python",
   "nbconvert_exporter": "python",
   "pygments_lexer": "ipython3",
   "version": "3.7.6"
  }
 },
 "nbformat": 4,
 "nbformat_minor": 1
}
