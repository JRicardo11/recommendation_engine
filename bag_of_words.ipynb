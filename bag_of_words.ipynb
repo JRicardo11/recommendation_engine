{
  "nbformat": 4,
  "nbformat_minor": 0,
  "metadata": {
    "kernelspec": {
      "display_name": "Python 3",
      "language": "python",
      "name": "python3"
    },
    "language_info": {
      "codemirror_mode": {
        "name": "ipython",
        "version": 3
      },
      "file_extension": ".py",
      "mimetype": "text/x-python",
      "name": "python",
      "nbconvert_exporter": "python",
      "pygments_lexer": "ipython3",
      "version": "3.8.5"
    },
    "colab": {
      "name": "bag_of_words.ipynb",
      "provenance": [],
      "toc_visible": true,
      "include_colab_link": true
    }
  },
  "cells": [
    {
      "cell_type": "markdown",
      "metadata": {
        "id": "view-in-github",
        "colab_type": "text"
      },
      "source": [
        "<a href=\"https://colab.research.google.com/github/JRicardo11/recommendation_engine/blob/main/bag_of_words.ipynb\" target=\"_parent\"><img src=\"https://colab.research.google.com/assets/colab-badge.svg\" alt=\"Open In Colab\"/></a>"
      ]
    },
    {
      "cell_type": "markdown",
      "metadata": {
        "id": "LCvwbQnTvBRh"
      },
      "source": [
        "# Google Colab Configuration\n",
        "\n",
        "**Execute this steps to configure the Google Colab environment in order to execute this notebook. It is not required if you are executing it locally and you have properly configured your local environment according to what explained in the Github Repository.**\n",
        "\n",
        "The first step is to clone the repository to have access to all the data and files"
      ]
    },
    {
      "cell_type": "code",
      "metadata": {
        "id": "3d7mC64KvlwP",
        "colab": {
          "base_uri": "https://localhost:8080/"
        },
        "outputId": "64c6f34e-6158-4d5d-f763-8ca908603506"
      },
      "source": [
        "! git clone https://github.com/acastellanos-ie/MBD-EN-BL-ENE-2020-J-1.git"
      ],
      "execution_count": 1,
      "outputs": [
        {
          "output_type": "stream",
          "text": [
            "Cloning into 'MBD-EN-BL-ENE-2020-J-1'...\n",
            "remote: Enumerating objects: 4485, done.\u001b[K\n",
            "remote: Counting objects: 100% (4485/4485), done.\u001b[K\n",
            "remote: Compressing objects: 100% (4372/4372), done.\u001b[K\n",
            "remote: Total 4485 (delta 161), reused 4387 (delta 94), pack-reused 0\u001b[K\n",
            "Receiving objects: 100% (4485/4485), 13.41 MiB | 17.58 MiB/s, done.\n",
            "Resolving deltas: 100% (161/161), done.\n"
          ],
          "name": "stdout"
        }
      ]
    },
    {
      "cell_type": "markdown",
      "metadata": {
        "id": "Ecfec2Y4v6e9"
      },
      "source": [
        "Install the requirements"
      ]
    },
    {
      "cell_type": "code",
      "metadata": {
        "id": "DIep7l0jvtUB",
        "colab": {
          "base_uri": "https://localhost:8080/"
        },
        "outputId": "65aa474f-7bb1-473a-bd09-0239bb2e6d8a"
      },
      "source": [
        "! pip install -Uqqr MBD-EN-BL-ENE-2020-J-1/requirements.txt"
      ],
      "execution_count": null,
      "outputs": [
        {
          "output_type": "stream",
          "text": [
            "\u001b[K     |████████████████████████████████| 1.5MB 10.3MB/s \n",
            "\u001b[K     |████████████████████████████████| 10.4MB 33.3MB/s \n",
            "\u001b[K     |████████████████████████████████| 12.0MB 247kB/s \n",
            "\u001b[K     |████████████████████████████████| 9.9MB 38.3MB/s \n",
            "\u001b[K     |████████████████████████████████| 348kB 43.3MB/s \n",
            "\u001b[K     |████████████████████████████████| 204kB 59.6MB/s \n",
            "\u001b[K     |████████████████████████████████| 727kB 34.5MB/s \n",
            "\u001b[K     |████████████████████████████████| 454.3MB 36kB/s \n"
          ],
          "name": "stdout"
        }
      ]
    },
    {
      "cell_type": "markdown",
      "metadata": {
        "id": "cK0Z9HRhyvza"
      },
      "source": [
        "Ensure that you have the GPU runtime activated:\n",
        "\n",
        "![](https://miro.medium.com/max/3006/1*vOkqNhJNl1204kOhqq59zA.png)"
      ]
    },
    {
      "cell_type": "markdown",
      "metadata": {
        "id": "JHDzMQwpyODo"
      },
      "source": [
        "Now you have everything you need to execute the code in Colab"
      ]
    },
    {
      "cell_type": "markdown",
      "metadata": {
        "id": "HeGC-Qg3sK8Y"
      },
      "source": [
        "# Bag-of-words"
      ]
    },
    {
      "cell_type": "code",
      "metadata": {
        "id": "r_8zOo4gsK8f"
      },
      "source": [
        "import nltk\n",
        "nltk.download('shakespeare')\n",
        "nltk.download('stopwords')\n",
        "\n",
        "from sklearn.feature_extraction.text import CountVectorizer, TfidfVectorizer\n",
        "import pandas as pd\n",
        "import numpy as np"
      ],
      "execution_count": null,
      "outputs": []
    },
    {
      "cell_type": "markdown",
      "metadata": {
        "id": "onkwLfBQsK8g"
      },
      "source": [
        "The `nltk` library includes several corpus for experimentation. In this markdown we are going to make use of the corpus including the set of Shakespeare's plays.\n",
        "\n",
        "In the following cell, I will load the corpus and create a dataframe with the name of the book and the textual content."
      ]
    },
    {
      "cell_type": "code",
      "metadata": {
        "id": "pFhGK1uasK8h"
      },
      "source": [
        "shakespeare_df = pd.DataFrame(columns=[\"book\", \"words\"])\n",
        "for ii, book in enumerate(nltk.corpus.shakespeare.fileids()):\n",
        "    shakespeare_df.loc[ii] = (book, \" \".join(nltk.corpus.shakespeare.words(book)))\n",
        "print(shakespeare_df)"
      ],
      "execution_count": null,
      "outputs": []
    },
    {
      "cell_type": "markdown",
      "metadata": {
        "id": "0xgnNtVnsK8i"
      },
      "source": [
        "While this representation can be useful for humans, it is of no use if you want to use these data for an NLP system.\n",
        "\n",
        "As we discussed in class, we need to create the document-term matrix which will be the input for any NLP system we need to create on top of it. In the document term matrix we have a row for each one of the different documents (the Shakespeare's plays) and a column for each one of the words in the dataset. At each cell, you will find the weight of the word in the document (for example, how many times does the word appear in the document).\n",
        "\n",
        "In class we presented several weighting approaches, let's see how we can create them."
      ]
    },
    {
      "cell_type": "markdown",
      "metadata": {
        "id": "XdJiO9XvsK8i"
      },
      "source": [
        "Let's start with the simplest one: The Binary weighting. Binary weighting only defines if a word appears (1) or does not appear (0) in a document"
      ]
    },
    {
      "cell_type": "code",
      "metadata": {
        "id": "Jg_NgZWysK8j"
      },
      "source": [
        "binary_weighting = CountVectorizer(binary=True)\n",
        "binary_shakespeare = binary_weighting.fit_transform(shakespeare_df.words)\n",
        "binary_dt_matrix = pd.DataFrame(binary_shakespeare.A, columns=binary_weighting.get_feature_names())\n",
        "print(binary_dt_matrix)"
      ],
      "execution_count": null,
      "outputs": []
    },
    {
      "cell_type": "markdown",
      "metadata": {
        "id": "KmEaF25isK8j"
      },
      "source": [
        "Let's inspect the most and least important terms related to the document 6 (Othello)"
      ]
    },
    {
      "cell_type": "code",
      "metadata": {
        "id": "VDXuF1qasK8k"
      },
      "source": [
        "document = 6\n",
        "print(\"25 most important terms for document\", shakespeare_df.iloc[document]['book'])\n",
        "print(binary_dt_matrix.iloc[:, np.argsort(binary_dt_matrix.loc[document])[::-1]].iloc[document][:25])\n",
        "\n",
        "print(\"25 least important terms for document\", shakespeare_df.iloc[document]['book'])\n",
        "print(binary_dt_matrix.iloc[:, np.argsort(binary_dt_matrix.loc[document])[::-1]].iloc[document][-25:])\n",
        "\n"
      ],
      "execution_count": null,
      "outputs": []
    },
    {
      "cell_type": "markdown",
      "metadata": {
        "id": "rKzkc_KysK8k"
      },
      "source": [
        "As you can see, the representation is not very useful as it is. By only telling us if a word appears or not in a document is not giving us a lot of information. **Can you think on a situation where this binary weighting can be sufficient?**\n",
        "\n",
        "The next thing to know will be whether the word appears only once or several times."
      ]
    },
    {
      "cell_type": "code",
      "metadata": {
        "id": "J7N3XRgdsK8l"
      },
      "source": [
        "tf_weighting = CountVectorizer()\n",
        "tf_shakespeare = tf_weighting.fit_transform(shakespeare_df.words)\n",
        "tf_dt_matrix = pd.DataFrame(tf_shakespeare.A, columns=tf_weighting.get_feature_names())\n",
        "print(tf_dt_matrix)"
      ],
      "execution_count": null,
      "outputs": []
    },
    {
      "cell_type": "markdown",
      "metadata": {
        "id": "q0L566RDsK8m"
      },
      "source": [
        "Ok, now we have the words weighted according to how many times they appear in the document. \n",
        "\n",
        "Let's check now the most and least important words in Othello"
      ]
    },
    {
      "cell_type": "code",
      "metadata": {
        "id": "h1NAk703sK8m"
      },
      "source": [
        "document = 6\n",
        "print(\"25 most important terms for document\", shakespeare_df.iloc[document]['book'])\n",
        "print(tf_dt_matrix.iloc[:, np.argsort(tf_dt_matrix.loc[document])[::-1]].iloc[document][:25])\n",
        "\n",
        "print(\"25 least important terms for document\", shakespeare_df.iloc[document]['book'])\n",
        "print(tf_dt_matrix.iloc[:, np.argsort(tf_dt_matrix.loc[document])[::-1]].iloc[document][-25:])"
      ],
      "execution_count": null,
      "outputs": []
    },
    {
      "cell_type": "markdown",
      "metadata": {
        "id": "HFSHiEEGsK8n"
      },
      "source": [
        "**What problem do you see with the most important words? Are they really representative?**\n",
        "\n"
      ]
    },
    {
      "cell_type": "markdown",
      "metadata": {
        "id": "8CiGiYtasK8n"
      },
      "source": [
        "Let's check now how to create the TF-IDF weighting to see if we can improve this representation"
      ]
    },
    {
      "cell_type": "code",
      "metadata": {
        "id": "bAfISl2jsK8o"
      },
      "source": [
        "tf_idf_weighting = TfidfVectorizer()\n",
        "tf_idf_shakespeare = tf_idf_weighting.fit_transform(shakespeare_df.words)\n",
        "tf_idf_dt_matrix = pd.DataFrame(tf_idf_shakespeare.A, columns=tf_idf_weighting.get_feature_names())\n",
        "print(tf_idf_dt_matrix)"
      ],
      "execution_count": null,
      "outputs": []
    },
    {
      "cell_type": "code",
      "metadata": {
        "id": "GEwT8UxAsK8o"
      },
      "source": [
        "document = 6\n",
        "print(\"25 most important terms for document\", shakespeare_df.iloc[document]['book'])\n",
        "print(tf_idf_dt_matrix.iloc[:, np.argsort(tf_idf_dt_matrix.loc[document])[::-1]].iloc[document][:25])\n",
        "\n",
        "print(\"25 least important terms for document\", shakespeare_df.iloc[document]['book'])\n",
        "print(tf_idf_dt_matrix.iloc[:, np.argsort(tf_idf_dt_matrix.loc[document])[::-1]].iloc[document][-25:])"
      ],
      "execution_count": null,
      "outputs": []
    },
    {
      "cell_type": "markdown",
      "metadata": {
        "id": "HxSFxfWqsK8p"
      },
      "source": [
        "**What do you see now in the representation? Have we solved all the problems?**"
      ]
    },
    {
      "cell_type": "markdown",
      "metadata": {
        "id": "ZL1a-Y01sK8p"
      },
      "source": [
        "# StopWords\n",
        "\n",
        "In the previous section we have experimenting some problems related to stopwords, such as `and` or `of`. These words do not carry any meaning and are unlikely to provide any advantage for any subsequent NLP task and, therefore, we are safe to remove them.\n",
        "\n",
        "Let's see how to do it via NLTK.\n",
        "\n",
        "Since stopwords are language-dependant, NLTK provides a list for several languages."
      ]
    },
    {
      "cell_type": "code",
      "metadata": {
        "id": "fVxZRw4dsK8p"
      },
      "source": [
        "from nltk.corpus import stopwords\n",
        "print(\"Languages for which NLTK provides an stopword list:\", \", \".join(stopwords.fileids()))"
      ],
      "execution_count": null,
      "outputs": []
    },
    {
      "cell_type": "markdown",
      "metadata": {
        "id": "bKl8SwQ8sK8q"
      },
      "source": [
        "We are just interested in the English stopword list"
      ]
    },
    {
      "cell_type": "code",
      "metadata": {
        "id": "qUeIICa1sK8q"
      },
      "source": [
        "print(\"Example of 25 English stopwords:\", \", \".join(stopwords.words(\"english\")[:25]))"
      ],
      "execution_count": null,
      "outputs": []
    },
    {
      "cell_type": "markdown",
      "metadata": {
        "id": "9zpkp2lisK8r"
      },
      "source": [
        "We can use this list to remove these words from our representation and create the document term matrix without them. Let's check."
      ]
    },
    {
      "cell_type": "code",
      "metadata": {
        "id": "a5XKr4U4sK8r"
      },
      "source": [
        "sw_free_tf_idf_weighting = TfidfVectorizer(stop_words='english')\n",
        "sw_free_tf_idf_shakespeare = sw_free_tf_idf_weighting.fit_transform(shakespeare_df.words)\n",
        "sw_free_tf_idf_dt_matrix = pd.DataFrame(sw_free_tf_idf_shakespeare.A, columns=sw_free_tf_idf_weighting.get_feature_names())\n",
        "print(sw_free_tf_idf_dt_matrix)"
      ],
      "execution_count": null,
      "outputs": []
    },
    {
      "cell_type": "code",
      "metadata": {
        "id": "97woQ18ssK8r"
      },
      "source": [
        "document = 6\n",
        "print(\"25 most important terms for document\", shakespeare_df.iloc[document]['book'])\n",
        "print(sw_free_tf_idf_dt_matrix.iloc[:, np.argsort(sw_free_tf_idf_dt_matrix.loc[document])[::-1]].iloc[document][:25])\n",
        "\n",
        "print(\"25 least important terms for document\", shakespeare_df.iloc[document]['book'])\n",
        "print(sw_free_tf_idf_dt_matrix.iloc[:, np.argsort(sw_free_tf_idf_dt_matrix.loc[document])[::-1]].iloc[document][-25:])"
      ],
      "execution_count": null,
      "outputs": []
    },
    {
      "cell_type": "markdown",
      "metadata": {
        "id": "F-lBaRWcsK8s"
      },
      "source": [
        "It's much better now, isn't it?"
      ]
    },
    {
      "cell_type": "markdown",
      "metadata": {
        "id": "Ou53w9tCsK8s"
      },
      "source": [
        "Try to play with the previous code, change the document to see how the different weightings affect their representation or to use a different corpus from the ones included in NLTK"
      ]
    }
  ]
}