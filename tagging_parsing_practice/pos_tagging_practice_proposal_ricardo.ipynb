{
  "nbformat": 4,
  "nbformat_minor": 0,
  "metadata": {
    "kernelspec": {
      "display_name": "Python 3",
      "language": "python",
      "name": "python3"
    },
    "language_info": {
      "codemirror_mode": {
        "name": "ipython",
        "version": 3
      },
      "file_extension": ".py",
      "mimetype": "text/x-python",
      "name": "python",
      "nbconvert_exporter": "python",
      "pygments_lexer": "ipython3",
      "version": "3.8.5"
    },
    "colab": {
      "name": "pos_tagging_practice_proposal.ipynb",
      "provenance": [],
      "include_colab_link": true
    }
  },
  "cells": [
    {
      "cell_type": "markdown",
      "metadata": {
        "id": "view-in-github",
        "colab_type": "text"
      },
      "source": [
        "<a href=\"https://colab.research.google.com/github/JRicardo11/recommendation_engine/blob/main/tagging_parsing_practice/pos_tagging_practice_proposal_ricardo.ipynb\" target=\"_parent\"><img src=\"https://colab.research.google.com/assets/colab-badge.svg\" alt=\"Open In Colab\"/></a>"
      ]
    },
    {
      "cell_type": "markdown",
      "metadata": {
        "id": "LCvwbQnTvBRh"
      },
      "source": [
        "# Google Colab Configuration\n",
        "\n",
        "**Execute this steps to configure the Google Colab environment in order to execute this notebook. It is not required if you are executing it locally and you have properly configured your local environment according to what explained in the Github Repository.**\n",
        "\n",
        "The first step is to clone the repository to have access to all the data and files"
      ]
    },
    {
      "cell_type": "code",
      "metadata": {
        "id": "3d7mC64KvlwP",
        "colab": {
          "base_uri": "https://localhost:8080/"
        },
        "outputId": "1e19824d-9ef4-4fac-9307-a47cf4ebb644"
      },
      "source": [
        "! git clone https://github.com/acastellanos-ie/MBD-EN-BL-ENE-2020-J-1.git"
      ],
      "execution_count": 1,
      "outputs": [
        {
          "output_type": "stream",
          "text": [
            "Cloning into 'MBD-EN-BL-ENE-2020-J-1'...\n",
            "remote: Enumerating objects: 4492, done.\u001b[K\n",
            "remote: Counting objects: 100% (4492/4492), done.\u001b[K\n",
            "remote: Compressing objects: 100% (4314/4314), done.\u001b[K\n",
            "remote: Total 4492 (delta 165), reused 4478 (delta 159), pack-reused 0\u001b[K\n",
            "Receiving objects: 100% (4492/4492), 13.45 MiB | 21.56 MiB/s, done.\n",
            "Resolving deltas: 100% (165/165), done.\n"
          ],
          "name": "stdout"
        }
      ]
    },
    {
      "cell_type": "markdown",
      "metadata": {
        "id": "Ecfec2Y4v6e9"
      },
      "source": [
        "Install the requirements"
      ]
    },
    {
      "cell_type": "code",
      "metadata": {
        "id": "DIep7l0jvtUB",
        "colab": {
          "base_uri": "https://localhost:8080/"
        },
        "outputId": "c76f7150-58ce-4597-c455-6b91662abff4"
      },
      "source": [
        "! pip install -Uqqr MBD-EN-BL-ENE-2020-J-1/requirements.txt"
      ],
      "execution_count": 2,
      "outputs": [
        {
          "output_type": "stream",
          "text": [
            "\u001b[K     |████████████████████████████████| 1.5MB 8.1MB/s \n",
            "\u001b[K     |████████████████████████████████| 10.4MB 185kB/s \n",
            "\u001b[K     |████████████████████████████████| 12.0MB 6.3MB/s \n",
            "\u001b[K     |████████████████████████████████| 9.9MB 37.7MB/s \n",
            "\u001b[K     |████████████████████████████████| 348kB 45.5MB/s \n",
            "\u001b[K     |████████████████████████████████| 204kB 57.7MB/s \n",
            "\u001b[K     |████████████████████████████████| 727kB 40.1MB/s \n",
            "\u001b[K     |████████████████████████████████| 454.3MB 34kB/s \n",
            "\u001b[K     |████████████████████████████████| 25.3MB 104kB/s \n",
            "\u001b[K     |████████████████████████████████| 81kB 10.0MB/s \n",
            "\u001b[K     |████████████████████████████████| 2.3MB 31.5MB/s \n",
            "\u001b[K     |████████████████████████████████| 1.8MB 32.6MB/s \n",
            "\u001b[K     |████████████████████████████████| 1.1MB 55.6MB/s \n",
            "\u001b[K     |████████████████████████████████| 61kB 7.7MB/s \n",
            "\u001b[K     |████████████████████████████████| 51kB 6.1MB/s \n",
            "\u001b[K     |████████████████████████████████| 1.2MB 54.3MB/s \n",
            "\u001b[K     |████████████████████████████████| 6.0MB 19.6MB/s \n",
            "\u001b[K     |████████████████████████████████| 471kB 47.4MB/s \n",
            "\u001b[K     |████████████████████████████████| 4.0MB 40.2MB/s \n",
            "\u001b[K     |████████████████████████████████| 1.2MB 50.9MB/s \n",
            "\u001b[K     |████████████████████████████████| 4.0MB 31.7MB/s \n",
            "\u001b[K     |████████████████████████████████| 983kB 35.2MB/s \n",
            "\u001b[K     |████████████████████████████████| 266kB 45.4MB/s \n",
            "\u001b[K     |████████████████████████████████| 471kB 45.7MB/s \n",
            "\u001b[K     |████████████████████████████████| 901kB 45.0MB/s \n",
            "\u001b[K     |████████████████████████████████| 3.3MB 20.6MB/s \n",
            "\u001b[K     |████████████████████████████████| 51kB 7.2MB/s \n",
            "\u001b[K     |████████████████████████████████| 4.9MB 38.6MB/s \n",
            "\u001b[?25h  Building wheel for en-core-web-sm (setup.py) ... \u001b[?25l\u001b[?25hdone\n",
            "  Building wheel for ktrain (setup.py) ... \u001b[?25l\u001b[?25hdone\n",
            "  Building wheel for eli5 (setup.py) ... \u001b[?25l\u001b[?25hdone\n",
            "  Building wheel for stellargraph (setup.py) ... \u001b[?25l\u001b[?25hdone\n",
            "  Building wheel for networkx (setup.py) ... \u001b[?25l\u001b[?25hdone\n",
            "  Building wheel for langdetect (setup.py) ... \u001b[?25l\u001b[?25hdone\n",
            "  Building wheel for syntok (setup.py) ... \u001b[?25l\u001b[?25hdone\n",
            "  Building wheel for seqeval (setup.py) ... \u001b[?25l\u001b[?25hdone\n",
            "  Building wheel for keras-bert (setup.py) ... \u001b[?25l\u001b[?25hdone\n",
            "  Building wheel for keras-transformer (setup.py) ... \u001b[?25l\u001b[?25hdone\n",
            "  Building wheel for keras-pos-embd (setup.py) ... \u001b[?25l\u001b[?25hdone\n",
            "  Building wheel for keras-multi-head (setup.py) ... \u001b[?25l\u001b[?25hdone\n",
            "  Building wheel for keras-layer-normalization (setup.py) ... \u001b[?25l\u001b[?25hdone\n",
            "  Building wheel for keras-position-wise-feed-forward (setup.py) ... \u001b[?25l\u001b[?25hdone\n",
            "  Building wheel for keras-embed-sim (setup.py) ... \u001b[?25l\u001b[?25hdone\n",
            "  Building wheel for keras-self-attention (setup.py) ... \u001b[?25l\u001b[?25hdone\n",
            "\u001b[31mERROR: tensorflow 2.4.1 has requirement gast==0.3.3, but you'll have gast 0.4.0 which is incompatible.\u001b[0m\n",
            "\u001b[31mERROR: tensorflow 2.4.1 has requirement grpcio~=1.32.0, but you'll have grpcio 1.34.1 which is incompatible.\u001b[0m\n",
            "\u001b[31mERROR: tensorflow 2.4.1 has requirement h5py~=2.10.0, but you'll have h5py 3.1.0 which is incompatible.\u001b[0m\n",
            "\u001b[31mERROR: tensorflow 2.4.1 has requirement tensorflow-estimator<2.5.0,>=2.4.0, but you'll have tensorflow-estimator 2.5.0 which is incompatible.\u001b[0m\n",
            "\u001b[31mERROR: google-colab 1.0.0 has requirement pandas~=1.1.0; python_version >= \"3.0\", but you'll have pandas 1.2.4 which is incompatible.\u001b[0m\n",
            "\u001b[31mERROR: albumentations 0.1.12 has requirement imgaug<0.2.7,>=0.2.5, but you'll have imgaug 0.2.9 which is incompatible.\u001b[0m\n",
            "\u001b[31mERROR: ktrain 0.26.3 has requirement scikit-learn==0.23.2, but you'll have scikit-learn 0.22.2.post1 which is incompatible.\u001b[0m\n",
            "\u001b[31mERROR: ktrain 0.26.3 has requirement transformers<=4.3.3,>=4.0.0, but you'll have transformers 4.6.0 which is incompatible.\u001b[0m\n"
          ],
          "name": "stdout"
        }
      ]
    },
    {
      "cell_type": "markdown",
      "metadata": {
        "id": "cK0Z9HRhyvza"
      },
      "source": [
        "Ensure that you have the GPU runtime activated:\n",
        "\n",
        "![](https://miro.medium.com/max/3006/1*vOkqNhJNl1204kOhqq59zA.png)"
      ]
    },
    {
      "cell_type": "markdown",
      "metadata": {
        "id": "JHDzMQwpyODo"
      },
      "source": [
        "Now you have everything you need to execute the code in Colab"
      ]
    },
    {
      "cell_type": "markdown",
      "metadata": {
        "id": "YA0plNqis_pt"
      },
      "source": [
        "# Parts of Speech Tagging Practice\n",
        "\n",
        "The purpose of this practical session is to experiment with Part-of-Speech tagging, using the tools provided by NLTK. \n",
        "\n",
        "We will make use of the contents of the [Chapter 5](http://www.nltk.org/book/ch05.html) of the \n",
        "[Natural Language Processing with Python --- Analyzing Text with the Natural Language Toolkit](http://www.nltk.org/book). As experimental dataset, we will use the [Brown Corpus](http://en.wikipedia.org/wiki/Brown_Corpus). The Brown Corpus defines a tagset (specific collection of part-of-speech labels) that has been reused in many other annotated resources in English. The [universal tagset](http://universaldependencies.org/u/pos/) includes 17 tags:\n",
        "\n",
        "Tag\t| Meaning\t | Examples\n",
        "----|------------|----------\n",
        "ADJ\t| adjective\t | new, good, high, special, big, local\n",
        "ADV\t| adverb\t | really, already, still, early, now\n",
        "CONJ| conjunction| and, or, but, if, while, although\n",
        "DET\t| determiner | the, a, some, most, every, no\n",
        "X\t| other, foreign words | dolce, ersatz, esprit, quo, maitre\n",
        "NOUN | noun\t     | year, home, costs, time, education\n",
        "PROPN| proper noun | Alison, Africa, April, Washington\n",
        "NUM\t | numeral\t| twenty-four, fourth, 1991, 14:24\n",
        "PRON | pronoun\t| he, their, her, its, my, I, us\n",
        "ADP  | adposition, preposition | on, of, at, with, by, into, under\n",
        "AUX\t | auxiliary verb | has (done), is (doing), will (do), should (do), must (do), can (do)\n",
        "INTJ | interjection | ah, bang, ha, whee, hmpf, oops\n",
        "VERB | verb | is, has, get, do, make, see, run\n",
        "PART | particle | possessive marker 's, negation 'not'\n",
        "SCONJ | subordinating conjunction: complementizer, adverbial clause introducer | I believe 'that' he will come, if, while\n",
        "SYM\t| symbol | $, (C), +, *, /, =, :), john.doe@example.com\n",
        "\n",
        "\n",
        "\n",
        "Note that the decision on how to tag a word, without more information is ambiguous for multiple reasons:\n",
        "\n",
        "- The same string can be understood as a `noun` or a `verb` (e.g, **book**).\n",
        "- Some POS tags have a systematically ambiguous definition: a present participle can be used in progressive verb usages (I am going:VERB), but it can also be used in an adjectival position modifying a noun: (A striking:ADJ comparison). In other words, it is unclear in the definition itself of the tag whether the tag refers to a syntactic function or to a morphological property of the word.\n"
      ]
    },
    {
      "cell_type": "markdown",
      "metadata": {
        "id": "SAtVKLsxs_p4"
      },
      "source": [
        "## 0. Working on the Brown Corpus with NLTK\n",
        "\n",
        "NLTK contains a collection of tagged corpora, arranged as convenient Python objects. We will use the `Brown corpus` in this experiment.  The `tagged_sents` version of the corpus is a list of sentences. Each sentence is a list of pairs (`tuples`) `(word, tag)`. Similarly, one can access the corpus as a flat list of tagged words."
      ]
    },
    {
      "cell_type": "code",
      "metadata": {
        "id": "tSoqw4_7s_p6",
        "colab": {
          "base_uri": "https://localhost:8080/"
        },
        "outputId": "da32d81e-ad37-4aea-f59c-ca33b5c56950"
      },
      "source": [
        "import nltk\n",
        "\n",
        "# Download and import the Brown Corpus\n",
        "nltk.download('brown')\n",
        "from nltk.corpus import brown\n",
        "\n",
        "brown_news_tagged = brown.tagged_sents(categories='humor', tagset='universal')\n",
        "brown_news_words = brown.tagged_words(categories='humor',  tagset='universal')"
      ],
      "execution_count": 14,
      "outputs": [
        {
          "output_type": "stream",
          "text": [
            "[nltk_data] Downloading package brown to /root/nltk_data...\n",
            "[nltk_data]   Package brown is already up-to-date!\n"
          ],
          "name": "stderr"
        }
      ]
    },
    {
      "cell_type": "code",
      "metadata": {
        "id": "jRzlxmeo8s-y",
        "outputId": "d22e90ad-294c-49b2-8fdc-61608551babb",
        "colab": {
          "base_uri": "https://localhost:8080/"
        }
      },
      "source": [
        "brown_news_words"
      ],
      "execution_count": 15,
      "outputs": [
        {
          "output_type": "execute_result",
          "data": {
            "text/plain": [
              "[('It', 'PRON'), ('was', 'VERB'), ('among', 'ADP'), ...]"
            ]
          },
          "metadata": {
            "tags": []
          },
          "execution_count": 15
        }
      ]
    },
    {
      "cell_type": "markdown",
      "metadata": {
        "id": "OwbsY0AKs_p8"
      },
      "source": [
        "In addition to the `Brown Corpus` we also need to also load the `universal_tagset`, an interface for converting POS tags from various formats to the universal tagset format."
      ]
    },
    {
      "cell_type": "code",
      "metadata": {
        "id": "jYvHFvxss_p-",
        "colab": {
          "base_uri": "https://localhost:8080/"
        },
        "outputId": "a945b17e-6174-467f-edb6-ff3b3d816c99"
      },
      "source": [
        "nltk.download('universal_tagset')"
      ],
      "execution_count": 16,
      "outputs": [
        {
          "output_type": "stream",
          "text": [
            "[nltk_data] Downloading package universal_tagset to /root/nltk_data...\n",
            "[nltk_data]   Package universal_tagset is already up-to-date!\n"
          ],
          "name": "stderr"
        },
        {
          "output_type": "execute_result",
          "data": {
            "text/plain": [
              "True"
            ]
          },
          "metadata": {
            "tags": []
          },
          "execution_count": 16
        }
      ]
    },
    {
      "cell_type": "markdown",
      "metadata": {
        "id": "-94FTeFCs_p_"
      },
      "source": [
        "### Measuring success: Accuracy, Training Dataset, Test Dataset\n",
        "\n",
        "Assume we develop a tagger. How do we know how successful it is? Can we trust the decisions the tagger makes? In order to evaluate the tagger, we are going to split the dataset into training and testing:"
      ]
    },
    {
      "cell_type": "code",
      "metadata": {
        "id": "KpEvyg_ts_qA",
        "colab": {
          "base_uri": "https://localhost:8080/"
        },
        "outputId": "d60b20cd-4b5e-443b-996f-ad43cc8ffa56"
      },
      "source": [
        "brown_train = brown_news_tagged[100:]\n",
        "brown_test = brown_news_tagged[:100]\n",
        "\n",
        "from nltk.tag import untag\n",
        "test_sent = untag(brown_test[0])\n",
        "print(\"Tagged: \", brown_test[0])\n",
        "print()\n",
        "print(\"Untagged: \", test_sent)"
      ],
      "execution_count": 18,
      "outputs": [
        {
          "output_type": "stream",
          "text": [
            "Tagged:  [('It', 'PRON'), ('was', 'VERB'), ('among', 'ADP'), ('these', 'DET'), ('that', 'ADP'), ('Hinkle', 'NOUN'), ('identified', 'VERB'), ('a', 'DET'), ('photograph', 'NOUN'), ('of', 'ADP'), ('Barco', 'NOUN'), ('!', '.'), ('!', '.')]\n",
            "\n",
            "Untagged:  ['It', 'was', 'among', 'these', 'that', 'Hinkle', 'identified', 'a', 'photograph', 'of', 'Barco', '!', '!']\n"
          ],
          "name": "stdout"
        }
      ]
    },
    {
      "cell_type": "markdown",
      "metadata": {
        "id": "Qyp_HtO7s_qB"
      },
      "source": [
        "## 1. Baseline Tagger: Default Tag"
      ]
    },
    {
      "cell_type": "markdown",
      "metadata": {
        "id": "1sVXBsM5s_qB"
      },
      "source": [
        "In the absence of any knowledge, the most basic tagging approach is to assign the same tag to all the words.\n",
        "It can be done with the `DefaultTagger` class, which takes a tag and assign it to all the words."
      ]
    },
    {
      "cell_type": "code",
      "metadata": {
        "id": "DfyMz9XUs_qC",
        "colab": {
          "base_uri": "https://localhost:8080/"
        },
        "outputId": "0b8e4a9b-b750-4a83-9285-0bfcac127b3d"
      },
      "source": [
        "# A default tagger assigns the same tag to all words\n",
        "from nltk import DefaultTagger\n",
        "default_tagger = DefaultTagger('default_tag')\n",
        "default_tagger.tag('This is a test'.split())"
      ],
      "execution_count": 19,
      "outputs": [
        {
          "output_type": "execute_result",
          "data": {
            "text/plain": [
              "[('This', 'default_tag'),\n",
              " ('is', 'default_tag'),\n",
              " ('a', 'default_tag'),\n",
              " ('test', 'default_tag')]"
            ]
          },
          "metadata": {
            "tags": []
          },
          "execution_count": 19
        }
      ]
    },
    {
      "cell_type": "markdown",
      "metadata": {
        "id": "Ds7MfRZas_qD"
      },
      "source": [
        "### Exercise 1.1"
      ]
    },
    {
      "cell_type": "markdown",
      "metadata": {
        "id": "kVWnokmfs_qE"
      },
      "source": [
        "Using the `DefaultTagger`, try different tags (see the available options in the table at the beginning of the notebook).\n",
        "\n",
        "**Which one is offering the best performance? Why?**\n",
        "\n",
        "To measure success, in this task, we will measure accuracy. The tagger object in NLTK includes a method called `evaluate` to measure the accuracy of a tagger on a given test set (our `brown_test` object).\n"
      ]
    },
    {
      "cell_type": "markdown",
      "metadata": {
        "id": "93dUN9vps_qE"
      },
      "source": [
        "Let's try different tags:"
      ]
    },
    {
      "cell_type": "code",
      "metadata": {
        "id": "yWDJk3S9s_qF",
        "colab": {
          "base_uri": "https://localhost:8080/"
        },
        "outputId": "c3d8633f-32aa-45ab-d979-b57fd0fa3a23"
      },
      "source": [
        "#Default tag as Verd\n",
        "default_tagger = DefaultTagger('VERB')\n",
        "default_tagger.tag('Part of speech tagging exercise for brown corpus'.split())\n",
        "\n",
        "default_tagger.evaluate(brown_test)"
      ],
      "execution_count": 20,
      "outputs": [
        {
          "output_type": "execute_result",
          "data": {
            "text/plain": [
              "0.16170431211498973"
            ]
          },
          "metadata": {
            "tags": []
          },
          "execution_count": 20
        }
      ]
    },
    {
      "cell_type": "code",
      "metadata": {
        "id": "sMIs0QNt-5VB",
        "outputId": "9110945c-6ac8-4de3-b240-503bad9b14a5",
        "colab": {
          "base_uri": "https://localhost:8080/"
        }
      },
      "source": [
        "#Default tag as Noum\n",
        "default_tagger = DefaultTagger('NOUN')\n",
        "default_tagger.tag('Part of speech tagging exercise for brown corpus'.split())\n",
        "\n",
        "default_tagger.evaluate(brown_test)"
      ],
      "execution_count": 28,
      "outputs": [
        {
          "output_type": "execute_result",
          "data": {
            "text/plain": [
              "0.23562628336755648"
            ]
          },
          "metadata": {
            "tags": []
          },
          "execution_count": 28
        }
      ]
    },
    {
      "cell_type": "code",
      "metadata": {
        "id": "LxSFxD-88mOk",
        "outputId": "4bf3e169-1e97-41fd-e68c-4d3448e263f7",
        "colab": {
          "base_uri": "https://localhost:8080/"
        }
      },
      "source": [
        "#testing code\n",
        "brown_news_tagged = brown.tagged_words(categories='humor', tagset='universal')\n",
        "tag_fd = nltk.FreqDist(tag for (word, tag) in brown_news_tagged)\n",
        "tag_fd.most_common()"
      ],
      "execution_count": 22,
      "outputs": [
        {
          "output_type": "execute_result",
          "data": {
            "text/plain": [
              "[('NOUN', 4405),\n",
              " ('VERB', 3546),\n",
              " ('.', 3419),\n",
              " ('DET', 2459),\n",
              " ('ADP', 2392),\n",
              " ('ADJ', 1362),\n",
              " ('PRON', 1357),\n",
              " ('ADV', 1172),\n",
              " ('CONJ', 713),\n",
              " ('PRT', 663),\n",
              " ('NUM', 154),\n",
              " ('X', 53)]"
            ]
          },
          "metadata": {
            "tags": []
          },
          "execution_count": 22
        }
      ]
    },
    {
      "cell_type": "markdown",
      "metadata": {
        "id": "3uKi5sdds_qG"
      },
      "source": [
        "## 2. Sources of Knowledge to Improve Tagging Accuracy\n",
        "\n",
        "Intuitively, the sources of knowledge that can help us decide what is the tag of a word include:\n",
        "- A dictionary that lists the possible parts of speech for each word\n",
        "- The context of the word in a sentence (neighboring words)\n",
        "- The morphological form of the word (suffixes, prefixes)\n"
      ]
    },
    {
      "cell_type": "markdown",
      "metadata": {
        "id": "HfbHkJhOs_qG"
      },
      "source": [
        "### 2.1 Lookup Tagger: Using Dictionary Knowledge\n",
        "\n",
        "Assume we have a dictionary that lists the possible tags for each word in English. Could we use this information to perform better tagging?\n",
        "\n",
        "The intuition is that we would only assign to a word a tag that it can have in the dictionary. For example, if `box` can only be a `Verb` or a `Noun`, when we have to tag an instance of the word `box`, we only choose between 2 options - and not between 17 options.\n",
        "\n",
        "There are 3 issues we must address to turn this into working code:\n",
        "\n",
        "- Where do we get the dictionary?\n",
        "- How do we choose between the various tags associated to a word in the dictionary? (For example, how do we choose between `VERB` and `NOUN` for `box`).\n",
        "- What do we do for words that do not appear in the dictionary?\n",
        "\n",
        "The simple solutions we will test are the following - note that for each question, there exist other strategies that we will investigate later:\n",
        "\n",
        "- Where do we get the dictionary?: we will learn it from a sample dataset.\n",
        "- How do we choose between the various tags associated to a word in the dictionary?: we will choose the most likely tag as observed in the sample dataset.\n",
        "- What do we do for words that do not appear in the dictionary?: we will pass unknown words to a backoff tagger (tag all unknown words as `NOUN`).\n",
        "\n",
        "The `nltk.UnigramTagger` implements this overall strategy. It must be trained on a dataset, from which it builds a model of \"unigrams\". The following code shows how it is used:"
      ]
    },
    {
      "cell_type": "markdown",
      "metadata": {
        "id": "b15ITySDs_qH"
      },
      "source": [
        "### Exercise 2.1.1\n",
        "\n",
        "Use the `UnigramTagger` class and the `brown_train` object to create a unigram tagger.\n",
        "\n",
        "**Which tag is selecting to annotate each word?**\n",
        "\n",
        "**What's happening with unknown words?**"
      ]
    },
    {
      "cell_type": "code",
      "metadata": {
        "id": "3RpnNigKs_qI",
        "colab": {
          "base_uri": "https://localhost:8080/"
        },
        "outputId": "12657840-5bbc-4e64-9bfe-1075038f6529"
      },
      "source": [
        "# Prepare training and test datasets\n",
        "from nltk import UnigramTagger\n",
        "\n",
        "# Train the unigram model\n",
        "\n",
        "# Your code here\n",
        "baseline_tagger = UnigramTagger(brown_train)\n",
        "\n"
      ],
      "execution_count": 25,
      "outputs": [
        {
          "output_type": "execute_result",
          "data": {
            "text/plain": [
              "0.967792576087507"
            ]
          },
          "metadata": {
            "tags": []
          },
          "execution_count": 25
        }
      ]
    },
    {
      "cell_type": "code",
      "metadata": {
        "id": "6mCijzLe-kl6",
        "outputId": "494444d9-49e5-4e8b-c1d0-71ef540c6d39",
        "colab": {
          "base_uri": "https://localhost:8080/"
        }
      },
      "source": [
        "brown_train"
      ],
      "execution_count": 26,
      "outputs": [
        {
          "output_type": "execute_result",
          "data": {
            "text/plain": [
              "[[('I', 'PRON'), (\"couldn't\", 'VERB'), ('invite', 'VERB'), ('Viola', 'NOUN'), ('to', 'ADP'), ('our', 'DET'), ('house', 'NOUN'), (',', '.'), ('for', 'ADP'), ('Mother', 'NOUN'), ('snobbishly', 'ADV'), ('refused', 'VERB'), ('to', 'PRT'), ('receive', 'VERB'), ('her', 'PRON'), ('.', '.')], [('Now', 'ADV'), ('the', 'DET'), ('Czarship', 'NOUN'), ('had', 'VERB'), ('not', 'ADV'), ('affected', 'VERB'), ('my', 'DET'), ('own', 'ADJ'), ('sense', 'NOUN'), ('of', 'ADP'), ('social', 'ADJ'), ('values', 'NOUN'), (',', '.'), ('but', 'CONJ'), ('Mother', 'NOUN'), ('had', 'VERB'), ('attained', 'VERB'), ('a', 'DET'), ('reflected', 'VERB'), ('glory', 'NOUN'), ('through', 'ADP'), ('it', 'PRON'), (',', '.'), ('which', 'DET'), ('had', 'VERB'), ('opened', 'VERB'), ('the', 'DET'), ('doors', 'NOUN'), ('of', 'ADP'), ('Los', 'NOUN'), ('Angeles-Pasadena', 'NOUN'), ('Society', 'NOUN'), ('to', 'ADP'), ('her', 'PRON'), ('.', '.')], ...]"
            ]
          },
          "metadata": {
            "tags": []
          },
          "execution_count": 26
        }
      ]
    },
    {
      "cell_type": "markdown",
      "metadata": {
        "id": "x0PfCnjKs_qI"
      },
      "source": [
        "### Exercise 2.1.2\n",
        "\n",
        "Making use of the `evaluate` method measure how successful is this tagger.\n",
        "\n",
        "**Are we improving the performance of the tagger?**\n",
        "**Do your find the new performance sufficient enough for a NLP system?**"
      ]
    },
    {
      "cell_type": "code",
      "metadata": {
        "id": "gGypte1Ws_qI",
        "colab": {
          "base_uri": "https://localhost:8080/"
        },
        "outputId": "da53cb92-237b-4a0c-b1d6-17f3e7e2be2b"
      },
      "source": [
        "# Your code here\n",
        "baseline_tagger.evaluate(brown_train)"
      ],
      "execution_count": 27,
      "outputs": [
        {
          "output_type": "execute_result",
          "data": {
            "text/plain": [
              "0.967792576087507"
            ]
          },
          "metadata": {
            "tags": []
          },
          "execution_count": 27
        }
      ]
    },
    {
      "cell_type": "markdown",
      "metadata": {
        "id": "IdHFCS5xs_qJ"
      },
      "source": [
        "### Exercise 2.1.3\n",
        "\n",
        "If we analyze the tagger annotation, we will see that it assigns `None` to unknown words. As explained in class, a good way to improve this is to tag unknowns words as `NOUN` (the most common tag). This is known as a backoff tagger (i.e., a second tagger that applies where the original one cannot identify the tag for a word)\n",
        "\n",
        "NLTK provides a simple way to implement this backoff tagging. All the constructors for the Tagger classes (e.g., `UnigramTagger`) have a parameter `backoff` where you can set the backoff tagger that will apply. In this case, our backoff tagger will be the `DefaultTagger` that annotates `NOUN`, which we developed in the exercise below .\n",
        "\n",
        "**Using the `DefaultTagger` and `UnigramTagger` classes, create a tagger that assigns the most common tag to each word and, for unknown words, assigns a backoff tag of `NOUN`.**\n",
        "\n",
        "**What's the accuracy of this tagger? Do we improved our performance?**"
      ]
    },
    {
      "cell_type": "code",
      "metadata": {
        "id": "GTyPQMqJs_qJ",
        "colab": {
          "base_uri": "https://localhost:8080/"
        },
        "outputId": "16b141fe-14d1-4096-fdff-68742d37ef77"
      },
      "source": [
        "# Your code here\n",
        "\n",
        "tagger = DefaultTagger( 'Noum' )\n",
        "ut = UnigramTagger(brown_train, backoff=tagger)\n",
        "ut.evaluate(brown_test)"
      ],
      "execution_count": 34,
      "outputs": [
        {
          "output_type": "execute_result",
          "data": {
            "text/plain": [
              "0.7469199178644764"
            ]
          },
          "metadata": {
            "tags": []
          },
          "execution_count": 34
        }
      ]
    },
    {
      "cell_type": "markdown",
      "metadata": {
        "id": "QZxKVenes_qK"
      },
      "source": [
        "### 2.2 Using Morphological Clues\n",
        "\n",
        "As mentioned above, another knowledge source to perform tagging is to look at the letter structure of the words. \n",
        "We will look at 2 different methods to use this knowledge. \n",
        "First, we will use nltk.RegexpTagger to recognize specific regular expressions in words."
      ]
    },
    {
      "cell_type": "code",
      "metadata": {
        "id": "o9etNo2ss_qK",
        "colab": {
          "base_uri": "https://localhost:8080/"
        },
        "outputId": "240f850a-8678-4761-fb90-8bf7e5f359c5"
      },
      "source": [
        "from nltk import RegexpTagger\n",
        "\n",
        "regexp_tagger = RegexpTagger(\n",
        "     [(r'^-?[0-9]+(.[0-9]+)?$', 'NUM'),   # cardinal numbers\n",
        "      (r'(The|the|A|a|An|an)$', 'DET'),   # articles\n",
        "      (r'.*able$', 'ADJ'),                # adjectives\n",
        "      (r'.*ness$', 'NOUN'),               # nouns formed from adjectives\n",
        "      (r'.*ly$', 'ADV'),                  # adverbs\n",
        "      (r'.*s$', 'NOUN'),                  # plural nouns\n",
        "      (r'.*ing$', 'VERB'),                # gerunds\n",
        "      (r'.*ed$', 'VERB'),                 # past tense verbs\n",
        "      (r'.*', 'NOUN')                     # nouns (default)\n",
        "])\n",
        "\n",
        "print('Regexp accuracy %4.1f%%' % (100.0 * regexp_tagger.evaluate(brown_test)))"
      ],
      "execution_count": 35,
      "outputs": [
        {
          "output_type": "stream",
          "text": [
            "Regexp accuracy 38.3%\n"
          ],
          "name": "stdout"
        }
      ]
    },
    {
      "cell_type": "markdown",
      "metadata": {
        "id": "9LTVVlp5s_qL"
      },
      "source": [
        "The regular expressions are tested in order. If one matches, it decides the tag. Else it tries the next tag. \n"
      ]
    },
    {
      "cell_type": "markdown",
      "metadata": {
        "id": "jrgF_-kes_qL"
      },
      "source": [
        "The question we face when we see such a \"rule-based\" tagger are:\n",
        "\n",
        "- How do we find the most successful regular expressions?\n",
        "- In which order should we try the regular expressions?\n",
        "\n",
        "A typical answer to such questions is: \n",
        "\n",
        "- let's learn these parameters from a training corpus. \n",
        "\n",
        "The `nltk.AffixTagger` is a trainable tagger that attempts to learn word patterns. \n",
        "It only looks at the last letters in the words in the training corpus, and counts how often a word suffix \n",
        "can predict the word tag. \n",
        "In other words, we only learn rules of the form ('.*xyz' , POS). \n",
        "This is how the affix tagger is used:"
      ]
    },
    {
      "cell_type": "code",
      "metadata": {
        "id": "YVQ84Fb3s_qM",
        "colab": {
          "base_uri": "https://localhost:8080/"
        },
        "outputId": "0ff17369-f7e8-4856-bd9e-5cca177f1349"
      },
      "source": [
        "from nltk import AffixTagger\n",
        "\n",
        "affix_tagger = AffixTagger(brown_train, backoff=DefaultTagger('NOUN'))\n",
        "print('Affix tagger accuracy: %4.1f%%' % (100.0 * affix_tagger.evaluate(brown_test)))"
      ],
      "execution_count": 36,
      "outputs": [
        {
          "output_type": "stream",
          "text": [
            "Affix tagger accuracy: 34.0%\n"
          ],
          "name": "stdout"
        }
      ]
    },
    {
      "cell_type": "markdown",
      "metadata": {
        "id": "xB5VnxOhs_qN"
      },
      "source": [
        "Should we be disappointed that the \"data-based approach\" performs worse than the hand-written rules (42% vs. 48%)? \n",
        "\n",
        "Not necessarily: note that our hand-written rules include cases that the AffixTagger cannot learn - we match cardinal numbers and suffixes with more than 3 letters. \n",
        "\n",
        "Let us see whether the combination of the 2 taggers helps:\n"
      ]
    },
    {
      "cell_type": "markdown",
      "metadata": {
        "id": "0S0POxDrs_qN"
      },
      "source": [
        "### Exercise 2.2.1\n",
        "\n",
        "**Using the `AffixTagger` class, creates a tagger that learns from word patterns and that uses the previous `RegexpTagger` as backoff.**\n",
        "\n",
        "**Evaluate and analyze the performance of the model**"
      ]
    },
    {
      "cell_type": "code",
      "metadata": {
        "id": "g3NdZMC5s_qN",
        "colab": {
          "base_uri": "https://localhost:8080/"
        },
        "outputId": "8af2b391-dd7b-4173-dfd6-fc211308e028"
      },
      "source": [
        "# Your code here\n",
        "\n",
        "tagger_reg = AffixTagger(brown_train, backoff=regexp_tagger)\n",
        "print('Tagger with regexp backoff accuracy: %4.1f%%' % (100.0 * tagger_reg.evaluate(brown_test)))"
      ],
      "execution_count": 39,
      "outputs": [
        {
          "output_type": "stream",
          "text": [
            "Tagger with regexp backoff accuracy: 42.2%\n"
          ],
          "name": "stdout"
        }
      ]
    },
    {
      "cell_type": "markdown",
      "metadata": {
        "id": "AitPti3gs_qO"
      },
      "source": [
        "### Exercise 2.2.2\n",
        "\n",
        "In the previous exercise we created an `AffixTagger` that is able to learn the annotation from the word patterns. Perhaps, we could apply this tagger to annotate the unknown words (i.e., to use it as a backoff tagger). In the previous section, we used a NOUN-default tagger for that. How much does this tagger help the `UnigramTagger` if we use it as a backoff instead of the NOUN-default tagger?\n",
        "\n",
        "**Use the `AffixTagger` that we created below as a backoff tagger for the `UnigramTagger` in the previous section**\n",
        "\n",
        "**Are we improving our tagger?**"
      ]
    },
    {
      "cell_type": "code",
      "metadata": {
        "id": "8hAb7WNVs_qO",
        "colab": {
          "base_uri": "https://localhost:8080/"
        },
        "outputId": "aba9531d-79d4-4a12-c338-7a07535dcb27"
      },
      "source": [
        "# Your code here\n",
        "tagger_reg2 = AffixTagger(brown_train, backoff=regexp_tagger)\n",
        "ut2 = UnigramTagger(brown_train, backoff=tagger_reg2)\n",
        "\n",
        "print('Unigram Tagger with affix backoff accuracy: %4.1f%%' % (100.0 * ut2.evaluate(brown_test)))\n",
        "\n"
      ],
      "execution_count": 45,
      "outputs": [
        {
          "output_type": "stream",
          "text": [
            "Unigram Tagger with affix backoff accuracy: 91.8%\n"
          ],
          "name": "stdout"
        }
      ]
    },
    {
      "cell_type": "markdown",
      "metadata": {
        "id": "GkYy1Ygss_qO"
      },
      "source": [
        "###  2.3 Looking at the Context\n",
        "\n",
        "At this point, we have combined 2 major sources of information: dictionary and morphology and obtained about 95.4% accuracy. The last source of knowledge we want to exploit the context of the word to be tagged: **the words that appear around the word to be tagged**. \n",
        "\n",
        "The intuition is that if we have to decide between `book` as a verb or a noun, the word/s preceding `book` can give us strong cues: for example, if it is an article (`the` or `a`) then we would be sure that `book` is a noun; if it is `to`, then we would be sure it is a verb.\n",
        "\n",
        "How can we turn this intuition into working code? The easiest way to detect predictive contexts is to construct a list of contexts - and for each context, keep track of the distribution of tags that follow it. Luckily for us, this procedure is already implemented into the `NgramTagger`, which takes a parameter a number setting the length of the context.\n",
        "\n",
        "As usual, if the tagger cannot make a decision (because the observed context was never seen at training time), \n",
        "the decision is delegated to a backoff tagger."
      ]
    },
    {
      "cell_type": "markdown",
      "metadata": {
        "id": "QRDSwxQns_qP"
      },
      "source": [
        "### Exercise 2.3.1\n",
        "\n",
        "**Use the `NgramTagger` to create a context-based tagger. For the cases that this tagger cannot annotate anything, use the previous `UnigramTagger` as backoff.**\n",
        "\n",
        "**Try different context sizes (you can set that as a parameter when you create the `NgramTagger`) and analyze how it affects to the final performance of the model.**"
      ]
    },
    {
      "cell_type": "code",
      "metadata": {
        "id": "GA1TN8bLs_qP",
        "colab": {
          "base_uri": "https://localhost:8080/"
        },
        "outputId": "1f02fe11-1e20-4497-b009-523e95ffb882"
      },
      "source": [
        "from nltk import NgramTagger\n",
        "\n",
        "# Your code here\n",
        "\n",
        "ut2.evaluate(brown_test)\n"
      ],
      "execution_count": 54,
      "outputs": [
        {
          "output_type": "execute_result",
          "data": {
            "text/plain": [
              "0.917864476386037"
            ]
          },
          "metadata": {
            "tags": []
          },
          "execution_count": 54
        }
      ]
    },
    {
      "cell_type": "code",
      "metadata": {
        "id": "pMCZrspbs_qP",
        "colab": {
          "base_uri": "https://localhost:8080/"
        },
        "outputId": "cab703bb-a2f3-4855-9abe-53d8e72c1f27"
      },
      "source": [
        "# Your code here\n",
        "ct1 = NgramTagger(1, brown_train, backoff=ut2)\n",
        "ct1.evaluate(brown_test)"
      ],
      "execution_count": 55,
      "outputs": [
        {
          "output_type": "execute_result",
          "data": {
            "text/plain": [
              "0.917864476386037"
            ]
          },
          "metadata": {
            "tags": []
          },
          "execution_count": 55
        }
      ]
    },
    {
      "cell_type": "code",
      "metadata": {
        "id": "5sTlMDVXHFdI",
        "outputId": "718d6537-bf9b-4b31-a228-2781a145a935",
        "colab": {
          "base_uri": "https://localhost:8080/"
        }
      },
      "source": [
        "ct2 = NgramTagger(2, brown_train, backoff=ut2)\n",
        "ct2.evaluate(brown_test)"
      ],
      "execution_count": 56,
      "outputs": [
        {
          "output_type": "execute_result",
          "data": {
            "text/plain": [
              "0.917864476386037"
            ]
          },
          "metadata": {
            "tags": []
          },
          "execution_count": 56
        }
      ]
    },
    {
      "cell_type": "code",
      "metadata": {
        "id": "KT5MRWQwHcBq",
        "outputId": "87751d37-155b-4162-e546-8a02687d01b4",
        "colab": {
          "base_uri": "https://localhost:8080/"
        }
      },
      "source": [
        "# Your code here\n",
        "ct3 = NgramTagger(5, brown_train, backoff=ut2)\n",
        "ct3.evaluate(brown_test)"
      ],
      "execution_count": 58,
      "outputs": [
        {
          "output_type": "execute_result",
          "data": {
            "text/plain": [
              "0.9194045174537988"
            ]
          },
          "metadata": {
            "tags": []
          },
          "execution_count": 58
        }
      ]
    },
    {
      "cell_type": "markdown",
      "metadata": {
        "id": "haapiEces_qQ"
      },
      "source": [
        "## Summary\n",
        "\n",
        "This practice introduced tools to tag parts of speech in free text. The key point of the approach we investigated is that it is **data-driven**:\n",
        "\n",
        "- We first define possible knowledge sources that can help us solve the task. Specifically, we investigated \n",
        "  * dictionary, \n",
        "  * morphological \n",
        "  * context\n",
        "  as possible sources.\n",
        "\n",
        "- We tested simple machine learning methods: data is acquired by inspecting a training dataset, then evaluated by testing on a test dataset.\n",
        "\n",
        "- We investigated one method to combine several systems into a combined system: backoff models.\n"
      ]
    },
    {
      "cell_type": "markdown",
      "metadata": {
        "id": "1OvGhnyxs_qQ"
      },
      "source": [
        "# Additional Materials: Practical Tagging\n",
        "\n",
        "In this practice we have played with the development of new Taggers. You can refer back to this Notebook if and when you need to create your own Taggers. Nevertheless, most of the time the Taggers already included in the different libraries will do the trick for you.\n",
        "\n",
        "In particular, NLTK provides you a way to tag your dataset with just a couple of lines of code by using the `pos_tag` function."
      ]
    },
    {
      "cell_type": "markdown",
      "metadata": {
        "id": "fmg59iuls_qQ"
      },
      "source": [
        "The first thing we need to do is to tokenize the sentence to be tagged. To that end, we can make use of the `word_tokenize` function in NLTK. To perform this tokenization, we need to download an already developed tokenizer model (`punkt`)"
      ]
    },
    {
      "cell_type": "code",
      "metadata": {
        "id": "mk5SqfUfs_qR",
        "colab": {
          "base_uri": "https://localhost:8080/"
        },
        "outputId": "3fbf87b7-251a-4883-ddd6-a7a51def0bfa"
      },
      "source": [
        "nltk.download('punkt')"
      ],
      "execution_count": 59,
      "outputs": [
        {
          "output_type": "stream",
          "text": [
            "[nltk_data] Downloading package punkt to /root/nltk_data...\n",
            "[nltk_data]   Unzipping tokenizers/punkt.zip.\n"
          ],
          "name": "stderr"
        },
        {
          "output_type": "execute_result",
          "data": {
            "text/plain": [
              "True"
            ]
          },
          "metadata": {
            "tags": []
          },
          "execution_count": 59
        }
      ]
    },
    {
      "cell_type": "code",
      "metadata": {
        "id": "IBXl37hKs_qR",
        "colab": {
          "base_uri": "https://localhost:8080/"
        },
        "outputId": "2789ae7c-3f2e-428a-a053-9efaab14555e"
      },
      "source": [
        "text = nltk.word_tokenize(\"And now for something completely different\")\n",
        "text"
      ],
      "execution_count": 61,
      "outputs": [
        {
          "output_type": "execute_result",
          "data": {
            "text/plain": [
              "['And', 'now', 'for', 'something', 'completely', 'different']"
            ]
          },
          "metadata": {
            "tags": []
          },
          "execution_count": 61
        }
      ]
    },
    {
      "cell_type": "markdown",
      "metadata": {
        "id": "VE6y5Vuis_qS"
      },
      "source": [
        "Then we should feed our tokenized text to the pos tagging function. In this case, we are going to apply one of the already pre-trained pos tagging models included into NLTK: `averaged_perceptron_tagger`"
      ]
    },
    {
      "cell_type": "code",
      "metadata": {
        "id": "7PfhoFzhs_qS",
        "colab": {
          "base_uri": "https://localhost:8080/"
        },
        "outputId": "8fc1a4cb-7a0d-4803-d46c-96256d4b3ea7"
      },
      "source": [
        "nltk.download('averaged_perceptron_tagger')"
      ],
      "execution_count": 62,
      "outputs": [
        {
          "output_type": "stream",
          "text": [
            "[nltk_data] Downloading package averaged_perceptron_tagger to\n",
            "[nltk_data]     /root/nltk_data...\n",
            "[nltk_data]   Unzipping taggers/averaged_perceptron_tagger.zip.\n"
          ],
          "name": "stderr"
        },
        {
          "output_type": "execute_result",
          "data": {
            "text/plain": [
              "True"
            ]
          },
          "metadata": {
            "tags": []
          },
          "execution_count": 62
        }
      ]
    },
    {
      "cell_type": "code",
      "metadata": {
        "id": "g2Dz84ODs_qS",
        "colab": {
          "base_uri": "https://localhost:8080/"
        },
        "outputId": "92afc377-2563-4627-c005-ebb3c745ab19"
      },
      "source": [
        "nltk.pos_tag(text)"
      ],
      "execution_count": 63,
      "outputs": [
        {
          "output_type": "execute_result",
          "data": {
            "text/plain": [
              "[('And', 'CC'),\n",
              " ('now', 'RB'),\n",
              " ('for', 'IN'),\n",
              " ('something', 'NN'),\n",
              " ('completely', 'RB'),\n",
              " ('different', 'JJ')]"
            ]
          },
          "metadata": {
            "tags": []
          },
          "execution_count": 63
        }
      ]
    },
    {
      "cell_type": "markdown",
      "metadata": {
        "id": "NcIQ9gm_s_qT"
      },
      "source": [
        "If we have more than one sentence to parse, we can make use of some of the Sentence Tokenizers that nltk provides (e.g. `sent_tokenize`) to split the text in sentences, and the the word tokenizer to split each sentence in words."
      ]
    },
    {
      "cell_type": "code",
      "metadata": {
        "id": "JT4v2Ucts_qT",
        "colab": {
          "base_uri": "https://localhost:8080/"
        },
        "outputId": "66986ff5-4d42-4a71-b740-f6c5501a9a65"
      },
      "source": [
        "sentences = nltk.sent_tokenize(\"And now for something completely different. This is just another sentence\")\n",
        "print(\"Sentences:\", sentences)\n",
        "text = [nltk.word_tokenize(sentence) for sentence in sentences]\n",
        "print(\"Text:\", text)\n",
        "print()\n",
        "for tagging in [nltk.pos_tag(t) for t in text]:\n",
        "    print(\"Tagging:\",tagging)"
      ],
      "execution_count": 64,
      "outputs": [
        {
          "output_type": "stream",
          "text": [
            "Sentences: ['And now for something completely different.', 'This is just another sentence']\n",
            "Text: [['And', 'now', 'for', 'something', 'completely', 'different', '.'], ['This', 'is', 'just', 'another', 'sentence']]\n",
            "\n",
            "Tagging: [('And', 'CC'), ('now', 'RB'), ('for', 'IN'), ('something', 'NN'), ('completely', 'RB'), ('different', 'JJ'), ('.', '.')]\n",
            "Tagging: [('This', 'DT'), ('is', 'VBZ'), ('just', 'RB'), ('another', 'DT'), ('sentence', 'NN')]\n"
          ],
          "name": "stdout"
        }
      ]
    },
    {
      "cell_type": "markdown",
      "metadata": {
        "id": "EOIj2zsqs_qU"
      },
      "source": [
        "Let's see a full example with a proper corpus. NLTK provides many corpora that can be used for research or for the training of our NLP system. To find a comprehensive list of all the corpus and how to use them, please refer to the [2nd Chapter of the NLTK book](https://www.nltk.org/book/ch02.html).\n",
        "\n",
        "We will use the corpus `state_union` including the texts of the State of the Union addresses since 1945. Let's load one of these speeches."
      ]
    },
    {
      "cell_type": "code",
      "metadata": {
        "id": "sERjdYVss_qU",
        "colab": {
          "base_uri": "https://localhost:8080/",
          "height": 137
        },
        "outputId": "99fc3c48-cf03-4139-a217-0c9cd7bc06d0"
      },
      "source": [
        "# Download and import the State of the Union adresses corpus\n",
        "nltk.download('state_union')\n",
        "from nltk.corpus import state_union\n",
        "\n",
        "text = state_union.raw(\"1946-Truman.txt\")\n",
        "text[:1000]"
      ],
      "execution_count": 65,
      "outputs": [
        {
          "output_type": "stream",
          "text": [
            "[nltk_data] Downloading package state_union to /root/nltk_data...\n",
            "[nltk_data]   Unzipping corpora/state_union.zip.\n"
          ],
          "name": "stderr"
        },
        {
          "output_type": "execute_result",
          "data": {
            "application/vnd.google.colaboratory.intrinsic+json": {
              "type": "string"
            },
            "text/plain": [
              "\"PRESIDENT HARRY S. TRUMAN'S MESSAGE TO THE CONGRESS ON THE STATE OF THE UNION AND ON THE BUDGET FOR 1946.\\n \\nJanuary 21, 1946. Dated January 14, 1946 \\n\\nTo the Congress of the United States:\\nA quarter century ago the Congress decided that it could no longer consider the financial programs of the various departments on a piecemeal basis. Instead it has called on the President to present a comprehensive Executive Budget. The Congress has shown its satisfaction with that method by extending the budget system and tightening its controls. The bigger and more complex the Federal Program, the more necessary it is for the Chief Executive to submit a single budget for action by the Congress.\\nAt the same time, it is clear that the budgetary program and the general program of the Government are actually inseparable. The President bears the responsibility for recommending to the Congress a comprehensive set of proposals on all Government activities and their financing. In formulating policies, as in\""
            ]
          },
          "metadata": {
            "tags": []
          },
          "execution_count": 65
        }
      ]
    },
    {
      "cell_type": "markdown",
      "metadata": {
        "id": "sZYGMNS9s_qV"
      },
      "source": [
        "We now define a function `tag_corpus` that takes care of the tagging process. First, it splits the text in sentences with the `sent_tokenize` function. Then, it iterates over these sentences, tokenize them with the `word_tokenize` function and apply the `pos_tag` function to the tokens."
      ]
    },
    {
      "cell_type": "code",
      "metadata": {
        "id": "YtGSf_P2s_qV",
        "colab": {
          "base_uri": "https://localhost:8080/"
        },
        "outputId": "b393db9b-f500-4ed7-f0f5-7175097e20df"
      },
      "source": [
        "def tag_corpus(corpus_text):\n",
        "    try:\n",
        "        for sentence in nltk.sent_tokenize(corpus_text)[:5]: # We just process 5 sentences for the sake of simplicity\n",
        "            words = nltk.word_tokenize(sentence)\n",
        "            tagged = nltk.pos_tag(words)\n",
        "            print(\"Sentence:\", sentence, \"\\nTagging:\", tagged)\n",
        "            print()\n",
        "\n",
        "    except Exception as e:\n",
        "        print(str(e))\n",
        "\n",
        "\n",
        "tag_corpus(text)"
      ],
      "execution_count": 66,
      "outputs": [
        {
          "output_type": "stream",
          "text": [
            "Sentence: PRESIDENT HARRY S. TRUMAN'S MESSAGE TO THE CONGRESS ON THE STATE OF THE UNION AND ON THE BUDGET FOR 1946. \n",
            "Tagging: [('PRESIDENT', 'NNP'), ('HARRY', 'NNP'), ('S.', 'NNP'), ('TRUMAN', 'NNP'), (\"'S\", 'POS'), ('MESSAGE', 'NN'), ('TO', 'VBD'), ('THE', 'NNP'), ('CONGRESS', 'NNP'), ('ON', 'NNP'), ('THE', 'NNP'), ('STATE', 'NNP'), ('OF', 'IN'), ('THE', 'NNP'), ('UNION', 'NNP'), ('AND', 'NNP'), ('ON', 'NNP'), ('THE', 'NNP'), ('BUDGET', 'NNP'), ('FOR', 'NNP'), ('1946', 'CD'), ('.', '.')]\n",
            "\n",
            "Sentence: January 21, 1946. \n",
            "Tagging: [('January', 'NNP'), ('21', 'CD'), (',', ','), ('1946', 'CD'), ('.', '.')]\n",
            "\n",
            "Sentence: Dated January 14, 1946 \n",
            "\n",
            "To the Congress of the United States:\n",
            "A quarter century ago the Congress decided that it could no longer consider the financial programs of the various departments on a piecemeal basis. \n",
            "Tagging: [('Dated', 'VBN'), ('January', 'NNP'), ('14', 'CD'), (',', ','), ('1946', 'CD'), ('To', 'TO'), ('the', 'DT'), ('Congress', 'NNP'), ('of', 'IN'), ('the', 'DT'), ('United', 'NNP'), ('States', 'NNPS'), (':', ':'), ('A', 'DT'), ('quarter', 'NN'), ('century', 'NN'), ('ago', 'IN'), ('the', 'DT'), ('Congress', 'NNP'), ('decided', 'VBD'), ('that', 'IN'), ('it', 'PRP'), ('could', 'MD'), ('no', 'RB'), ('longer', 'RB'), ('consider', 'VB'), ('the', 'DT'), ('financial', 'JJ'), ('programs', 'NNS'), ('of', 'IN'), ('the', 'DT'), ('various', 'JJ'), ('departments', 'NNS'), ('on', 'IN'), ('a', 'DT'), ('piecemeal', 'JJ'), ('basis', 'NN'), ('.', '.')]\n",
            "\n",
            "Sentence: Instead it has called on the President to present a comprehensive Executive Budget. \n",
            "Tagging: [('Instead', 'RB'), ('it', 'PRP'), ('has', 'VBZ'), ('called', 'VBN'), ('on', 'IN'), ('the', 'DT'), ('President', 'NNP'), ('to', 'TO'), ('present', 'VB'), ('a', 'DT'), ('comprehensive', 'JJ'), ('Executive', 'NNP'), ('Budget', 'NNP'), ('.', '.')]\n",
            "\n",
            "Sentence: The Congress has shown its satisfaction with that method by extending the budget system and tightening its controls. \n",
            "Tagging: [('The', 'DT'), ('Congress', 'NNP'), ('has', 'VBZ'), ('shown', 'VBN'), ('its', 'PRP$'), ('satisfaction', 'NN'), ('with', 'IN'), ('that', 'DT'), ('method', 'NN'), ('by', 'IN'), ('extending', 'VBG'), ('the', 'DT'), ('budget', 'NN'), ('system', 'NN'), ('and', 'CC'), ('tightening', 'VBG'), ('its', 'PRP$'), ('controls', 'NNS'), ('.', '.')]\n",
            "\n"
          ],
          "name": "stdout"
        }
      ]
    },
    {
      "cell_type": "markdown",
      "metadata": {
        "id": "T1prQElHs_qW"
      },
      "source": [
        "Same function in a more *pythonic* way"
      ]
    },
    {
      "cell_type": "code",
      "metadata": {
        "scrolled": true,
        "id": "mxOdSo2is_qW",
        "colab": {
          "base_uri": "https://localhost:8080/"
        },
        "outputId": "985b9eeb-2332-4115-b4e6-7317609edebc"
      },
      "source": [
        "def pythonized_tag_corpus(corpus_text):\n",
        "    try:\n",
        "        [print(\"Sentence:\", sentence, \"\\nTagging:\", nltk.pos_tag(nltk.word_tokenize(sentence)), \"\\n\") for sentence in nltk.sent_tokenize(corpus_text)[:5]]\n",
        "    except Exception as e:\n",
        "        print(str(e))\n",
        "        \n",
        "pythonized_tag_corpus(text)    "
      ],
      "execution_count": 67,
      "outputs": [
        {
          "output_type": "stream",
          "text": [
            "Sentence: PRESIDENT HARRY S. TRUMAN'S MESSAGE TO THE CONGRESS ON THE STATE OF THE UNION AND ON THE BUDGET FOR 1946. \n",
            "Tagging: [('PRESIDENT', 'NNP'), ('HARRY', 'NNP'), ('S.', 'NNP'), ('TRUMAN', 'NNP'), (\"'S\", 'POS'), ('MESSAGE', 'NN'), ('TO', 'VBD'), ('THE', 'NNP'), ('CONGRESS', 'NNP'), ('ON', 'NNP'), ('THE', 'NNP'), ('STATE', 'NNP'), ('OF', 'IN'), ('THE', 'NNP'), ('UNION', 'NNP'), ('AND', 'NNP'), ('ON', 'NNP'), ('THE', 'NNP'), ('BUDGET', 'NNP'), ('FOR', 'NNP'), ('1946', 'CD'), ('.', '.')] \n",
            "\n",
            "Sentence: January 21, 1946. \n",
            "Tagging: [('January', 'NNP'), ('21', 'CD'), (',', ','), ('1946', 'CD'), ('.', '.')] \n",
            "\n",
            "Sentence: Dated January 14, 1946 \n",
            "\n",
            "To the Congress of the United States:\n",
            "A quarter century ago the Congress decided that it could no longer consider the financial programs of the various departments on a piecemeal basis. \n",
            "Tagging: [('Dated', 'VBN'), ('January', 'NNP'), ('14', 'CD'), (',', ','), ('1946', 'CD'), ('To', 'TO'), ('the', 'DT'), ('Congress', 'NNP'), ('of', 'IN'), ('the', 'DT'), ('United', 'NNP'), ('States', 'NNPS'), (':', ':'), ('A', 'DT'), ('quarter', 'NN'), ('century', 'NN'), ('ago', 'IN'), ('the', 'DT'), ('Congress', 'NNP'), ('decided', 'VBD'), ('that', 'IN'), ('it', 'PRP'), ('could', 'MD'), ('no', 'RB'), ('longer', 'RB'), ('consider', 'VB'), ('the', 'DT'), ('financial', 'JJ'), ('programs', 'NNS'), ('of', 'IN'), ('the', 'DT'), ('various', 'JJ'), ('departments', 'NNS'), ('on', 'IN'), ('a', 'DT'), ('piecemeal', 'JJ'), ('basis', 'NN'), ('.', '.')] \n",
            "\n",
            "Sentence: Instead it has called on the President to present a comprehensive Executive Budget. \n",
            "Tagging: [('Instead', 'RB'), ('it', 'PRP'), ('has', 'VBZ'), ('called', 'VBN'), ('on', 'IN'), ('the', 'DT'), ('President', 'NNP'), ('to', 'TO'), ('present', 'VB'), ('a', 'DT'), ('comprehensive', 'JJ'), ('Executive', 'NNP'), ('Budget', 'NNP'), ('.', '.')] \n",
            "\n",
            "Sentence: The Congress has shown its satisfaction with that method by extending the budget system and tightening its controls. \n",
            "Tagging: [('The', 'DT'), ('Congress', 'NNP'), ('has', 'VBZ'), ('shown', 'VBN'), ('its', 'PRP$'), ('satisfaction', 'NN'), ('with', 'IN'), ('that', 'DT'), ('method', 'NN'), ('by', 'IN'), ('extending', 'VBG'), ('the', 'DT'), ('budget', 'NN'), ('system', 'NN'), ('and', 'CC'), ('tightening', 'VBG'), ('its', 'PRP$'), ('controls', 'NNS'), ('.', '.')] \n",
            "\n"
          ],
          "name": "stdout"
        }
      ]
    }
  ]
}